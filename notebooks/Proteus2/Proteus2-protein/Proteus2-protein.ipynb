{
 "cells": [
  {
   "cell_type": "markdown",
   "metadata": {},
   "source": [
    "## PROTEUS2 protein secondary structure analysis:\n",
    "\n",
    "### This is a notebook to organize and evaluate the output of peptide secondary structure prediction by [Proteus2](http://www.proteus2.ca/proteus2/), described in [Montgomerie et al., 2008](https://academic.oup.com/nar/article/36/suppl_2/W202/2506231) in _Nucleic Acids Research_. \n",
    "\n",
    "### The output of Proteus2 comes in an email in nominally FASTA format, but with extra line breaks and spacings within peptide and prediction sequences. \n",
    "\n",
    "#### They look like this:\n",
    "\n",
    "#### >1\n",
    "\n",
    "LPQVEGTGGD VQPSQDLVR\n",
    "CCCCCCCCCC CCCCCCCCC\n",
    "\n",
    "#### >2\n",
    "\n",
    "VIGQNEAVDA VSNAIR\n",
    "CCCCCCHHHH HHHCCC\n",
    "\n",
    "#### >3\n",
    "\n",
    "AIDLIDEAAS SIR\n",
    "CCCCCCCCCC CCC\n",
    "\n",
    "\n",
    "### Output means:\n",
    "\n",
    "- H = Helix\n",
    "- E = Beta Strand\n",
    "- C = Coil\n",
    "- T = Membrane helix\n",
    "- B = Membrane strand\n",
    "- S = Signal peptide\n",
    "- c = Cleavage site"
   ]
  },
  {
   "cell_type": "code",
   "execution_count": 1,
   "metadata": {},
   "outputs": [
    {
     "name": "stdout",
     "output_type": "stream",
     "text": [
      "/home/millieginty/Documents/git-repos/rot-mayer/analyses/proteus2\n"
     ]
    }
   ],
   "source": [
    "cd /home/millieginty/Documents/git-repos/rot-mayer/analyses/proteus2/"
   ]
  },
  {
   "cell_type": "code",
   "execution_count": 2,
   "metadata": {},
   "outputs": [
    {
     "data": {
      "text/plain": [
       "'1.0.5'"
      ]
     },
     "execution_count": 2,
     "metadata": {},
     "output_type": "execute_result"
    }
   ],
   "source": [
    "# LIBRARIES\n",
    "#import pandas library for working with tabular data\n",
    "import os\n",
    "os.getcwd()\n",
    "import pandas as pd\n",
    "import numpy as np\n",
    "import matplotlib.pyplot as plt\n",
    "import seaborn as sns\n",
    "from scipy.stats import kde\n",
    "#import regular expresson (regex)\n",
    "import re\n",
    "#check pandas version\n",
    "pd.__version__"
   ]
  },
  {
   "cell_type": "code",
   "execution_count": null,
   "metadata": {},
   "outputs": [],
   "source": []
  }
 ],
 "metadata": {
  "kernelspec": {
   "display_name": "Python 3",
   "language": "python",
   "name": "python3"
  },
  "language_info": {
   "codemirror_mode": {
    "name": "ipython",
    "version": 3
   },
   "file_extension": ".py",
   "mimetype": "text/x-python",
   "name": "python",
   "nbconvert_exporter": "python",
   "pygments_lexer": "ipython3",
   "version": "3.8.3"
  }
 },
 "nbformat": 4,
 "nbformat_minor": 4
}
