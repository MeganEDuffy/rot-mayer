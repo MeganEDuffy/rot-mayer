{
 "cells": [
  {
   "cell_type": "markdown",
   "metadata": {},
   "source": [
    "## PROTEUS2 protein secondary structure analysis:\n",
    "\n",
    "### This is a notebook to organize and evaluate the output of peptide secondary structure prediction by [Proteus2](http://www.proteus2.ca/proteus2/), described in [Montgomerie et al., 2008](https://academic.oup.com/nar/article/36/suppl_2/W202/2506231) in _Nucleic Acids Research_. \n",
    "\n",
    "### The input of Proteus2 requires a FASTA format. We get that for Peaks DB protein results, but our database as some X residues, which Proteus2 will not accept. "
   ]
  },
  {
   "cell_type": "code",
   "execution_count": 4,
   "metadata": {},
   "outputs": [
    {
     "name": "stdout",
     "output_type": "stream",
     "text": [
      "/home/millieginty/Documents/git-repos/rot-mayer/data/MED_Weissrot_Fusion_UWPR2021/MED_Weissrot_Fusion_322-T0dig-all_PEAKS_75\n"
     ]
    }
   ],
   "source": [
    "cd /home/millieginty/Documents/git-repos/rot-mayer/data/MED_Weissrot_Fusion_UWPR2021/MED_Weissrot_Fusion_322-T0dig-all_PEAKS_75/"
   ]
  },
  {
   "cell_type": "code",
   "execution_count": 5,
   "metadata": {},
   "outputs": [
    {
     "data": {
      "text/plain": [
       "'1.0.5'"
      ]
     },
     "execution_count": 5,
     "metadata": {},
     "output_type": "execute_result"
    }
   ],
   "source": [
    "# LIBRARIES\n",
    "#import pandas library for working with tabular data\n",
    "import os\n",
    "os.getcwd()\n",
    "import pandas as pd\n",
    "import numpy as np\n",
    "import matplotlib.pyplot as plt\n",
    "import seaborn as sns\n",
    "from scipy.stats import kde\n",
    "#import regular expresson (regex)\n",
    "import re\n",
    "#check pandas version\n",
    "pd.__version__"
   ]
  },
  {
   "cell_type": "code",
   "execution_count": 6,
   "metadata": {},
   "outputs": [
    {
     "name": "stdout",
     "output_type": "stream",
     "text": [
      "322-T0dig-all_PEAKS_75_DB-search-psm.csv\r\n",
      "322-T0dig-all_PEAKS_75_DNO.csv\r\n",
      "322-T0dig-all_PEAKS_75_DNO.xml\r\n",
      "322-T0dig-all_PEAKS_75_peptide.csv\r\n",
      "322-T0dig-all_PEAKS_75_peptides.pep.xml\r\n",
      "322-T0dig-all_PEAKS_75_peptide.xlsx\r\n",
      "322-T0dig-all_PEAKS_75_protein-peptides.csv\r\n",
      "322-T0dig-all_PEAKS_75_proteins.csv\r\n",
      "322-T0dig-all_PEAKS_75_proteins.fasta\r\n"
     ]
    }
   ],
   "source": [
    "ls"
   ]
  },
  {
   "cell_type": "code",
   "execution_count": 14,
   "metadata": {},
   "outputs": [
    {
     "name": "stdout",
     "output_type": "stream",
     "text": [
      ">gi|54036848|sp|P63284.1|CLPB_ECOLI RecName: Full=Chaperone protein ClpB; AltName: Full=Heat shock protein F84.1\r",
      "\r\n",
      "MRLDRLTNKFQLALADAQSLALGHDNQFIEPLHLMSALLNQEGGSVSPLL\r",
      "\r\n",
      "TSAGINAGQLRTDINQALNRLPQVEGTGGDVQPSQDLVRVLNLCDKLAQK\r",
      "\r\n",
      "RGDNFISSELFVLAALESRGTLADILKAAGATTANITQAIEQMRGGESVN\r",
      "\r\n",
      "DQGAEDQRQALKKYTIDLTERAEQGKLDPVIGRDEEIRRTIQVLQRRTKN\r",
      "\r\n",
      "NPVLIGEPGVGKTAIVEGLAQRIINGEVPEGLKGRRVLALDMGALVAGAK\r",
      "\r\n",
      "YRGEFEERLKGVLNDLAKQEGNVILFIDELHTMVGAGKADGAMDAGNMLK\r",
      "\r\n",
      "PALARGELHCVGATTLDEYRQYIEKDAALERRFQKVFVAEPSVEDTIAIL\r",
      "\r\n",
      "RGLKERYELHHHVQITDPAIVAAATLSHRYIADRQLPDKAIDLIDEAASS\r",
      "\r\n",
      "IRMQIDSKPEELDRLDRRIIQLKLEQQALMKESDEASKKRLDMLNEELSD\r",
      "\r\n",
      "KERQYSELEEEWKAEKASLSGTQTIKAELEQAKIAIEQARRVGDLARMSE\r",
      "\r\n",
      "LQYGKIPELEKQLEAATQLEGKTMRLLRNKVTDAEIAEVLARWTGIPVSR\r",
      "\r\n",
      "MMESEREKLLRMEQELHHRVIGQNEAVDAVSNAIRRSRAGLADPNRPIGS\r",
      "\r\n",
      "FLFLGPTGVGKTELCKALANFMFDSDEAMVRIDMSEFMEKHSVSRLVGAP\r",
      "\r\n",
      "PGYVGYEEGGYLTEAVRRRPYSVILLDEVEKAHPDVFNILLQVLDDGRLT\r",
      "\r\n",
      "DGQGRTVDFRNTVVIMTSNLGSDLIQERFGELDYAHMKELVLGVVSHNFR\r",
      "\r\n",
      "PEFINRIDEVVVFHPLGEQHIASIAQIQLKRLYKRLEERGYEIHISDEAL\r",
      "\r\n",
      "KLLSENGYDPVYGARPLKRAIQQQIENPLAQQILSGELVPGKVIRLEVNE\r",
      "\r\n",
      "DRIVAVQ\r",
      "\r\n",
      ">Thalassiosira_weissflogii_0201860518\r",
      "\r\n",
      "MMKLAALAALMGSAAAFAPAQTGKASTQLRAFEDELGAQPPLGFFDPFGM\r",
      "\r\n",
      "LSGDCTQERFDRLRYVEIKHGRICMLAFLGQIVTRAGIHLPGSINYAGDS\r",
      "\r\n",
      "FDSFPNGVAALFGPNSIPTAGLVQIIAFIGVLECAFMRDVPGTGNEFVGD\r",
      "\r\n",
      "FRNGYIDFGWDDFDEETKLQKRAXIQSGTISNMMKLAALAALMGSAAAFA\r",
      "\r\n",
      "PAQTGKASTQLRAFEDELGAQPPLGFFDPFGMLSGDCTQERFDRLRYVEI\r",
      "\r\n",
      "KHGRICMLAFLGQVVTRAGIHLPGSINYAGDSFDSFPNGVAALFGPNSIP\r",
      "\r\n",
      "TAGLVQMIAFIGVLECAFMRDVPGTGNEFVGDFRNGYIDFGWDDFDEETK\r",
      "\r\n",
      "LQKRAIELNNGRAAMMGILGLMVHEEIIPLGYDPDLPIIGHLQ\r",
      "\r\n",
      ">Thalassiosira_weissflogii_0203473996\r",
      "\r\n",
      "XGCRFEGSFERINVIIQSETISNMMKLAALAALMGSAAAFAPAQTGKAST\r",
      "\r\n"
     ]
    }
   ],
   "source": [
    "#look at the FASTA\n",
    "\n",
    "!head -30 322-T0dig-all_PEAKS_75_proteins.fasta"
   ]
  },
  {
   "cell_type": "code",
   "execution_count": 12,
   "metadata": {},
   "outputs": [],
   "source": [
    "# use sed to remove all occurances of X\n",
    "\n",
    "!sed 's/X//g' 322-T0dig-all_PEAKS_75_proteins.fasta > 322-T0dig-all_PEAKS_75_proteins-noX.fasta"
   ]
  },
  {
   "cell_type": "code",
   "execution_count": 13,
   "metadata": {},
   "outputs": [
    {
     "name": "stdout",
     "output_type": "stream",
     "text": [
      ">gi|54036848|sp|P63284.1|CLPB_ECOLI RecName: Full=Chaperone protein ClpB; AltName: Full=Heat shock protein F84.1\r",
      "\r\n",
      "MRLDRLTNKFQLALADAQSLALGHDNQFIEPLHLMSALLNQEGGSVSPLL\r",
      "\r\n",
      "TSAGINAGQLRTDINQALNRLPQVEGTGGDVQPSQDLVRVLNLCDKLAQK\r",
      "\r\n",
      "RGDNFISSELFVLAALESRGTLADILKAAGATTANITQAIEQMRGGESVN\r",
      "\r\n",
      "DQGAEDQRQALKKYTIDLTERAEQGKLDPVIGRDEEIRRTIQVLQRRTKN\r",
      "\r\n",
      "NPVLIGEPGVGKTAIVEGLAQRIINGEVPEGLKGRRVLALDMGALVAGAK\r",
      "\r\n",
      "YRGEFEERLKGVLNDLAKQEGNVILFIDELHTMVGAGKADGAMDAGNMLK\r",
      "\r\n",
      "PALARGELHCVGATTLDEYRQYIEKDAALERRFQKVFVAEPSVEDTIAIL\r",
      "\r\n",
      "RGLKERYELHHHVQITDPAIVAAATLSHRYIADRQLPDKAIDLIDEAASS\r",
      "\r\n",
      "IRMQIDSKPEELDRLDRRIIQLKLEQQALMKESDEASKKRLDMLNEELSD\r",
      "\r\n",
      "KERQYSELEEEWKAEKASLSGTQTIKAELEQAKIAIEQARRVGDLARMSE\r",
      "\r\n",
      "LQYGKIPELEKQLEAATQLEGKTMRLLRNKVTDAEIAEVLARWTGIPVSR\r",
      "\r\n",
      "MMESEREKLLRMEQELHHRVIGQNEAVDAVSNAIRRSRAGLADPNRPIGS\r",
      "\r\n",
      "FLFLGPTGVGKTELCKALANFMFDSDEAMVRIDMSEFMEKHSVSRLVGAP\r",
      "\r\n",
      "PGYVGYEEGGYLTEAVRRRPYSVILLDEVEKAHPDVFNILLQVLDDGRLT\r",
      "\r\n",
      "DGQGRTVDFRNTVVIMTSNLGSDLIQERFGELDYAHMKELVLGVVSHNFR\r",
      "\r\n",
      "PEFINRIDEVVVFHPLGEQHIASIAQIQLKRLYKRLEERGYEIHISDEAL\r",
      "\r\n",
      "KLLSENGYDPVYGARPLKRAIQQQIENPLAQQILSGELVPGKVIRLEVNE\r",
      "\r\n",
      "DRIVAVQ\r",
      "\r\n",
      ">Thalassiosira_weissflogii_0201860518\r",
      "\r\n",
      "MMKLAALAALMGSAAAFAPAQTGKASTQLRAFEDELGAQPPLGFFDPFGM\r",
      "\r\n",
      "LSGDCTQERFDRLRYVEIKHGRICMLAFLGQIVTRAGIHLPGSINYAGDS\r",
      "\r\n",
      "FDSFPNGVAALFGPNSIPTAGLVQIIAFIGVLECAFMRDVPGTGNEFVGD\r",
      "\r\n",
      "FRNGYIDFGWDDFDEETKLQKRAIQSGTISNMMKLAALAALMGSAAAFA\r",
      "\r\n",
      "PAQTGKASTQLRAFEDELGAQPPLGFFDPFGMLSGDCTQERFDRLRYVEI\r",
      "\r\n",
      "KHGRICMLAFLGQVVTRAGIHLPGSINYAGDSFDSFPNGVAALFGPNSIP\r",
      "\r\n",
      "TAGLVQMIAFIGVLECAFMRDVPGTGNEFVGDFRNGYIDFGWDDFDEETK\r",
      "\r\n",
      "LQKRAIELNNGRAAMMGILGLMVHEEIIPLGYDPDLPIIGHLQ\r",
      "\r\n",
      ">Thalassiosira_weissflogii_0203473996\r",
      "\r\n",
      "GCRFEGSFERINVIIQSETISNMMKLAALAALMGSAAAFAPAQTGKAST\r",
      "\r\n"
     ]
    }
   ],
   "source": [
    "# take a look\n",
    "\n",
    "!head -30 322-T0dig-all_PEAKS_75_proteins-noX.fasta"
   ]
  },
  {
   "cell_type": "markdown",
   "metadata": {},
   "source": [
    "### Now doing the same process for all samples"
   ]
  },
  {
   "cell_type": "markdown",
   "metadata": {},
   "source": [
    "### 323 Day 2 trypsin PeaksDB"
   ]
  },
  {
   "cell_type": "code",
   "execution_count": 15,
   "metadata": {},
   "outputs": [
    {
     "name": "stdout",
     "output_type": "stream",
     "text": [
      "/home/millieginty/Documents/git-repos/rot-mayer/data/MED_Weissrot_Fusion_UWPR2021/MED_Weissrot_Fusion_323-T2dig-all_PEAKS_77\n"
     ]
    }
   ],
   "source": [
    "cd /home/millieginty/Documents/git-repos/rot-mayer/data/MED_Weissrot_Fusion_UWPR2021/MED_Weissrot_Fusion_323-T2dig-all_PEAKS_77/"
   ]
  },
  {
   "cell_type": "code",
   "execution_count": 17,
   "metadata": {},
   "outputs": [],
   "source": [
    "# use sed to remove all occurances of X\n",
    "\n",
    "!sed 's/X//g' 323-T2dig-all_PEAKS_77_proteins.fasta > 323-T2dig-all_PEAKS_77_proteins-noX.fasta"
   ]
  },
  {
   "cell_type": "markdown",
   "metadata": {},
   "source": [
    "### 324 Day 5 trypsin PeaksDB"
   ]
  },
  {
   "cell_type": "code",
   "execution_count": 22,
   "metadata": {},
   "outputs": [
    {
     "name": "stdout",
     "output_type": "stream",
     "text": [
      "/home/millieginty/Documents/git-repos/rot-mayer/data/MED_Weissrot_Fusion_UWPR2021/MED_Weissrot_Fusion_324-T5dig-all_PEAKS_79\n"
     ]
    }
   ],
   "source": [
    "cd /home/millieginty/Documents/git-repos/rot-mayer/data/MED_Weissrot_Fusion_UWPR2021/MED_Weissrot_Fusion_324-T5dig-all_PEAKS_79/"
   ]
  },
  {
   "cell_type": "code",
   "execution_count": 24,
   "metadata": {},
   "outputs": [],
   "source": [
    "# use sed to remove all occurances of X\n",
    "\n",
    "!sed 's/X//g' 324-T5dig-all_PEAKS_79_proteins.fasta > 324-T5dig-all_PEAKS_79_proteins-noX.fasta"
   ]
  },
  {
   "cell_type": "markdown",
   "metadata": {},
   "source": [
    "### 325 Day 12 trypsin PeaksDB"
   ]
  },
  {
   "cell_type": "code",
   "execution_count": 26,
   "metadata": {},
   "outputs": [
    {
     "name": "stdout",
     "output_type": "stream",
     "text": [
      "/home/millieginty/Documents/git-repos/rot-mayer/data/MED_Weissrot_Fusion_UWPR2021/MED_Weissrot_Fusion_325-T12dig-all_PEAKS_81\n"
     ]
    }
   ],
   "source": [
    "cd /home/millieginty/Documents/git-repos/rot-mayer/data/MED_Weissrot_Fusion_UWPR2021/MED_Weissrot_Fusion_325-T12dig-all_PEAKS_81/"
   ]
  },
  {
   "cell_type": "code",
   "execution_count": 28,
   "metadata": {},
   "outputs": [],
   "source": [
    "# use sed to remove all occurances of X\n",
    "\n",
    "!sed 's/X//g' 325-T12dig-all_PEAKS_81_proteins.fasta > 325-T12dig-all_PEAKS_81_proteins-noX.fasta"
   ]
  },
  {
   "cell_type": "markdown",
   "metadata": {},
   "source": [
    "### 329 Day 0 undigested PeaksDB"
   ]
  },
  {
   "cell_type": "code",
   "execution_count": 30,
   "metadata": {},
   "outputs": [
    {
     "name": "stdout",
     "output_type": "stream",
     "text": [
      "/home/millieginty/Documents/git-repos/rot-mayer/data/MED_Weissrot_Fusion_UWPR2021/MED_Weissrot_Fusion_329-T0nd-all_PEAKS_91\n"
     ]
    }
   ],
   "source": [
    "cd /home/millieginty/Documents/git-repos/rot-mayer/data/MED_Weissrot_Fusion_UWPR2021/MED_Weissrot_Fusion_329-T0nd-all_PEAKS_91/"
   ]
  },
  {
   "cell_type": "code",
   "execution_count": 32,
   "metadata": {},
   "outputs": [],
   "source": [
    "# use sed to remove all occurances of X\n",
    "\n",
    "!sed 's/X//g' 329-T0nd-all_PEAKS_91_proteins.fasta > 329-T0nd-all_PEAKS_91_proteins-noX.fasta"
   ]
  },
  {
   "cell_type": "markdown",
   "metadata": {},
   "source": [
    "### 330 Day 2 undigested PeaksDB"
   ]
  },
  {
   "cell_type": "code",
   "execution_count": 33,
   "metadata": {},
   "outputs": [
    {
     "name": "stdout",
     "output_type": "stream",
     "text": [
      "/home/millieginty/Documents/git-repos/rot-mayer/data/MED_Weissrot_Fusion_UWPR2021/MED_Weissrot_Fusion_330-T2nd-all_PEAKS_94\n"
     ]
    }
   ],
   "source": [
    "cd /home/millieginty/Documents/git-repos/rot-mayer/data/MED_Weissrot_Fusion_UWPR2021/MED_Weissrot_Fusion_330-T2nd-all_PEAKS_94/"
   ]
  },
  {
   "cell_type": "code",
   "execution_count": 35,
   "metadata": {},
   "outputs": [],
   "source": [
    "# use sed to remove all occurances of X\n",
    "\n",
    "!sed 's/X//g' 330-T2nd-all_PEAKS_94_proteins.fasta > 330-T2nd-all_PEAKS_94_proteins-noX.fasta"
   ]
  },
  {
   "cell_type": "markdown",
   "metadata": {},
   "source": [
    "### 331 Day 5 undigested PeaksDB"
   ]
  },
  {
   "cell_type": "code",
   "execution_count": 36,
   "metadata": {},
   "outputs": [
    {
     "name": "stdout",
     "output_type": "stream",
     "text": [
      "/home/millieginty/Documents/git-repos/rot-mayer/data/MED_Weissrot_Fusion_UWPR2021/MED_Weissrot_Fusion_331-T5nd-all_PEAKS_99\n"
     ]
    }
   ],
   "source": [
    "cd /home/millieginty/Documents/git-repos/rot-mayer/data/MED_Weissrot_Fusion_UWPR2021/MED_Weissrot_Fusion_331-T5nd-all_PEAKS_99/"
   ]
  },
  {
   "cell_type": "code",
   "execution_count": 37,
   "metadata": {},
   "outputs": [
    {
     "name": "stdout",
     "output_type": "stream",
     "text": [
      "331-T5nd-all_PEAKS_99_DB-search-psm.csv\r\n",
      "331-T5nd-all_PEAKS_99_DNO.csv\r\n",
      "331-T5nd-all_PEAKS_99_peptide.csv\r\n",
      "331-T5nd-all_PEAKS_99_peptides_1_0_0.mzid\r\n",
      "331-T5nd-all_PEAKS_99_peptides.pep.xml\r\n",
      "331-T5nd-all_PEAKS_99_peptide.xlsx\r\n",
      "331-T5nd-all_PEAKS_99_protein-peptides.csv\r\n",
      "331-T5nd-all_PEAKS_99_proteins.csv\r\n",
      "331-T5nd-all_PEAKS_99_proteins.fasta\r\n"
     ]
    }
   ],
   "source": [
    "ls"
   ]
  },
  {
   "cell_type": "code",
   "execution_count": 38,
   "metadata": {},
   "outputs": [],
   "source": [
    "# use sed to remove all occurances of X\n",
    "\n",
    "!sed 's/X//g' 331-T5nd-all_PEAKS_99_proteins.fasta > 331-T5nd-all_PEAKS_99_proteins-noX.fasta"
   ]
  },
  {
   "cell_type": "markdown",
   "metadata": {},
   "source": [
    "### 332 Day 12 undigested PeaksDB"
   ]
  },
  {
   "cell_type": "code",
   "execution_count": 41,
   "metadata": {},
   "outputs": [
    {
     "name": "stdout",
     "output_type": "stream",
     "text": [
      "/home/millieginty/Documents/git-repos/rot-mayer/data/MED_Weissrot_Fusion_UWPR2021/MED_Weissrot_Fusion_332-T12nd-all_PEAKS_101\n"
     ]
    }
   ],
   "source": [
    "cd /home/millieginty/Documents/git-repos/rot-mayer/data/MED_Weissrot_Fusion_UWPR2021/MED_Weissrot_Fusion_332-T12nd-all_PEAKS_101/"
   ]
  },
  {
   "cell_type": "code",
   "execution_count": 43,
   "metadata": {},
   "outputs": [],
   "source": [
    "# use sed to remove all occurances of X\n",
    "\n",
    "!sed 's/X//g' 332-T12nd-all_PEAKS_101_proteins.fasta > 332-T12nd-all_PEAKS_101_proteins-noX.fasta"
   ]
  }
 ],
 "metadata": {
  "kernelspec": {
   "display_name": "Python 3",
   "language": "python",
   "name": "python3"
  },
  "language_info": {
   "codemirror_mode": {
    "name": "ipython",
    "version": 3
   },
   "file_extension": ".py",
   "mimetype": "text/x-python",
   "name": "python",
   "nbconvert_exporter": "python",
   "pygments_lexer": "ipython3",
   "version": "3.8.3"
  }
 },
 "nbformat": 4,
 "nbformat_minor": 4
}
