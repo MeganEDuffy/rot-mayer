{
 "cells": [
  {
   "cell_type": "markdown",
   "metadata": {},
   "source": [
    "## PROTEUS2 peptide secondary structure analysis:\n",
    "\n",
    "### This is a notebook to combine and evaluate the peptide secondary structure output for all algae rot proteomics samples\n",
    "\n",
    "### Output means:\n",
    "\n",
    "- H = Helix\n",
    "- E = Beta Strand\n",
    "- C = Coil\n",
    "- T = Membrane helix\n",
    "- B = Membrane strand\n",
    "- S = Signal peptide\n",
    "- c = Cleavage site"
   ]
  },
  {
   "cell_type": "code",
   "execution_count": 81,
   "metadata": {},
   "outputs": [
    {
     "name": "stdout",
     "output_type": "stream",
     "text": [
      "/home/millieginty/Documents/git-repos/rot-mayer/analyses/proteus2\n"
     ]
    }
   ],
   "source": [
    "cd /home/millieginty/Documents/git-repos/rot-mayer/analyses/proteus2/"
   ]
  },
  {
   "cell_type": "code",
   "execution_count": 82,
   "metadata": {},
   "outputs": [
    {
     "data": {
      "text/plain": [
       "'1.0.5'"
      ]
     },
     "execution_count": 82,
     "metadata": {},
     "output_type": "execute_result"
    }
   ],
   "source": [
    "# LIBRARIES\n",
    "#import pandas library for working with tabular data\n",
    "import os\n",
    "os.getcwd()\n",
    "import pandas as pd\n",
    "import numpy as np\n",
    "import matplotlib.pyplot as plt\n",
    "import seaborn as sns\n",
    "from scipy.stats import kde\n",
    "#import regular expresson (regex)\n",
    "import re\n",
    "#check pandas version\n",
    "pd.__version__"
   ]
  },
  {
   "cell_type": "code",
   "execution_count": 83,
   "metadata": {},
   "outputs": [
    {
     "name": "stdout",
     "output_type": "stream",
     "text": [
      "PeaksDB_322_trypsin_totals\r\n",
      "PeaksDB_323_trypsin_totals\r\n",
      "PeaksDB_324_trypsin_totals\r\n",
      "PeaksDB_325_trypsin_totals\r\n",
      "PeaksDB_329_undigested_totals\r\n",
      "PeaksDB_330_undigested_totals\r\n",
      "PeaksDB_331_undigested_totals\r\n",
      "PeaksDB_332_undigested_totals\r\n",
      "T0_322_trypsin_PeaksDB_proteus\r\n",
      "T0_322_trypsin_PeaksDB_proteus_sort.csv\r\n",
      "T0_322_trypsin_PeaksDB_proteus.txt\r\n",
      "T0_329_undigested_PeaksDB_proteus\r\n",
      "T0_329_undigested_PeaksDB_proteus_sort.csv\r\n",
      "T0_329_undigested_PeaksDB_proteus.txt\r\n",
      "T12_325_trypsin_PeaksDB_proteus\r\n",
      "T12_325_trypsin_PeaksDB_proteus_sort.csv\r\n",
      "T12_325_trypsin_PeaksDB_proteus.txt\r\n",
      "T12_332_undigested_PeaksDB_proteus\r\n",
      "T12_332_undigested_PeaksDB_proteus_sort.csv\r\n",
      "T12_332_undigested_PeaksDB_proteus.txt\r\n",
      "T2_323_trypsin_PeaksDB_proteus\r\n",
      "T2_323_trypsin_PeaksDB_proteus_sort.csv\r\n",
      "T2_323_trypsin_PeaksDB_proteus.txt\r\n",
      "T2_330_undigested_PeaksDB_proteus\r\n",
      "T2_330_undigested_PeaksDB_proteus_sort.csv\r\n",
      "T2_330_undigested_PeaksDB_proteus.txt\r\n",
      "T5_324_trypsin_PeaksDB_proteus\r\n",
      "T5_324_trypsin_PeaksDB_proteus_sort.csv\r\n",
      "T5_324_trypsin_PeaksDB_proteus.txt\r\n",
      "T5_331_undigested_PeaksDB_proteus\r\n",
      "T5_331_undigested_PeaksDB_proteus_sort.csv\r\n",
      "T5_331_undigested_PeaksDB_proteus.txt\r\n"
     ]
    }
   ],
   "source": [
    "ls"
   ]
  },
  {
   "cell_type": "code",
   "execution_count": 84,
   "metadata": {
    "scrolled": true
   },
   "outputs": [
    {
     "data": {
      "text/html": [
       "<div>\n",
       "<style scoped>\n",
       "    .dataframe tbody tr th:only-of-type {\n",
       "        vertical-align: middle;\n",
       "    }\n",
       "\n",
       "    .dataframe tbody tr th {\n",
       "        vertical-align: top;\n",
       "    }\n",
       "\n",
       "    .dataframe thead th {\n",
       "        text-align: right;\n",
       "    }\n",
       "</style>\n",
       "<table border=\"1\" class=\"dataframe\">\n",
       "  <thead>\n",
       "    <tr style=\"text-align: right;\">\n",
       "      <th></th>\n",
       "      <th>Timepoint</th>\n",
       "      <th>% coil</th>\n",
       "      <th>% helix</th>\n",
       "      <th>% beta</th>\n",
       "    </tr>\n",
       "  </thead>\n",
       "  <tbody>\n",
       "    <tr>\n",
       "      <th>0</th>\n",
       "      <td>T0</td>\n",
       "      <td>0.854189</td>\n",
       "      <td>0.011766</td>\n",
       "      <td>0.134046</td>\n",
       "    </tr>\n",
       "    <tr>\n",
       "      <th>1</th>\n",
       "      <td>T2</td>\n",
       "      <td>0.858164</td>\n",
       "      <td>0.006302</td>\n",
       "      <td>0.135535</td>\n",
       "    </tr>\n",
       "    <tr>\n",
       "      <th>2</th>\n",
       "      <td>T5</td>\n",
       "      <td>0.848341</td>\n",
       "      <td>0.010701</td>\n",
       "      <td>0.140958</td>\n",
       "    </tr>\n",
       "    <tr>\n",
       "      <th>3</th>\n",
       "      <td>T12</td>\n",
       "      <td>0.824231</td>\n",
       "      <td>0.018291</td>\n",
       "      <td>0.157478</td>\n",
       "    </tr>\n",
       "  </tbody>\n",
       "</table>\n",
       "</div>"
      ],
      "text/plain": [
       "  Timepoint    % coil   % helix    % beta\n",
       "0        T0  0.854189  0.011766  0.134046\n",
       "1        T2  0.858164  0.006302  0.135535\n",
       "2        T5  0.848341  0.010701  0.140958\n",
       "3       T12  0.824231  0.018291  0.157478"
      ]
     },
     "execution_count": 84,
     "metadata": {},
     "output_type": "execute_result"
    }
   ],
   "source": [
    "# For each of the algae rot samples, read in Proteus2 overall %'s csvs and combine\n",
    "\n",
    "PeaksDB_322_tryp = pd.read_csv(\"/home/millieginty/Documents/git-repos/rot-mayer/analyses/proteus2/PeaksDB_322_trypsin_totals\")\n",
    "PeaksDB_323_tryp = pd.read_csv(\"/home/millieginty/Documents/git-repos/rot-mayer/analyses/proteus2/PeaksDB_323_trypsin_totals\")\n",
    "PeaksDB_324_tryp = pd.read_csv(\"/home/millieginty/Documents/git-repos/rot-mayer/analyses/proteus2/PeaksDB_324_trypsin_totals\")\n",
    "PeaksDB_325_tryp = pd.read_csv(\"/home/millieginty/Documents/git-repos/rot-mayer/analyses/proteus2/PeaksDB_325_trypsin_totals\")\n",
    "\n",
    "frames = [PeaksDB_322_tryp, PeaksDB_323_tryp, PeaksDB_324_tryp, PeaksDB_325_tryp]\n",
    "\n",
    "index = ['PeaksDB_322_tryp', 'PeaksDB_323_tryp', 'PeaksDB_324_tryp', 'PeaksDB_325_tryp']\n",
    "\n",
    "# concatenate dataframes\n",
    "\n",
    "PeaksDB_Proteus_total = pd.concat(frames, sort=False, ignore_index=True)\n",
    "\n",
    "\n",
    "# delete useless columns\n",
    "\n",
    "del PeaksDB_Proteus_total['% C total']\n",
    "del PeaksDB_Proteus_total['% H total']\n",
    "del PeaksDB_Proteus_total['% E total']\n",
    "del PeaksDB_Proteus_total['% check sum']\n",
    "del PeaksDB_Proteus_total['overall % sum']\n",
    "\n",
    "# rename columns\n",
    "\n",
    "PeaksDB_Proteus_total.columns = ['sample', '% coil', '% helix', '% beta']\n",
    "\n",
    "PeaksDB_Proteus_total['Timepoint']= ['T0', 'T2', 'T5', 'T12']\n",
    "#PeaksDB_Proteus_total['Timepoint']= [0, 2, 5, 12]\n",
    "\n",
    "del PeaksDB_Proteus_total['sample']\n",
    "\n",
    "PeaksDB_Proteus_trypsin = PeaksDB_Proteus_total.reindex(columns= ['Timepoint', '% coil', '% helix', '% beta'])\n",
    "\n",
    "PeaksDB_Proteus_trypsin.head(8)"
   ]
  },
  {
   "cell_type": "code",
   "execution_count": 85,
   "metadata": {},
   "outputs": [
    {
     "data": {
      "text/html": [
       "<div>\n",
       "<style scoped>\n",
       "    .dataframe tbody tr th:only-of-type {\n",
       "        vertical-align: middle;\n",
       "    }\n",
       "\n",
       "    .dataframe tbody tr th {\n",
       "        vertical-align: top;\n",
       "    }\n",
       "\n",
       "    .dataframe thead th {\n",
       "        text-align: right;\n",
       "    }\n",
       "</style>\n",
       "<table border=\"1\" class=\"dataframe\">\n",
       "  <thead>\n",
       "    <tr style=\"text-align: right;\">\n",
       "      <th></th>\n",
       "      <th>Timepoint</th>\n",
       "      <th>% coil</th>\n",
       "      <th>% helix</th>\n",
       "      <th>% beta</th>\n",
       "    </tr>\n",
       "  </thead>\n",
       "  <tbody>\n",
       "    <tr>\n",
       "      <th>0</th>\n",
       "      <td>T0</td>\n",
       "      <td>0.939857</td>\n",
       "      <td>0.013016</td>\n",
       "      <td>0.047127</td>\n",
       "    </tr>\n",
       "    <tr>\n",
       "      <th>1</th>\n",
       "      <td>T2</td>\n",
       "      <td>0.882732</td>\n",
       "      <td>0.006648</td>\n",
       "      <td>0.110620</td>\n",
       "    </tr>\n",
       "    <tr>\n",
       "      <th>2</th>\n",
       "      <td>T5</td>\n",
       "      <td>0.919008</td>\n",
       "      <td>0.010458</td>\n",
       "      <td>0.070534</td>\n",
       "    </tr>\n",
       "    <tr>\n",
       "      <th>3</th>\n",
       "      <td>T12</td>\n",
       "      <td>0.814575</td>\n",
       "      <td>0.028227</td>\n",
       "      <td>0.157198</td>\n",
       "    </tr>\n",
       "  </tbody>\n",
       "</table>\n",
       "</div>"
      ],
      "text/plain": [
       "  Timepoint    % coil   % helix    % beta\n",
       "0        T0  0.939857  0.013016  0.047127\n",
       "1        T2  0.882732  0.006648  0.110620\n",
       "2        T5  0.919008  0.010458  0.070534\n",
       "3       T12  0.814575  0.028227  0.157198"
      ]
     },
     "execution_count": 85,
     "metadata": {},
     "output_type": "execute_result"
    }
   ],
   "source": [
    "# For each of the algae rot samples, read in Proteus2 overall %'s csvs and combine\n",
    "\n",
    "PeaksDB_322_undig = pd.read_csv(\"/home/millieginty/Documents/git-repos/rot-mayer/analyses/proteus2/PeaksDB_329_undigested_totals\")\n",
    "PeaksDB_323_undig = pd.read_csv(\"/home/millieginty/Documents/git-repos/rot-mayer/analyses/proteus2/PeaksDB_330_undigested_totals\")\n",
    "PeaksDB_324_undig = pd.read_csv(\"/home/millieginty/Documents/git-repos/rot-mayer/analyses/proteus2/PeaksDB_331_undigested_totals\")\n",
    "PeaksDB_325_undig = pd.read_csv(\"/home/millieginty/Documents/git-repos/rot-mayer/analyses/proteus2/PeaksDB_332_undigested_totals\")\n",
    "\n",
    "frames = [PeaksDB_322_undig, PeaksDB_323_undig, PeaksDB_324_undig, PeaksDB_325_undig]\n",
    "\n",
    "index = ['PeaksDB_322_undig', 'PeaksDB_323_undig', 'PeaksDB_324_undig', 'PeaksDB_325_undig']\n",
    "\n",
    "# concatenate dataframes\n",
    "\n",
    "PeaksDB_Proteus_total = pd.concat(frames, sort=False, ignore_index=True)\n",
    "\n",
    "# delete useless columns\n",
    "\n",
    "del PeaksDB_Proteus_total['% C total']\n",
    "del PeaksDB_Proteus_total['% H total']\n",
    "del PeaksDB_Proteus_total['% E total']\n",
    "del PeaksDB_Proteus_total['% check sum']\n",
    "del PeaksDB_Proteus_total['overall % sum']\n",
    "\n",
    "# rename columns\n",
    "\n",
    "PeaksDB_Proteus_total.columns = ['sample', '% coil', '% helix', '% beta']\n",
    "\n",
    "PeaksDB_Proteus_total['Timepoint']= ['T0', 'T2', 'T5', 'T12']\n",
    "\n",
    "del PeaksDB_Proteus_total['sample']\n",
    "\n",
    "PeaksDB_Proteus_undig = PeaksDB_Proteus_total.reindex(columns= ['Timepoint', '% coil', '% helix', '% beta'])\n",
    "\n",
    "PeaksDB_Proteus_undig.head(8)"
   ]
  },
  {
   "cell_type": "code",
   "execution_count": 107,
   "metadata": {},
   "outputs": [
    {
     "data": {
      "text/plain": [
       "[Text(0.0, 0, 'Day 0'),\n",
       " Text(0.2, 0, 'Day 2'),\n",
       " Text(0.4, 0, 'Day 5'),\n",
       " Text(0.6000000000000001, 0, 'Day 12')]"
      ]
     },
     "execution_count": 107,
     "metadata": {},
     "output_type": "execute_result"
    },
    {
     "data": {
      "image/png": "[encoded data removed]",
      "text/plain": [
       "<Figure size 1008x504 with 4 Axes>"
      ]
     },
     "metadata": {
      "needs_background": "light"
     },
     "output_type": "display_data"
    }
   ],
   "source": [
    "# plot secondary structure predictions\n",
    "\n",
    "colors = '#fc8d59', '#ffffbf', '#91bfdb'\n",
    "\n",
    "\n",
    "fig, axes = plt.subplots(figsize=(14, 7),nrows=2, ncols=2)\n",
    "plt.tight_layout()\n",
    "\n",
    "plt.subplots_adjust(left=None, bottom=None, right=None, top=None, wspace= 0.06, hspace= 0.35)\n",
    "\n",
    "PeaksDB_Proteus_trypsin.plot(ax=axes[0,0], kind='bar', stacked=True, \\\n",
    "                             color = colors, edgecolor = '#252525')\n",
    "\n",
    "PeaksDB_Proteus_undig.plot(ax=axes[0,1], kind='bar', stacked=True, \\\n",
    "                           color = colors, edgecolor = '#252525')\n",
    "\n",
    "axes[0,0].set_title('Trypsin digested PeaksDB', fontsize = 14)\n",
    "axes[0,0].set_ylabel(\"% of residues\", fontsize = 13)\n",
    "axes[0,0].set_xticklabels( ('Day 0', 'Day 2','Day 5', 'Day 12'), rotation = 45)\n",
    "\n",
    "axes[0,1].set_title('Undigested PeaksDB', fontsize = 14)\n",
    "axes[0,1].yaxis.set_ticks([])\n",
    "axes[0,1].set_ylabel(\"\")\n",
    "axes[0,1].set_xticklabels(('Day 0', 'Day 2','Day 5', 'Day 12'), rotation = 45)"
   ]
  },
  {
   "cell_type": "code",
   "execution_count": null,
   "metadata": {},
   "outputs": [],
   "source": []
  }
 ],
 "metadata": {
  "kernelspec": {
   "display_name": "Python 3",
   "language": "python",
   "name": "python3"
  },
  "language_info": {
   "codemirror_mode": {
    "name": "ipython",
    "version": 3
   },
   "file_extension": ".py",
   "mimetype": "text/x-python",
   "name": "python",
   "nbconvert_exporter": "python",
   "pygments_lexer": "ipython3",
   "version": "3.8.3"
  }
 },
 "nbformat": 4,
 "nbformat_minor": 4
}
