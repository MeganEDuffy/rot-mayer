{
 "cells": [
  {
   "cell_type": "markdown",
   "metadata": {},
   "source": [
    "### Used the Galaxy manipulation tool `Filter sequences by ID from a tabular file`to get just the _T.wesiss_ protein sequences that are 1) found on Day 12 and 2) from the chloroplast (most of them, all but 3 proteins)."
   ]
  },
  {
   "cell_type": "markdown",
   "metadata": {},
   "source": [
    "### PROTEUS2 protein secondary structure analysis of remanent (survivor) proteins:\n",
    "\n",
    "### This is a notebook to combine and evaluate the protein secondary structure output for Day 12 chloroplast protein sequences.\n",
    "\n",
    "### Output means:\n",
    "\n",
    "- H = Helix\n",
    "- E = Beta Strand\n",
    "- C = Coil\n",
    "- T = Membrane helix\n",
    "- B = Membrane strand\n",
    "- S = Signal peptide\n",
    "- c = Cleavage site"
   ]
  },
  {
   "cell_type": "code",
   "execution_count": 3,
   "metadata": {},
   "outputs": [
    {
     "name": "stdout",
     "output_type": "stream",
     "text": [
      "/home/millieginty/Documents/git-repos/rot-mayer/analyses/proteus2/Proteins-Proteus2\n"
     ]
    }
   ],
   "source": [
    "cd /home/millieginty/Documents/git-repos/rot-mayer/analyses/proteus2/Proteins-Proteus2/"
   ]
  },
  {
   "cell_type": "code",
   "execution_count": 2,
   "metadata": {},
   "outputs": [
    {
     "data": {
      "text/plain": [
       "'1.0.5'"
      ]
     },
     "execution_count": 2,
     "metadata": {},
     "output_type": "execute_result"
    }
   ],
   "source": [
    "# LIBRARIES\n",
    "#import pandas library for working with tabular data\n",
    "import os\n",
    "os.getcwd()\n",
    "import pandas as pd\n",
    "import numpy as np\n",
    "import matplotlib.pyplot as plt\n",
    "import seaborn as sns\n",
    "from scipy.stats import kde\n",
    "#import regular expresson (regex)\n",
    "import re\n",
    "#check pandas version\n",
    "pd.__version__"
   ]
  },
  {
   "cell_type": "markdown",
   "metadata": {},
   "source": [
    "### Galaxy wasn't letting me download the filtered fasta (see above), so I did so manually for the Day 12 DB diatom chloroplast/membrane proteins. Called `T12-325-trypsin-DB-diatom-membrane.fasta`.\n",
    "\n",
    "### Still have to remove any `X` residues, though, because Proteus2 will not accept sequences with them. Using `sed`:"
   ]
  },
  {
   "cell_type": "code",
   "execution_count": 4,
   "metadata": {},
   "outputs": [
    {
     "name": "stdout",
     "output_type": "stream",
     "text": [
      "PeaksDB_322_prot_trypsin_totals\r\n",
      "PeaksDB_323_prot_trypsin_totals\r\n",
      "PeaksDB_324_prot_trypsin_totals\r\n",
      "PeaksDB_325_prot_trypsin_totals\r\n",
      "PeaksDB_329_prot_undigested_totals\r\n",
      "PeaksDB_330_prot_undigested_totals\r\n",
      "PeaksDB_331_prot_undigested_totals\r\n",
      "PeaksDB_332_prot_undigested_totals\r\n",
      "T0_322_trypsin_PeaksDB_protein_proteus\r\n",
      "T0_322_trypsin_PeaksDB_protein_proteus_sort.csv\r\n",
      "T0_322_trypsin_PeaksDB_protein_proteus.txt\r\n",
      "T0_329_undigested_PeaksDB_protein_proteus\r\n",
      "T0_329_undigested_PeaksDB_protein_proteus_sort.csv\r\n",
      "T0_329_undigested_PeaksDB_protein_proteus.txt\r\n",
      "T12-325-trypsin-DB-diatom-membrane.fasta\r\n",
      "T12_325_trypsin_PeaksDB_protein_proteus\r\n",
      "T12_325_trypsin_PeaksDB_protein_proteus_sort.csv\r\n",
      "T12_325_trypsin_PeaksDB_protein_proteus.txt\r\n",
      "T12_332_undigested_PeaksDB_protein_proteus\r\n",
      "T12_332_undigested_PeaksDB_protein_proteus_sort.csv\r\n",
      "T12_332_undigested_PeaksDB_protein_proteus.txt\r\n",
      "T2_323_trypsin_PeaksDB_protein_proteus\r\n",
      "T2_323_trypsin_PeaksDB_protein_proteus_sort.csv\r\n",
      "T2_323_trypsin_PeaksDB_protein_proteus.txt\r\n",
      "T2_330_undigested_PeaksDB_protein_proteus\r\n",
      "T2_330_undigested_PeaksDB_protein_proteus_sort.csv\r\n",
      "T2_330_undigested_PeaksDB_protein_proteus.txt\r\n",
      "T5_324_trypsin_PeaksDB_protein_proteus\r\n",
      "T5_324_trypsin_PeaksDB_protein_proteus_sort.csv\r\n",
      "T5_324_trypsin_PeaksDB_protein_proteus.txt\r\n",
      "T5_331_undigested_PeaksDB_protein_proteus\r\n",
      "T5_331_undigested_PeaksDB_protein_proteus_sort.csv\r\n",
      "T5_331_undigested_PeaksDB_protein_proteus.txt\r\n"
     ]
    }
   ],
   "source": [
    "ls"
   ]
  },
  {
   "cell_type": "code",
   "execution_count": 5,
   "metadata": {},
   "outputs": [],
   "source": [
    "# use sed to remove all occurances of X\n",
    "\n",
    "!sed 's/X//g' T12-325-trypsin-DB-diatom-membrane.fasta > T12-325-trypsin-DB-diatom-membrane-noX.fasta"
   ]
  },
  {
   "cell_type": "code",
   "execution_count": 6,
   "metadata": {},
   "outputs": [
    {
     "name": "stdout",
     "output_type": "stream",
     "text": [
      ">Thalassiosira_weissflogii_0171421366 \r\n",
      "MKSAIIASLIAGAAAFAPTQTGRTPTSVSESKADLEAIASKANPFVKFYDPLNLAEQEFWGKSNEETIAWLRQSEIKHGRIAMFAFVGYIVQSNFVFPWAQTLAGAPHPSADLSPEAQWDAIPLGAKWQIFAVISMLELWDECGGGGAMPHYTKGRQPGKYPPFTLFRENVHFVLDLYDPFGFNKNMSAETKERRLVAELNNGRLAQLGIFGFLCADKIPGSVPVLNSIAIPYDGNPMIPFEGQFSYFN\r\n",
      ">Thalassiosira_weissflogii_0201829098 \r\n",
      "MMKLAALAALAGSAAAFAPSTGGRAVTSLSEKSVSLPFLETPPNTAGYVGDVGFDPFRFSDFIPVDFLREAELKHGRICMMAWLGFVAVDCGFRVYPIPEGFEGITAVQAHDAAVEQGGLSQMLLWFSLAEVFDLIAVVQMLEGSGRAPGDFGLDGGFLKGKSAAEIETMKLKEITHCRLAMFAFSGVVTQAVLTQGPFPYV\r\n",
      ">Thalassiosira_weissflogii_0201860448 \r\n",
      "HQRNLKMKLAVLAALFGSAAAFAPAQTGKATSALNAFESELGAQPPLGFFDPLGLLDDADQERFDRLRYVEIKHGRIAQLAFLGNIITRAGVHLPGNIDYAGNSFDSFPNGWAAILDAAFAPAQTGKATSALNAFESELGAQPPLGFFDPLGLLDDADQERFDRLRYVEIKHGRIAQLAFLGNIITRAGVHLPGNIDYAGNSFDSFPNGWAAISGPDAISGSGLGQIVAFVGFLELFVMKDVTGEGEFVGDFRNGALDFGWDKFDAETKLSKRAIELNNGRAAMMGILGLMVHEQLGGSLPIVGEM\r\n",
      ">Thalassiosira_weissflogii_0203152572 \r\n",
      "WAAISGPDAISGSGLGQIVAFVGFLELFVMKDVTGEGEFVGDFRNGALDFGWDKFDAETKLSKRAIELNNGRAAMMGILGLMVHEQLGGSLPIVGDM\r\n",
      ">Thalassiosira_weissflogii_0203172898 \r\n",
      "MMKLAALAALMGSAAAFAPAQTGKATTALNAFESELGAQPPLGFFDPLGLLDEAGQARFDRLRYVEIKHGRICQLAFLGNIITRAGIHLPGNIDTAGDSFDSYPNGFGALFGPDAIPQDGRLQILFFIGFLELFVMKDVTGQGEFVGDFRNGFIDFGWDKFDEETKLKKRAIELNNGRAAMMGILGLMVHEKLGGELPIVGPM\r\n",
      ">Thalassiosira_weissflogii_0203203762 \r\n",
      "RSLFAKMMKLAVLAAAAGSAAAFAPVQQGRTSTAVQAFENELGVIAPTGFFDPLGFTDGIDQEKFDQYRTAELKHGRVAQLAVIGYITPEIFRWGFDIAPGIPCADVPNGVAAINAIPALGWAQIIFAIGAVDVRGWLGDFDIGKPDLKGKEEERALQELQHGRLAMLAILELLRHDSQNLVKPGFDGLDTLITGFPFLYN\r\n",
      ">Thalassiosira_weissflogii_0203226722 \r\n",
      "IALVPNQAFAEIGGLTKCSESPAFTKRLNASVKKLEQRASQYEADSPPALALKQQIERTQARFD\r\n",
      ">Thalassiosira_weissflogii_0203265014 \r\n",
      "SKMKLAVLAALFGSAAAFAPAQTGKTTTALNAFESELGAQPPLGFFDPLGLLDDADQERFDRLRYVEIKHGRIAQLAFLGNIITRAGVHLPGNIDYAGDSFDSFPNGWAAISGPDAIPGAGFAQIVAFIGALELGVMKDVTGEAEFVGDFRNGALDFGWDSFDEETKLSKRAIELNNGRAAMMGILGLMVHEQLGGELPIVGPM\r\n",
      ">Thalassiosira_weissflogii_0203358160 \r\n",
      "MMKTLCLATIAASAAAFAPSQVGRASVALNEMSKSIPFLTVPEKLDGSMPGDMGFDPMGLSDIQTDLRYARWGELKNGRVAMLAVLGMVWQEYGPHLPGDAYATRDPWEAISSVGFGSNVQTLLAIGCIELANWNETFNGESRPGTLPGWEGPGWDKKSEAEKERLYTSEIVHCRLAMIAFIGATHQTFLLHKGLLDFSF\r\n",
      ">Thalassiosira_weissflogii_0203473996 \r\n",
      "GCRFEGSFERINVIIQSETISNMMKLAALAALMGSAAAFAPAQTGKASTQLRAFEDELGAQPPLGFFDPFGMLSGDCTQERFDRLRYVEIKHGRICMLAFLGQVVTRAGIHLPGSINYAGDSFDSFPNGVAALFGPNSIPTAGLVQIIAFIGVLECAFMRDVPGTGNEFVGDFRNGYIDFGWDDFDFFFCRLEHLYHSCSQISFGVNEEEVINLTNMMKLAALAALMGSAAAFAPAQTGKASTQLRAFEDELGAQPPLGFFDPFGMLSGDCTQERFDRLRYVEIKHGRICMLAFLGQIVTRAGIHLPGSINYAGDSFDSFPNGVAALFGPNSIPTAGLVQIIAFIGVLECAFMRDVPGTGNEFVGDFRNGYIDFGWDDFDEETKLQKRAIELNNGRAAMMGILGLMVHEEIIPLGYDPDLPIIGHLQ\r\n",
      ">Thalassiosira_weissflogii_0203508352 \r\n",
      "MAASVVQLNGTFGELGLRVELVPTEVKSSVAEVTDELAFSSDILHDEKLEETNKGDNLSKSGSGDGIRSRNGGPAVREGVEGVSSVVNVSGKVDSGTGNDVSKESKLSNTSVLDLDVTEAVEALLISIIEESKGVEESKRGLGTELRLEGVKGGSGLSGLGGGESGGRAEEGGEDSELHLEVALMILSNTSVLDLRVVVLSAGRTAVSIEAQTGKTTTALKKSPGPSSSHNFILRELSTKSSKMKLAVLAALFGSAAAFAPAQTGKTTTALNAFESELGAQPPLGFFDPLGLLDDADQERFDRLRYVEIKHGRIAQLAFLGNIITRAGVHLPGNIDYAGDSFDSFPNGWAAISGPDAIPGAGLAQIVAFIGALELGVMKDVTGEAEFVGDFRNGALDFGWDSFDEETKLSKRAIELNNGRAAMMGILGLMV\r\n",
      ">tr|A0A089VKF1|A0A089VKF1_THAWE ATP synthase subunit c, chloroplastic OS=Thalassiosira weissflogii O=1577725 GN=atpH PE=3 SV=1\r\n",
      "MDSIISAASVIAAGLAIGLAAIGPGIGQGNAAGQAVEGIARQPEAENKIRGTLLLSLAFMEALTIYGLVVALALLFANPFNS\r\n",
      ">tr|A0A089VKJ4|A0A089VKJ4_THAWE Photosystem I reaction center subunit I OS=Thalassiosira weissflogii O=1577725 GN=psaL PE=3 SV=1\r\n",
      "MANFIKPYNDDPFVGHLATPITSSSLTRTLLKNLPAYRFGLTPLLRGLEIGLAHGYFLIGPFANLGPLRNSDIGLLAGFFSTIGLILILTLGLTIYGAAAFGQEKSEGTDLQTKKSWDQFKGGFFVGACGSAGFAFICLSSIPAFSLN\r\n",
      ">tr|A0A089VP78|A0A089VP78_THAWE Photosystem II reaction center protein Z OS=Thalassiosira weissflogii O=1577725 GN=psbZ PE=3 SV=1\r\n",
      "MITALTALFVLVSLALVVTVPVALATPGDWESSKDQFNKVFQLWVGLVVAIATADGISSSI\r\n",
      ">tr|O96712|O96712_THAWE Fucoxanthin chlorophyll a/c binding protein (Fragment) OS=Thalassiosira weissflogii O=1577725 GN=FCP PE=4 SV=1\r\n",
      "RYVEIKHGRICMLAFLGQVVTRAGIHLPGSINYAGDSFDSFPNGVAALFGPNSIPTAGLVQMIAFIGVLECAFMRDVPGTGNEFVGDFRNGYIDFGWDDFDEETKLQKRAIE\r\n"
     ]
    }
   ],
   "source": [
    "# take a look\n",
    "\n",
    "!head -30 T12-325-trypsin-DB-diatom-membrane-noX.fasta"
   ]
  },
  {
   "cell_type": "markdown",
   "metadata": {},
   "source": [
    "### This worked! Proteus2 accepted the submission."
   ]
  },
  {
   "cell_type": "code",
   "execution_count": null,
   "metadata": {},
   "outputs": [],
   "source": []
  }
 ],
 "metadata": {
  "kernelspec": {
   "display_name": "Python 3",
   "language": "python",
   "name": "python3"
  },
  "language_info": {
   "codemirror_mode": {
    "name": "ipython",
    "version": 3
   },
   "file_extension": ".py",
   "mimetype": "text/x-python",
   "name": "python",
   "nbconvert_exporter": "python",
   "pygments_lexer": "ipython3",
   "version": "3.8.3"
  }
 },
 "nbformat": 4,
 "nbformat_minor": 4
}
