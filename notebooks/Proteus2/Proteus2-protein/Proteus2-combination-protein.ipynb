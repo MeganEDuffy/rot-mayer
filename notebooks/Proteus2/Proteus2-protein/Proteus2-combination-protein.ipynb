{
 "cells": [
  {
   "cell_type": "markdown",
   "metadata": {},
   "source": [
    "## PROTEUS2 protein secondary structure analysis:\n",
    "\n",
    "### This is a notebook to combine and evaluate the protein secondary structure output for all algae rot proteomics samples\n",
    "\n",
    "### Output means:\n",
    "\n",
    "- H = Helix\n",
    "- E = Beta Strand\n",
    "- C = Coil\n",
    "- T = Membrane helix\n",
    "- B = Membrane strand\n",
    "- S = Signal peptide\n",
    "- c = Cleavage site"
   ]
  },
  {
   "cell_type": "code",
   "execution_count": 1,
   "metadata": {},
   "outputs": [
    {
     "name": "stdout",
     "output_type": "stream",
     "text": [
      "/home/millieginty/Documents/git-repos/rot-mayer/analyses/proteus2/Proteins-Proteus2\n"
     ]
    }
   ],
   "source": [
    "cd /home/millieginty/Documents/git-repos/rot-mayer/analyses/proteus2/Proteins-Proteus2/"
   ]
  },
  {
   "cell_type": "code",
   "execution_count": 2,
   "metadata": {},
   "outputs": [
    {
     "data": {
      "text/plain": [
       "'1.0.5'"
      ]
     },
     "execution_count": 2,
     "metadata": {},
     "output_type": "execute_result"
    }
   ],
   "source": [
    "# LIBRARIES\n",
    "#import pandas library for working with tabular data\n",
    "import os\n",
    "os.getcwd()\n",
    "import pandas as pd\n",
    "import numpy as np\n",
    "import matplotlib.pyplot as plt\n",
    "import seaborn as sns\n",
    "from scipy.stats import kde\n",
    "#import regular expresson (regex)\n",
    "import re\n",
    "#check pandas version\n",
    "pd.__version__"
   ]
  },
  {
   "cell_type": "code",
   "execution_count": 3,
   "metadata": {},
   "outputs": [
    {
     "name": "stdout",
     "output_type": "stream",
     "text": [
      "PeaksDB_322_prot_trypsin_totals\r\n",
      "PeaksDB_323_prot_trypsin_totals\r\n",
      "PeaksDB_324_prot_trypsin_totals\r\n",
      "PeaksDB_325_prot_trypsin_totals\r\n",
      "PeaksDB_329_prot_undigested_totals\r\n",
      "PeaksDB_330_prot_undigested_totals\r\n",
      "PeaksDB_331_prot_undigested_totals\r\n",
      "PeaksDB_332_prot_undigested_totals\r\n",
      "T0_322_trypsin_PeaksDB_protein_proteus\r\n",
      "T0_322_trypsin_PeaksDB_protein_proteus_sort.csv\r\n",
      "T0_322_trypsin_PeaksDB_protein_proteus.txt\r\n",
      "T0_329_undigested_PeaksDB_protein_proteus\r\n",
      "T0_329_undigested_PeaksDB_protein_proteus_sort.csv\r\n",
      "T0_329_undigested_PeaksDB_protein_proteus.txt\r\n",
      "T12_325_trypsin_PeaksDB_protein_proteus\r\n",
      "T12_325_trypsin_PeaksDB_protein_proteus_sort.csv\r\n",
      "T12_325_trypsin_PeaksDB_protein_proteus.txt\r\n",
      "T12_332_undigested_PeaksDB_protein_proteus\r\n",
      "T12_332_undigested_PeaksDB_protein_proteus_sort.csv\r\n",
      "T12_332_undigested_PeaksDB_protein_proteus.txt\r\n",
      "T2_323_trypsin_PeaksDB_protein_proteus\r\n",
      "T2_323_trypsin_PeaksDB_protein_proteus_sort.csv\r\n",
      "T2_323_trypsin_PeaksDB_protein_proteus.txt\r\n",
      "T2_330_undigested_PeaksDB_protein_proteus\r\n",
      "T2_330_undigested_PeaksDB_protein_proteus_sort.csv\r\n",
      "T2_330_undigested_PeaksDB_protein_proteus.txt\r\n",
      "T5_324_trypsin_PeaksDB_protein_proteus\r\n",
      "T5_324_trypsin_PeaksDB_protein_proteus_sort.csv\r\n",
      "T5_324_trypsin_PeaksDB_protein_proteus.txt\r\n",
      "T5_331_undigested_PeaksDB_protein_proteus\r\n",
      "T5_331_undigested_PeaksDB_protein_proteus_sort.csv\r\n",
      "T5_331_undigested_PeaksDB_protein_proteus.txt\r\n"
     ]
    }
   ],
   "source": [
    "ls"
   ]
  },
  {
   "cell_type": "code",
   "execution_count": 4,
   "metadata": {
    "scrolled": true
   },
   "outputs": [
    {
     "data": {
      "text/html": [
       "<div>\n",
       "<style scoped>\n",
       "    .dataframe tbody tr th:only-of-type {\n",
       "        vertical-align: middle;\n",
       "    }\n",
       "\n",
       "    .dataframe tbody tr th {\n",
       "        vertical-align: top;\n",
       "    }\n",
       "\n",
       "    .dataframe thead th {\n",
       "        text-align: right;\n",
       "    }\n",
       "</style>\n",
       "<table border=\"1\" class=\"dataframe\">\n",
       "  <thead>\n",
       "    <tr style=\"text-align: right;\">\n",
       "      <th></th>\n",
       "      <th>Timepoint</th>\n",
       "      <th>% coil</th>\n",
       "      <th>% helix</th>\n",
       "      <th>% beta strand</th>\n",
       "      <th>% membrane helix</th>\n",
       "      <th>% membrane beta strand</th>\n",
       "      <th>% signal peptide</th>\n",
       "      <th>% cleavage site</th>\n",
       "    </tr>\n",
       "  </thead>\n",
       "  <tbody>\n",
       "    <tr>\n",
       "      <th>0</th>\n",
       "      <td>T0</td>\n",
       "      <td>0.545273</td>\n",
       "      <td>0.263762</td>\n",
       "      <td>0.150215</td>\n",
       "      <td>0.036318</td>\n",
       "      <td>0.004431</td>\n",
       "      <td>0.0</td>\n",
       "      <td>0.0</td>\n",
       "    </tr>\n",
       "    <tr>\n",
       "      <th>1</th>\n",
       "      <td>T2</td>\n",
       "      <td>0.561893</td>\n",
       "      <td>0.265334</td>\n",
       "      <td>0.144189</td>\n",
       "      <td>0.022626</td>\n",
       "      <td>0.005959</td>\n",
       "      <td>0.0</td>\n",
       "      <td>0.0</td>\n",
       "    </tr>\n",
       "    <tr>\n",
       "      <th>2</th>\n",
       "      <td>T5</td>\n",
       "      <td>0.533071</td>\n",
       "      <td>0.234400</td>\n",
       "      <td>0.116947</td>\n",
       "      <td>0.110051</td>\n",
       "      <td>0.005531</td>\n",
       "      <td>0.0</td>\n",
       "      <td>0.0</td>\n",
       "    </tr>\n",
       "    <tr>\n",
       "      <th>3</th>\n",
       "      <td>T12</td>\n",
       "      <td>0.567525</td>\n",
       "      <td>0.228115</td>\n",
       "      <td>0.099824</td>\n",
       "      <td>0.092760</td>\n",
       "      <td>0.011776</td>\n",
       "      <td>0.0</td>\n",
       "      <td>0.0</td>\n",
       "    </tr>\n",
       "  </tbody>\n",
       "</table>\n",
       "</div>"
      ],
      "text/plain": [
       "  Timepoint    % coil   % helix  % beta strand  % membrane helix  \\\n",
       "0        T0  0.545273  0.263762       0.150215          0.036318   \n",
       "1        T2  0.561893  0.265334       0.144189          0.022626   \n",
       "2        T5  0.533071  0.234400       0.116947          0.110051   \n",
       "3       T12  0.567525  0.228115       0.099824          0.092760   \n",
       "\n",
       "   % membrane beta strand  % signal peptide  % cleavage site  \n",
       "0                0.004431               0.0              0.0  \n",
       "1                0.005959               0.0              0.0  \n",
       "2                0.005531               0.0              0.0  \n",
       "3                0.011776               0.0              0.0  "
      ]
     },
     "execution_count": 4,
     "metadata": {},
     "output_type": "execute_result"
    }
   ],
   "source": [
    "# For each of the algae rot samples, read in Proteus2 overall %'s csvs and combine\n",
    "\n",
    "PeaksDB_322_tryp = pd.read_csv(\"/home/millieginty/Documents/git-repos/rot-mayer/analyses/proteus2/Proteins-Proteus2/PeaksDB_322_prot_trypsin_totals\")\n",
    "PeaksDB_323_tryp = pd.read_csv(\"/home/millieginty/Documents/git-repos/rot-mayer/analyses/proteus2/Proteins-Proteus2/PeaksDB_323_prot_trypsin_totals\")\n",
    "PeaksDB_324_tryp = pd.read_csv(\"/home/millieginty/Documents/git-repos/rot-mayer/analyses/proteus2/Proteins-Proteus2/PeaksDB_324_prot_trypsin_totals\")\n",
    "PeaksDB_325_tryp = pd.read_csv(\"/home/millieginty/Documents/git-repos/rot-mayer/analyses/proteus2/Proteins-Proteus2/PeaksDB_325_prot_trypsin_totals\")\n",
    "\n",
    "frames = [PeaksDB_322_tryp, PeaksDB_323_tryp, PeaksDB_324_tryp, PeaksDB_325_tryp]\n",
    "\n",
    "index = ['PeaksDB_322_tryp', 'PeaksDB_323_tryp', 'PeaksDB_324_tryp', 'PeaksDB_325_tryp']\n",
    "\n",
    "# concatenate dataframes\n",
    "\n",
    "PeaksDB_Proteus_total = pd.concat(frames, sort=False, ignore_index=True)\n",
    "\n",
    "\n",
    "# delete useless columns\n",
    "\n",
    "del PeaksDB_Proteus_total['% C total']\n",
    "del PeaksDB_Proteus_total['% H total']\n",
    "del PeaksDB_Proteus_total['% E total']\n",
    "del PeaksDB_Proteus_total['% T total']\n",
    "del PeaksDB_Proteus_total['% B total']\n",
    "del PeaksDB_Proteus_total['% S total']\n",
    "del PeaksDB_Proteus_total['% c total']\n",
    "del PeaksDB_Proteus_total['% check sum']\n",
    "del PeaksDB_Proteus_total['overall % sum']\n",
    "\n",
    "# rename columns\n",
    "\n",
    "PeaksDB_Proteus_total.columns = ['sample', '% coil', '% helix', '% beta strand', \\\n",
    "                                 '% membrane helix', '% membrane beta strand', '% signal peptide', '% cleavage site']\n",
    "\n",
    "PeaksDB_Proteus_total['Timepoint']= ['T0', 'T2', 'T5', 'T12']\n",
    "\n",
    "del PeaksDB_Proteus_total['sample']\n",
    "\n",
    "\n",
    "PeaksDB_Proteus_trypsin = PeaksDB_Proteus_total.reindex(columns= ['Timepoint', '% coil', '% helix', '% beta strand', \\\n",
    "                                 '% membrane helix', '% membrane beta strand', '% signal peptide', '% cleavage site'])\n",
    "\n",
    "PeaksDB_Proteus_trypsin.head(8)"
   ]
  },
  {
   "cell_type": "code",
   "execution_count": 5,
   "metadata": {},
   "outputs": [
    {
     "data": {
      "text/html": [
       "<div>\n",
       "<style scoped>\n",
       "    .dataframe tbody tr th:only-of-type {\n",
       "        vertical-align: middle;\n",
       "    }\n",
       "\n",
       "    .dataframe tbody tr th {\n",
       "        vertical-align: top;\n",
       "    }\n",
       "\n",
       "    .dataframe thead th {\n",
       "        text-align: right;\n",
       "    }\n",
       "</style>\n",
       "<table border=\"1\" class=\"dataframe\">\n",
       "  <thead>\n",
       "    <tr style=\"text-align: right;\">\n",
       "      <th></th>\n",
       "      <th>Timepoint</th>\n",
       "      <th>% coil</th>\n",
       "      <th>% helix</th>\n",
       "      <th>% beta strand</th>\n",
       "      <th>% membrane helix</th>\n",
       "      <th>% membrane beta strand</th>\n",
       "      <th>% signal peptide</th>\n",
       "      <th>% cleavage site</th>\n",
       "    </tr>\n",
       "  </thead>\n",
       "  <tbody>\n",
       "    <tr>\n",
       "      <th>0</th>\n",
       "      <td>T0</td>\n",
       "      <td>0.502537</td>\n",
       "      <td>0.302661</td>\n",
       "      <td>0.148803</td>\n",
       "      <td>0.039910</td>\n",
       "      <td>0.006090</td>\n",
       "      <td>0.000000</td>\n",
       "      <td>0.000000</td>\n",
       "    </tr>\n",
       "    <tr>\n",
       "      <th>1</th>\n",
       "      <td>T2</td>\n",
       "      <td>0.454376</td>\n",
       "      <td>0.311413</td>\n",
       "      <td>0.150657</td>\n",
       "      <td>0.059119</td>\n",
       "      <td>0.006275</td>\n",
       "      <td>0.017955</td>\n",
       "      <td>0.000204</td>\n",
       "    </tr>\n",
       "    <tr>\n",
       "      <th>2</th>\n",
       "      <td>T5</td>\n",
       "      <td>0.481984</td>\n",
       "      <td>0.264250</td>\n",
       "      <td>0.150803</td>\n",
       "      <td>0.098748</td>\n",
       "      <td>0.000131</td>\n",
       "      <td>0.000392</td>\n",
       "      <td>0.003692</td>\n",
       "    </tr>\n",
       "    <tr>\n",
       "      <th>3</th>\n",
       "      <td>T12</td>\n",
       "      <td>0.461742</td>\n",
       "      <td>0.310281</td>\n",
       "      <td>0.096020</td>\n",
       "      <td>0.131957</td>\n",
       "      <td>0.000000</td>\n",
       "      <td>0.000000</td>\n",
       "      <td>0.000000</td>\n",
       "    </tr>\n",
       "  </tbody>\n",
       "</table>\n",
       "</div>"
      ],
      "text/plain": [
       "  Timepoint    % coil   % helix  % beta strand  % membrane helix  \\\n",
       "0        T0  0.502537  0.302661       0.148803          0.039910   \n",
       "1        T2  0.454376  0.311413       0.150657          0.059119   \n",
       "2        T5  0.481984  0.264250       0.150803          0.098748   \n",
       "3       T12  0.461742  0.310281       0.096020          0.131957   \n",
       "\n",
       "   % membrane beta strand  % signal peptide  % cleavage site  \n",
       "0                0.006090          0.000000         0.000000  \n",
       "1                0.006275          0.017955         0.000204  \n",
       "2                0.000131          0.000392         0.003692  \n",
       "3                0.000000          0.000000         0.000000  "
      ]
     },
     "execution_count": 5,
     "metadata": {},
     "output_type": "execute_result"
    }
   ],
   "source": [
    "# For each of the algae rot samples, read in Proteus2 overall %'s csvs and combine\n",
    "\n",
    "PeaksDB_329_undig = pd.read_csv(\"/home/millieginty/Documents/git-repos/rot-mayer/analyses/proteus2/Proteins-Proteus2/PeaksDB_329_prot_undigested_totals\")\n",
    "PeaksDB_330_undig = pd.read_csv(\"/home/millieginty/Documents/git-repos/rot-mayer/analyses/proteus2/Proteins-Proteus2/PeaksDB_330_prot_undigested_totals\")\n",
    "PeaksDB_331_undig = pd.read_csv(\"/home/millieginty/Documents/git-repos/rot-mayer/analyses/proteus2/Proteins-Proteus2/PeaksDB_331_prot_undigested_totals\")\n",
    "PeaksDB_332_undig = pd.read_csv(\"/home/millieginty/Documents/git-repos/rot-mayer/analyses/proteus2/Proteins-Proteus2/PeaksDB_332_prot_undigested_totals\")\n",
    "\n",
    "frames = [PeaksDB_329_undig, PeaksDB_330_undig, PeaksDB_331_undig, PeaksDB_332_undig]\n",
    "\n",
    "index = ['PeaksDB_329_undig', 'PeaksDB_330_undig', 'PeaksDB_331_undig', 'PeaksDB_332_undig']\n",
    "\n",
    "# concatenate dataframes\n",
    "\n",
    "PeaksDB_Proteus_total = pd.concat(frames, sort=False, ignore_index=True)\n",
    "\n",
    "# delete useless columns\n",
    "\n",
    "del PeaksDB_Proteus_total['% C total']\n",
    "del PeaksDB_Proteus_total['% H total']\n",
    "del PeaksDB_Proteus_total['% E total']\n",
    "del PeaksDB_Proteus_total['% T total']\n",
    "del PeaksDB_Proteus_total['% B total']\n",
    "del PeaksDB_Proteus_total['% S total']\n",
    "del PeaksDB_Proteus_total['% c total']\n",
    "del PeaksDB_Proteus_total['% check sum']\n",
    "del PeaksDB_Proteus_total['overall % sum']\n",
    "\n",
    "# rename columns\n",
    "\n",
    "PeaksDB_Proteus_total.columns = ['sample', '% coil', '% helix', '% beta strand', \\\n",
    "                                 '% membrane helix', '% membrane beta strand', '% signal peptide', '% cleavage site']\n",
    "\n",
    "\n",
    "PeaksDB_Proteus_total['Timepoint']= ['T0', 'T2', 'T5', 'T12']\n",
    "\n",
    "del PeaksDB_Proteus_total['sample']\n",
    "\n",
    "PeaksDB_Proteus_undig = PeaksDB_Proteus_total.reindex(columns= ['Timepoint', '% coil', '% helix', '% beta strand', \\\n",
    "                                 '% membrane helix', '% membrane beta strand', '% signal peptide', '% cleavage site'])\n",
    "\n",
    "\n",
    "PeaksDB_Proteus_undig.head(8)"
   ]
  },
  {
   "cell_type": "code",
   "execution_count": 6,
   "metadata": {},
   "outputs": [
    {
     "data": {
      "text/plain": [
       "[Text(0.0, 0, 'Day 0'),\n",
       " Text(0.2, 0, 'Day 2'),\n",
       " Text(0.4, 0, 'Day 5'),\n",
       " Text(0.6000000000000001, 0, 'Day 12')]"
      ]
     },
     "execution_count": 6,
     "metadata": {},
     "output_type": "execute_result"
    },
    {
     "data": {
      "image/png": "[encoded data removed]",
      "text/plain": [
       "<Figure size 360x504 with 2 Axes>"
      ]
     },
     "metadata": {
      "needs_background": "light"
     },
     "output_type": "display_data"
    }
   ],
   "source": [
    "# plot secondary structure predictions\n",
    "\n",
    "colors = '#d73027', '#fc8d59', '#fee090', '#91cf60', '#e0f3f8', '#91bfdb', '#4575b4'\n",
    "\n",
    "\n",
    "fig, axes = plt.subplots(figsize=(5, 7),nrows=2, ncols=1)\n",
    "plt.tight_layout()\n",
    "\n",
    "plt.subplots_adjust(left=None, bottom=None, right=None, top=None, wspace= 0.9, hspace= 0.20)\n",
    "\n",
    "PeaksDB_Proteus_trypsin.plot(ax=axes[0], y = ['% coil', '% helix', '% beta strand', '% membrane helix', \\\n",
    "                                               '% membrane beta strand'], kind='bar', stacked=True, \\\n",
    "                             color = colors, edgecolor = '#252525')\n",
    "\n",
    "PeaksDB_Proteus_undig.plot(ax=axes[1], y = ['% coil', '% helix', '% beta strand', '% membrane helix', \\\n",
    "                                               '% membrane beta strand'], kind='bar', stacked=True, \\\n",
    "                           color = colors, edgecolor = '#252525')\n",
    "\n",
    "axes[0].set_title('Endogenous diatom proteins', fontsize = 14)\n",
    "axes[0].set_ylabel(\"% of residues\", fontsize = 13)\n",
    "axes[0].legend(bbox_to_anchor=(1,1), loc=\"upper left\", fontsize = 14)\n",
    "axes[0].set_xticklabels( ('', '','', ''), rotation = 45)\n",
    "\n",
    "axes[1].set_title('Exogenous diatom proteins', fontsize = 14)\n",
    "axes[1].set_ylabel(\"% of residues\", fontsize = 13)\n",
    "axes[1].get_legend().remove()\n",
    "axes[1].set_xticklabels(('Day 0', 'Day 2','Day 5', 'Day 12'), rotation = 45)"
   ]
  },
  {
   "cell_type": "code",
   "execution_count": null,
   "metadata": {},
   "outputs": [],
   "source": []
  }
 ],
 "metadata": {
  "kernelspec": {
   "display_name": "Python 3",
   "language": "python",
   "name": "python3"
  },
  "language_info": {
   "codemirror_mode": {
    "name": "ipython",
    "version": 3
   },
   "file_extension": ".py",
   "mimetype": "text/x-python",
   "name": "python",
   "nbconvert_exporter": "python",
   "pygments_lexer": "ipython3",
   "version": "3.8.3"
  }
 },
 "nbformat": 4,
 "nbformat_minor": 4
}
