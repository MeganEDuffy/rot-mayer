{
 "cells": [
  {
   "cell_type": "markdown",
   "metadata": {},
   "source": [
    "## Digesting protein fasta files into tryptic peptides \n",
    "\n",
    "### Goal: generate tryptic peptides from algal proteins identified via non-tryptic searches in order to use UniPept to map to GO terms. Couldn't do this from the non-trypic peptides because UniPept won't accept them.\n",
    "\n",
    "### Beginning with: fastas of proteins from non-trypsin digested samples\n",
    "### Using: python 2.7 script from https://github.com/yafeng/trypsin\n",
    "\n",
    "#### Their README:\n",
    "\n",
    "Note:\n",
    "\n",
    "    - The script is written under Python 2.7\n",
    "    - Biopython is prerequisite\n",
    "    - The trypsin digestion script shared here follows proline rule, which means it does not cut lysine (K) or arginine (R) if they are followed by proline (P).\n",
    "    - The program outputs a text format file which contains protein ID in the first column and corresponding tryptic peptides in the second column.\n",
    "\n",
    "How to use:\n",
    "\n",
    "    - Copy your fasta file and this script to same folder.\n",
    "    - Open a command terminal and cd to this folder.\n",
    "    - Type: python trypsin.py --input input_filename --output output_filename --miss 1\n",
    "\n",
    "Three arguments are:\n",
    "\n",
    "-input: name of your fasta file which contains protein sequences to be digested\n",
    "\n",
    "-output output txt file name\n",
    "\n",
    "-miss: number of allowed miss cleavage site, choose value from 0, 1, 2.\n",
    "\n",
    "Speed\n",
    "\n",
    "To digest Uniprot Human reference proteome (including canonical proteins and isoforms) which contains 88,717 proteins, the program finish within 22 seconds."
   ]
  },
  {
   "cell_type": "code",
   "execution_count": 1,
   "metadata": {},
   "outputs": [
    {
     "name": "stdout",
     "output_type": "stream",
     "text": [
      "3.8.3\n"
     ]
    }
   ],
   "source": [
    "from Bio import SeqIO\n",
    "from platform import python_version\n",
    "\n",
    "print(python_version())"
   ]
  },
  {
   "cell_type": "code",
   "execution_count": 2,
   "metadata": {},
   "outputs": [
    {
     "name": "stdout",
     "output_type": "stream",
     "text": [
      "in-silico-digest.ipynb\tREADME.md\t\t     trypsin.py\r\n",
      "LICENSE\t\t\tT0nd-all_329_proteins.fasta\r\n"
     ]
    }
   ],
   "source": [
    "# put the non-tryptic protein fastas in this subdirectory\n",
    "!ls"
   ]
  },
  {
   "cell_type": "code",
   "execution_count": 3,
   "metadata": {},
   "outputs": [
    {
     "name": "stdout",
     "output_type": "stream",
     "text": [
      "no change     /home/millieginty/anaconda3/condabin/conda\n",
      "no change     /home/millieginty/anaconda3/bin/conda\n",
      "no change     /home/millieginty/anaconda3/bin/conda-env\n",
      "no change     /home/millieginty/anaconda3/bin/activate\n",
      "no change     /home/millieginty/anaconda3/bin/deactivate\n",
      "no change     /home/millieginty/anaconda3/etc/profile.d/conda.sh\n",
      "no change     /home/millieginty/anaconda3/etc/fish/conf.d/conda.fish\n",
      "no change     /home/millieginty/anaconda3/shell/condabin/Conda.psm1\n",
      "no change     /home/millieginty/anaconda3/shell/condabin/conda-hook.ps1\n",
      "no change     /home/millieginty/anaconda3/lib/python3.8/site-packages/xontrib/conda.xsh\n",
      "no change     /home/millieginty/anaconda3/etc/profile.d/conda.csh\n",
      "no change     /home/millieginty/.bashrc\n",
      "No action taken.\n",
      "\n",
      "Note: you may need to restart the kernel to use updated packages.\n"
     ]
    }
   ],
   "source": [
    "conda init"
   ]
  },
  {
   "cell_type": "code",
   "execution_count": 4,
   "metadata": {},
   "outputs": [
    {
     "name": "stdout",
     "output_type": "stream",
     "text": [
      "\n",
      "CommandNotFoundError: Your shell has not been properly configured to use 'conda activate'.\n",
      "To initialize your shell, run\n",
      "\n",
      "    $ conda init <SHELL_NAME>\n",
      "\n",
      "Currently supported shells are:\n",
      "  - bash\n",
      "  - fish\n",
      "  - tcsh\n",
      "  - xonsh\n",
      "  - zsh\n",
      "  - powershell\n",
      "\n",
      "See 'conda init --help' for more information and options.\n",
      "\n",
      "IMPORTANT: You may need to close and restart your shell after running 'conda init'.\n",
      "\n",
      "\n",
      "\n",
      "Note: you may need to restart the kernel to use updated packages.\n"
     ]
    }
   ],
   "source": [
    "conda activate python27"
   ]
  },
  {
   "cell_type": "code",
   "execution_count": 5,
   "metadata": {},
   "outputs": [
    {
     "ename": "SyntaxError",
     "evalue": "invalid syntax (<ipython-input-5-9d692199f132>, line 1)",
     "output_type": "error",
     "traceback": [
      "\u001b[0;36m  File \u001b[0;32m\"<ipython-input-5-9d692199f132>\"\u001b[0;36m, line \u001b[0;32m1\u001b[0m\n\u001b[0;31m    trypsin.py --input T0nd-all_329_proteins.fasta --output T0nd-all_329_TD_proteins.txt --miss 0\u001b[0m\n\u001b[0m                       ^\u001b[0m\n\u001b[0;31mSyntaxError\u001b[0m\u001b[0;31m:\u001b[0m invalid syntax\n"
     ]
    }
   ],
   "source": [
    "trypsin.py --input T0nd-all_329_proteins.fasta --output T0nd-all_329_TD_proteins.txt --miss 0"
   ]
  },
  {
   "cell_type": "code",
   "execution_count": null,
   "metadata": {},
   "outputs": [],
   "source": []
  }
 ],
 "metadata": {
  "kernelspec": {
   "display_name": "Python 2",
   "language": "python",
   "name": "python2"
  },
  "language_info": {
   "codemirror_mode": {
    "name": "ipython",
    "version": 3
   },
   "file_extension": ".py",
   "mimetype": "text/x-python",
   "name": "python",
   "nbconvert_exporter": "python",
   "pygments_lexer": "ipython3",
   "version": "3.8.3"
  }
 },
 "nbformat": 4,
 "nbformat_minor": 4
}
