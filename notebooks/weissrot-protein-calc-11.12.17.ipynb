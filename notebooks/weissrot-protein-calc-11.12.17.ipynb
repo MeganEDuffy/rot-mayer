{
 "cells": [
  {
   "cell_type": "markdown",
   "metadata": {},
   "source": [
    "### Calculating the abundance/concentration of protein by crappy Lowry estimates in D0, D2 timepoints of *Thalassiosira weissfolgii* rot experiment (04.26.17-04 - 05.08.17) ###"
   ]
  },
  {
   "cell_type": "markdown",
   "metadata": {},
   "source": [
    "Extracted these samples (we have D0, D2, D5, D12 - I just extracted D0 and D2) for proteomics on 11.07.17. Filtered 100 mL of 250 mL suspension (ostensibly rot is 1 g/L organic matter at D0), see MED lab notebook for details. \n",
    "\n",
    "Used 1/2 of each 47 mm GF75 filter. Weights of filter in bead beating tubes: \n",
    "\n",
    "316-blank = 366 mg; \n",
    "\n",
    "317-D0 = 486 mg; \n",
    "\n",
    "318-D2 = 499 mg\n",
    "\n",
    "If we assume the 1/2 wet filter weight is 366 mg (probably not great, we should improve this later), then the mass of material extracted is:\n",
    "\n",
    "317: 120 mg\n",
    "\n",
    "318: 133 mg\n",
    "\n",
    "If the 1 g/mL dry weight at D0 is correct, then we've got a little more than half wet weight for these filtered samples. OK. We will just continue to assume we have 50 mg dry material extracted. \n",
    "\n",
    "On 11.11.17, performed crappy Lowry on 7x diluted samples 317+318 (just measured absorbances of samples w/o making and measuring std curve. Used curve calcs from 09.07.17 to estimate protein concentration.\n",
    "\n",
    "Protein estimates\n",
    "\n",
    "317: 137.39 ug/mL \n",
    "\n",
    "318: 128.09 ug/mL\n",
    "\n",
    "accounting for 7x dilution (I used 5 uL sample extract + 30 uL lysis buffer)\n",
    "\n",
    "317: 961.73 ug/mL\n",
    "\n",
    "318: 896.63 ug/mL\n",
    "\n",
    "This is the concentration in the 1 mL extract. So the total protein in the extract is those same #s. Going with the dry weight assumptions of 50 mg total, the protein concentrations of the dry material are:\n",
    "\n",
    "317: 19.23 ug/mg dry weight\n",
    "\n",
    "318: 17.93 ug/mg dry weight\n",
    "\n",
    "Then the %s protein would be:\n",
    "\n",
    "317: 1.92 % protein\n",
    "\n",
    "318: 1.79 % protein"
   ]
  },
  {
   "cell_type": "code",
   "execution_count": null,
   "metadata": {
    "collapsed": true
   },
   "outputs": [],
   "source": []
  }
 ],
 "metadata": {
  "anaconda-cloud": {},
  "kernelspec": {
   "display_name": "Python [default]",
   "language": "python",
   "name": "python3"
  },
  "language_info": {
   "codemirror_mode": {
    "name": "ipython",
    "version": 3
   },
   "file_extension": ".py",
   "mimetype": "text/x-python",
   "name": "python",
   "nbconvert_exporter": "python",
   "pygments_lexer": "ipython3",
   "version": "3.5.2"
  }
 },
 "nbformat": 4,
 "nbformat_minor": 1
}
