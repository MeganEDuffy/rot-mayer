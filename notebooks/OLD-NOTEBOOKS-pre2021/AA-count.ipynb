{
 "cells": [
  {
   "cell_type": "code",
   "execution_count": 1,
   "metadata": {
    "collapsed": false
   },
   "outputs": [
    {
     "name": "stdout",
     "output_type": "stream",
     "text": [
      "Fri Nov 17 12:50:44 PST 2017\r\n"
     ]
    }
   ],
   "source": [
    "!date"
   ]
  },
  {
   "cell_type": "code",
   "execution_count": 1,
   "metadata": {
    "collapsed": false
   },
   "outputs": [
    {
     "name": "stdout",
     "output_type": "stream",
     "text": [
      "Software:\r\n",
      "\r\n",
      "    System Software Overview:\r\n",
      "\r\n",
      "      System Version: macOS 10.13.1 (17B1003)\r\n",
      "      Kernel Version: Darwin 17.2.0\r\n",
      "      Boot Volume: Macintosh HD\r\n",
      "      Boot Mode: Normal\r\n",
      "      Computer Name: Megan’s MacBook Pro\r\n",
      "      User Name: Megan Duffy (meganduffy)\r\n",
      "      Secure Virtual Memory: Enabled\r\n",
      "      System Integrity Protection: Enabled\r\n",
      "      Time since boot: 19 days 5:02\r\n",
      "\r\n"
     ]
    }
   ],
   "source": [
    "!system_profiler SPSoftwareDataType"
   ]
  },
  {
   "cell_type": "code",
   "execution_count": 2,
   "metadata": {
    "collapsed": false
   },
   "outputs": [
    {
     "name": "stdout",
     "output_type": "stream",
     "text": [
      "020818-d12-peptides.csv\r\n",
      "020818-d5-peptides.csv\r\n",
      "111717-d0-peptides.csv\r\n",
      "111717-d2-peptides.csv\r\n",
      "weissrot_dn-tryp-d0-peptides-nm-comb.txt\r\n",
      "weissrot_dn-tryp-d2-peptides-nm-comb.txt\r\n"
     ]
    }
   ],
   "source": [
    "#i imported the 4 sample peptide-protein .csvs into the data directory from Keil GDrive (PEAKS-exports)\n",
    "\n",
    "! ls /Users/meganduffy/Documents/git-repos/rot-mayer/data/"
   ]
  },
  {
   "cell_type": "code",
   "execution_count": 3,
   "metadata": {
    "collapsed": false
   },
   "outputs": [
    {
     "name": "stdout",
     "output_type": "stream",
     "text": [
      "Peptide,-10lgP,Mass,Length,ppm,m/z,RT,Area 110717-weissrot-day0,Fraction,Scan,Source File,#Spec,#Spec 110717-weissrot-day0,Accession,PTM,AScore\r",
      "\r\n"
     ]
    }
   ],
   "source": [
    "#pretty sure the peptides are in column 1\n",
    "\n",
    "!head -1 /Users/meganduffy/Documents/git-repos/rot-mayer/data/111717-d0-peptides.csv"
   ]
  },
  {
   "cell_type": "code",
   "execution_count": 7,
   "metadata": {
    "collapsed": false
   },
   "outputs": [],
   "source": [
    "#using awk to extract column 4 into new file\n",
    "\n",
    "!awk -F \"\\\"*,\\\"*\" '{print $1}' /Users/meganduffy/Documents/git-repos/rot-mayer/data/111717-d0-peptides.csv \\\n",
    "> /Users/meganduffy/Documents/git-repos/rot-mayer/data/111717-d0-peps.csv\n"
   ]
  },
  {
   "cell_type": "code",
   "execution_count": 8,
   "metadata": {
    "collapsed": false
   },
   "outputs": [
    {
     "name": "stdout",
     "output_type": "stream",
     "text": [
      "Peptide\r\n",
      "ELSDIAHR\r\n",
      "ADLGIEVM(+15.99)HER\r\n",
      "KAQLGEVFEFDR\r\n",
      "ADLGIEVMHER\r\n",
      "EGIPPDQQR\r\n",
      "QLVGMR\r\n",
      "MTGPNPNK\r\n",
      "TPPSSGEPPK\r\n",
      "TSLESDGVFR\r\n"
     ]
    }
   ],
   "source": [
    "!head /Users/meganduffy/Documents/git-repos/rot-mayer/data/111717-d0-peps.csv"
   ]
  },
  {
   "cell_type": "code",
   "execution_count": 9,
   "metadata": {
    "collapsed": false
   },
   "outputs": [
    {
     "name": "stdout",
     "output_type": "stream",
     "text": [
      "     433 /Users/meganduffy/Documents/git-repos/rot-mayer/data/111717-d0-peps.csv\r\n"
     ]
    }
   ],
   "source": [
    "!wc -l /Users/meganduffy/Documents/git-repos/rot-mayer/data/111717-d0-peps.csv"
   ]
  },
  {
   "cell_type": "code",
   "execution_count": 10,
   "metadata": {
    "collapsed": true
   },
   "outputs": [],
   "source": [
    "!awk -F \"\\\"*,\\\"*\" '{print $1}' /Users/meganduffy/Documents/git-repos/rot-mayer/data/111717-d2-peptides.csv \\\n",
    "> /Users/meganduffy/Documents/git-repos/rot-mayer/data/111717-d2-peps.csv"
   ]
  },
  {
   "cell_type": "code",
   "execution_count": 11,
   "metadata": {
    "collapsed": false
   },
   "outputs": [
    {
     "name": "stdout",
     "output_type": "stream",
     "text": [
      "     494 /Users/meganduffy/Documents/git-repos/rot-mayer/data/111717-d2-peps.csv\r\n"
     ]
    }
   ],
   "source": [
    "!wc -l /Users/meganduffy/Documents/git-repos/rot-mayer/data/111717-d2-peps.csv"
   ]
  },
  {
   "cell_type": "code",
   "execution_count": 12,
   "metadata": {
    "collapsed": true
   },
   "outputs": [],
   "source": [
    "!awk -F \"\\\"*,\\\"*\" '{print $1}' /Users/meganduffy/Documents/git-repos/rot-mayer/data/020818-d5-peptides.csv \\\n",
    "> /Users/meganduffy/Documents/git-repos/rot-mayer/data/020818-d5-peps.csv"
   ]
  },
  {
   "cell_type": "code",
   "execution_count": 13,
   "metadata": {
    "collapsed": false
   },
   "outputs": [
    {
     "name": "stdout",
     "output_type": "stream",
     "text": [
      "      99 /Users/meganduffy/Documents/git-repos/rot-mayer/data/020818-d5-peps.csv\r\n"
     ]
    }
   ],
   "source": [
    "!wc -l /Users/meganduffy/Documents/git-repos/rot-mayer/data/020818-d5-peps.csv"
   ]
  },
  {
   "cell_type": "code",
   "execution_count": 14,
   "metadata": {
    "collapsed": true
   },
   "outputs": [],
   "source": [
    "!awk -F \"\\\"*,\\\"*\" '{print $1}' /Users/meganduffy/Documents/git-repos/rot-mayer/data/020818-d12-peptides.csv \\\n",
    "> /Users/meganduffy/Documents/git-repos/rot-mayer/data/020818-d12-peps.csv"
   ]
  },
  {
   "cell_type": "code",
   "execution_count": 15,
   "metadata": {
    "collapsed": false
   },
   "outputs": [
    {
     "name": "stdout",
     "output_type": "stream",
     "text": [
      "     161 /Users/meganduffy/Documents/git-repos/rot-mayer/data/020818-d12-peps.csv\r\n"
     ]
    }
   ],
   "source": [
    "!wc -l /Users/meganduffy/Documents/git-repos/rot-mayer/data/020818-d12-peps.csv"
   ]
  },
  {
   "cell_type": "code",
   "execution_count": 38,
   "metadata": {
    "collapsed": false
   },
   "outputs": [],
   "source": [
    "# remove '(+15.99)' and '(+57.02)' and '(0.98)' from sequences\n",
    "# rewrite to more descriptive file name (that includes 'peaks')\n",
    "!cat /Users/meganduffy/Documents/git-repos/rot-mayer/data/111717-d0-peps.csv\\\n",
    "| sed 's/(+15.99)//g' \\\n",
    "| sed 's/(+57.02)//g'\\\n",
    "| sed 's/(+.98)//g'\\\n",
    "> /Users/meganduffy/Documents/git-repos/rot-mayer/data/111717-d0-peps-nomod.csv"
   ]
  },
  {
   "cell_type": "code",
   "execution_count": 39,
   "metadata": {
    "collapsed": false
   },
   "outputs": [
    {
     "name": "stdout",
     "output_type": "stream",
     "text": [
      "Peptide\r\n",
      "ELSDIAHR\r\n",
      "ADLGIEVMHER\r\n",
      "KAQLGEVFEFDR\r\n",
      "ADLGIEVMHER\r\n",
      "EGIPPDQQR\r\n",
      "QLVGMR\r\n",
      "MTGPNPNK\r\n",
      "TPPSSGEPPK\r\n",
      "TSLESDGVFR\r\n"
     ]
    }
   ],
   "source": [
    "!head /Users/meganduffy/Documents/git-repos/rot-mayer/data/111717-d0-peps-nomod.csv"
   ]
  },
  {
   "cell_type": "code",
   "execution_count": 40,
   "metadata": {
    "collapsed": true
   },
   "outputs": [],
   "source": [
    "!sed -i -e \"1d\" /Users/meganduffy/Documents/git-repos/rot-mayer/data/111717-d0-peps-nomod.csv"
   ]
  },
  {
   "cell_type": "code",
   "execution_count": 41,
   "metadata": {
    "collapsed": false
   },
   "outputs": [
    {
     "name": "stdout",
     "output_type": "stream",
     "text": [
      "ELSDIAHR\r\n",
      "ADLGIEVMHER\r\n",
      "KAQLGEVFEFDR\r\n",
      "ADLGIEVMHER\r\n",
      "EGIPPDQQR\r\n",
      "QLVGMR\r\n",
      "MTGPNPNK\r\n",
      "TPPSSGEPPK\r\n",
      "TSLESDGVFR\r\n",
      "KAQLGEVFEF\r\n"
     ]
    }
   ],
   "source": [
    "!head /Users/meganduffy/Documents/git-repos/rot-mayer/data/111717-d0-peps-nomod.csv"
   ]
  },
  {
   "cell_type": "code",
   "execution_count": 58,
   "metadata": {
    "collapsed": false
   },
   "outputs": [],
   "source": [
    "# remove '(+15.99)' and '(+57.02)' and '(0.98)' from sequences\n",
    "# rewrite to more descriptive file name (that includes 'peaks')\n",
    "!cat /Users/meganduffy/Documents/git-repos/rot-mayer/data/111717-d2-peps.csv\\\n",
    "| sed 's/(+15.99)//g' \\\n",
    "| sed 's/(+57.02)//g'\\\n",
    "| sed 's/(+.98)//g'\\\n",
    "> /Users/meganduffy/Documents/git-repos/rot-mayer/data/111717-d2-peps-nomod.csv"
   ]
  },
  {
   "cell_type": "code",
   "execution_count": 59,
   "metadata": {
    "collapsed": true
   },
   "outputs": [],
   "source": [
    "!sed -i -e \"1d\" /Users/meganduffy/Documents/git-repos/rot-mayer/data/111717-d2-peps-nomod.csv"
   ]
  },
  {
   "cell_type": "code",
   "execution_count": 34,
   "metadata": {
    "collapsed": true
   },
   "outputs": [],
   "source": [
    "# remove '(+15.99)' and '(+57.02)' and '(0.98)' from sequences\n",
    "# rewrite to more descriptive file name (that includes 'peaks')\n",
    "!cat /Users/meganduffy/Documents/git-repos/rot-mayer/data/020818-d5-peps.csv\\\n",
    "| sed 's/(+15.99)//g' \\\n",
    "| sed 's/(+57.02)//g'\\\n",
    "| sed 's/(+.98)//g'\\\n",
    "> /Users/meganduffy/Documents/git-repos/rot-mayer/data/020818-d5-peps-nomod.csv"
   ]
  },
  {
   "cell_type": "code",
   "execution_count": 35,
   "metadata": {
    "collapsed": true
   },
   "outputs": [],
   "source": [
    "!sed -i -e \"1d\" /Users/meganduffy/Documents/git-repos/rot-mayer/data/020818-d5-peps-nomod.csv"
   ]
  },
  {
   "cell_type": "code",
   "execution_count": 52,
   "metadata": {
    "collapsed": true
   },
   "outputs": [],
   "source": [
    "# remove '(+15.99)' and '(+57.02)' and '(0.98)' from sequences\n",
    "# rewrite to more descriptive file name (that includes 'peaks')\n",
    "!cat /Users/meganduffy/Documents/git-repos/rot-mayer/data/020818-d12-peps.csv\\\n",
    "| sed 's/(+15.99)//g' \\\n",
    "| sed 's/(+57.02)//g'\\\n",
    "| sed 's/(+.98)//g'\\\n",
    "> /Users/meganduffy/Documents/git-repos/rot-mayer/data/020818-d12-peps-nomod.csv"
   ]
  },
  {
   "cell_type": "code",
   "execution_count": 53,
   "metadata": {
    "collapsed": true
   },
   "outputs": [],
   "source": [
    "!sed -i -e \"1d\" /Users/meganduffy/Documents/git-repos/rot-mayer/data/020818-d12-peps-nomod.csv "
   ]
  },
  {
   "cell_type": "code",
   "execution_count": 54,
   "metadata": {
    "collapsed": false
   },
   "outputs": [
    {
     "name": "stdout",
     "output_type": "stream",
     "text": [
      "NEAVDAVSNAIR\r\n",
      "WVGYGQDSR\r\n",
      "NNPVLIGEPGVGK\r\n",
      "TPPSSGEPPK\r\n",
      "VGDLARMSELQYGK\r\n",
      "SLGNFKLEGIPK\r\n",
      "NKPGVYTK\r\n",
      "RLLEGEESR\r\n",
      "IQKVCEGAACK\r\n",
      "SPVVSGDTSPR\r\n"
     ]
    }
   ],
   "source": [
    "!head /Users/meganduffy/Documents/git-repos/rot-mayer/data/020818-d12-peps-nomod.csv"
   ]
  },
  {
   "cell_type": "code",
   "execution_count": 55,
   "metadata": {
    "collapsed": false
   },
   "outputs": [],
   "source": [
    "#combine all sequences into a single line for relative AA counter:\n",
    "#get ride of spaces\n",
    "!echo $(cat /Users/meganduffy/Documents/git-repos/rot-mayer/data/111717-d0-peps-nomod.csv) \\\n",
    "| tr -d \" \\t\\n\\r\" > /Users/meganduffy/Documents/git-repos/rot-mayer/data/111717-d0-peps-nomod-comb.csv"
   ]
  },
  {
   "cell_type": "code",
   "execution_count": 56,
   "metadata": {
    "collapsed": false
   },
   "outputs": [
    {
     "name": "stdout",
     "output_type": "stream",
     "text": [
      "PeptideELSDIAHRADLGIEVMHERKAQLGEVFEFDRADLGIEVMHEREGIPPDQQRQLVGMRMTGPNPNKTPPSSGEPPKTSLESDGVFRKAQLGEVFEFDFLHSFILSEIAHRGGSISGGGYGSGGGKISEVCSRASLLADELKVMLSALRFIVDGWAAGKMPGGIYAIAHNLPTPGSSDPLIQVDTAFLMKEGVSLWERVGIVVSNKGSGGGSSGGSIGGRNANGEAVYCKDVFTGIGAEGLSHSVGGGGVRLIIPKLILPKSADIYPRFGGFGGPGGVGGLGMMPAALKGGSGGSYGRITDVERSLVERLDPNKALMGSNMQREWELSYRNRKNEILEMNKDVTMGCKPFMTRIDVILNNNKDPATVMFELQTQVSVLPEGFGTIRAAYSKIVEGTARREGVSLWERTIEDFQQKKSSMTLGAGGSSPSHKCGGTLPGFGYRTPCKGGIRVVQGFGNVGLHSMRLSSPATELVNLKALSLATPRLFAYPDTHRNEILEMNKGPNGLDINKIDTALIKAGDNVGILLRGDDVLLTKMSIIKEADLPEPSAPVLSDSSCKMVTHYAVSKILALCGETKVDNKESYSGVTLDPRMKNNLDPLRQVLDNLTMEKDLGEENFKGIVTELEITEGMKATALFFKEGVSLWERFLEGTVKNYCDRDIVHSGLAYTMERSARQIMRTAMKEDVPSERTDHGAEIVYKSEEEVAARQILEGGTVKMGDVEKNPGQAWPADKSDLDLMGNEVKSIIPSAGGGGGFGAAGGFGGRAIPSAYKASAATGEVKTNQELYKLCAGTGENKEAIPNMPIKAETLKFSFLPDLTDQQIEKAMVTAGSKGSFDPATVMFELNGRGGGGGGFRANSSTPGSGQGERGETIDYFAQRSGPMNKSAEDLDKLRYSTDVSVDEVKLAADDFRTKQVNVADTAYEKLTAEVENAKLASELNHVQEDGIIRADIPFRTAIVEGLAQRVIDANNSKGGDVQPSQDLVRTGEPALDLPKEINLEDHTFHTGGIFTSEARVENVYDSLNNVKKSCAAGYIRESDIGTGCGLFEMRCLNNRDLPDFVYKDRPGQHEAVDTLIDNGKDDSPDLPKCPLVKVLKSHGQDYLVLDELRKDSGFQMNQLRMVLLDGRYGSGGGGGGGRMSTELKDRPGQHGKGYPVKEVAGTANAFEPISVSSEQVLKFRDNERSGRTGPNPNKFLRDLESYKMAEEVEEERYSSLAEAASKGSDNTRMGGPKTTVLTPEQVKRSSGSSYPSLLKSWDQFKYPSWTFYIQVMTDPFNSHKTSLNRLVVNIDNAKVATVSLPRKTGGPQGSRDVDTAFLMKAKLQVLDADVLTTGAGNEADLPEPSEKGACLLPKIETMRIGDISVALEPMAATAAIENAETSKIIGGIAGTPMEDSKGLMADPSGEIMRDLIAKRIYWVDLERGIPDGHRAVVELHTADVALEAMVLARNEGQDYFNNQVGPQILRLELTLNFPKIVAVQLVAVQKNGTMPEVSAAASFRTPEAWNRLAGAAGYISSARSAASLNSRGRAAEVVQRDIDGYGGIALTLNDMRLGMDGYRSMIELSRQTALVELLKLHGPAVITMGGPKGYGSHTFKEALQIKMPEVSAAASFRGWYTFGHANEAALNDAKTGEPALDLPKISSYPGQIVPSTKNEMLEKQILENLTKSCHTAVDRFDSQSFYGPALRSIPTDNQIKEDELIGALARLSGKMMPAALKADIPFRQVEASVSEGLADIPFRRWDGQETTLVRETLLSQNQGGKIWVSDAYGITGKGGFEAATAKADPKSLAALEGATYDTFGGFGGPGGVGGLTIGSGMGGLIHTGENLPGFMIGREVDAAPPVDLTRSGPMNKVDEPSVKNDLEEALQQAKVCGTIDIEKEEHPGGEEVLRALVENNRGGGGLGSGGSIRTLEPNENDQRSLGVGFATRTMCGVLCRLENEIATYRIGGVMIMGDRIIGGIAGTPMEIVGHFEKEAAIAKADAKISVARGGGRKDVDGAYMTKSVTSRTGSSGAKQQGEAALNDAKCKLKAQLGPDESKLGANVSSAQGPTGLGLAGLEEALQKTDDPHPRATPNYLIGAVLIKSDLEAQMESLKTGESVSNPGLWSMPFGNTHNKFKGLFRSGPMNKAAAAGFEKKEQGNNKNEGQDYFNNQVGPQTLGPKTITPCISSPCFPKAEFAEVSKWLSEEQRDPAATSVAAARKDSAHGFLKVPPRVLGAFSDGLAHLDNLKWLPAMSERKDEKEQIKCELAAAMKDNLKGKSDAYGITGKQSPTSPERRQLDCVSGDRDISLSDYKGKMANQGMGPIMVLNSKEGGQLTEAVRLESTLAETDGRESSWIKISEGLNPQRQALEGLGDLKVEISVYEDRDPAATSVAAARKGAEPSGGAARGPLLSKNPKLLDQMETPLKPDLTDPKTMRLLRESDEASKKANKSSKSSGGVKSSGGSSSVRVGDLARGRCAALRTSIAVDLDPVIGRGDGIAEAWLGHPTIAANTLAANPEGGETPLFKAPVLSDSSCLHYFNARDIVHSGLAFDGILGMAYPRVVSEKWGGGKDGKVISSRGELETQPGRQPSGTGPEDTEGGRNHVCVEKSPGGSQEQRFDGILGMAYPRLIVALMKPSRTKYETELSLRGVIFYESHGKITIADCGQLENISEFSRLVAASQAALGLIITHPNFNGNTDLNMDCIVAEIKGACLLPKDKILAAAIDNPQTHLKMIATLERRIAAIYHRWSSTSSLVNSLGGFAKGEIATTESRLVESMAPGIISRFIDNILIQNNIQTKEAMAPKHKTVAVDGAGKEGINLTKTMSIKVGAVTETEMKNVVFDPRAAEFLVKSPRKPPMDEKSPGVYFEKGPCRPGGGRVIMLAQEEARRTISASSARFVMFKTYSKAMAELAAALDPPHQIMVVCSNPKGEVIGLLNFEKIVDDIEQKMGIPMGKGNGRVTEFKTGSSGAKEMKAEFVEVTKFRSGPMNKAAQKADVLTVLALDMGAAWRPPEPYKTDRPSQQLRSLLESEDCKLGVLPGLTQKQEIERQELEREASLGGGGGGKNKPGVYTKAEYIQAASGKYSSQLSQVQRAPLDNDIGVSEATRNLIENNLKDGADFAKADIPFLPLGATEDRIAVMDSNRFMQQQRRALPHFSKSGIIESVTADKSCQAQPTTMARDFGGGDGGLLSGNEKTDVQAWIRGCRAVLSITTGGSGSMVPVDPATYGQFISLGPRFSSGGFSGGSFSRELGFTGYPLKPEDDPNFFKEAIASTKSLVGLGGTKLINVSGKITMQNLNDRELVESTPKASTMSSELNEMLEKANKGLMPSPKAGFVYQGKASICDIPPKEMLGGPKGGSFQLNELQGLKDSAIGFSRVMPDGQFKLVAASQAALLYIIGTERFVGHLATPITSSSLTRETILAYGEHKTGPNLKPPMDEKLAPDNYPRAFEPGLLAKLACGVIGIAQAFDEKSSMTLGALNGQTFKADPSGEIMRFNAKTGMRSSIPAFSLNVEYIIRIESGTRLSNAYILRKDPLESIDSGDEQIKCLNNRENEISEESKAILMDLEPGTMEGGGEGRRAQLGPDESKWALEGFGASFTLKSLHTLFGDELGISCYRGLTGGFGSRLSDALGGGSMTVALEAMVLALKATQVSKSEDCFILFLIAAAATVEMLGGPKQQGEAALSDARAVLSITTGGSGSMYEIAALLSRIQVRLGEDILNAEKGLMADPSGEIVSMSKMPGGIYAIAHADLGIEFESSDASALSGEYAIKTPSLPTPPTWGTQGRFIVDGWAADKISQNNDDKEKCRPGGGRGLRDKEACVHKVLSMRPIDMIATLERREGVSLWERLDVDGIIAEIKNECFLQHKELTPEVLQEISEMRTGEGKNKGVFISPYLLPDGFDLTSEGFMKASDGKSYGQRNPLFNLVEKTFSSCSAVAPKALASLMTYKQELERLNLDQEITKDPATVMFERSLVERLDPNKCYLIFPVAAGKEGRELTVRIQILEGWKDPAATSVAAARVYSLNDDLKPAVEADIAGHHVGDLGNVTADK"
     ]
    }
   ],
   "source": [
    "!head /Users/meganduffy/Documents/git-repos/rot-mayer/data/111717-d0-peps-nomod-comb.csv"
   ]
  },
  {
   "cell_type": "markdown",
   "metadata": {},
   "source": [
    "### I'll need to take out the 'peptide' at the begining, but it's nescessary to add a header anyway. I'll just do that in a text editor ### "
   ]
  },
  {
   "cell_type": "code",
   "execution_count": 61,
   "metadata": {
    "collapsed": false
   },
   "outputs": [],
   "source": [
    "#combine all sequences into a single line for relative AA counter:\n",
    "#get ride of spaces\n",
    "!echo $(cat /Users/meganduffy/Documents/git-repos/rot-mayer/data/111717-d2-peps-nomod.csv) \\\n",
    "| tr -d \" \\t\\n\\r\" > /Users/meganduffy/Documents/git-repos/rot-mayer/data/111717-d2-peps-nomod-comb.txt"
   ]
  },
  {
   "cell_type": "code",
   "execution_count": 62,
   "metadata": {
    "collapsed": true
   },
   "outputs": [],
   "source": [
    "#combine all sequences into a single line for relative AA counter:\n",
    "#get ride of spaces\n",
    "!echo $(cat /Users/meganduffy/Documents/git-repos/rot-mayer/data/020818-d5-peps-nomod.csv) \\\n",
    "| tr -d \" \\t\\n\\r\" > /Users/meganduffy/Documents/git-repos/rot-mayer/data/020818-d5-peps-nomod-comb.txt"
   ]
  },
  {
   "cell_type": "code",
   "execution_count": 63,
   "metadata": {
    "collapsed": true
   },
   "outputs": [],
   "source": [
    "#combine all sequences into a single line for relative AA counter:\n",
    "#get ride of spaces\n",
    "!echo $(cat /Users/meganduffy/Documents/git-repos/rot-mayer/data/020818-d12-peps-nomod.csv) \\\n",
    "| tr -d \" \\t\\n\\r\" > /Users/meganduffy/Documents/git-repos/rot-mayer/data/020818-d12-peps-nomod-comb.txt"
   ]
  },
  {
   "cell_type": "code",
   "execution_count": 64,
   "metadata": {
    "collapsed": true
   },
   "outputs": [],
   "source": [
    "#combine all sequences into a single line for relative AA counter:\n",
    "#get ride of spaces\n",
    "!echo $(cat /Users/meganduffy/Documents/git-repos/rot-mayer/data/111717-d0-peps-nomod.csv) \\\n",
    "| tr -d \" \\t\\n\\r\" > /Users/meganduffy/Documents/git-repos/rot-mayer/data/111717-d0-peps-nomod-comb.txt"
   ]
  },
  {
   "cell_type": "code",
   "execution_count": null,
   "metadata": {
    "collapsed": true
   },
   "outputs": [],
   "source": []
  }
 ],
 "metadata": {
  "anaconda-cloud": {},
  "kernelspec": {
   "display_name": "Python [default]",
   "language": "python",
   "name": "python3"
  },
  "language_info": {
   "codemirror_mode": {
    "name": "ipython",
    "version": 3
   },
   "file_extension": ".py",
   "mimetype": "text/x-python",
   "name": "python",
   "nbconvert_exporter": "python",
   "pygments_lexer": "ipython3",
   "version": "3.5.2"
  }
 },
 "nbformat": 4,
 "nbformat_minor": 1
}
