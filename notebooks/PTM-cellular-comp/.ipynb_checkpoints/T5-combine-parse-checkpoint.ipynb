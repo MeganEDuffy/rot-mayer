{
 "cells": [
  {
   "cell_type": "markdown",
   "metadata": {},
   "source": [
    "## Evaluating the PTMs across peptides from different cellular compartments\n",
    "\n",
    "### Beginning with:\n",
    "\n",
    "    Exported peptides lists (.csvs) that contain the AAs with modifications. Want to combine peptides from the following:\n",
    "    \n",
    "     - from trypsin and no-digest searches\n",
    "     - from DB and DN searches\n",
    "     \n",
    "    From 8 samples (4 timepoints and 2 treatments, trypsin- and naturallyd-digested\n",
    "    \n",
    "     - 324: Day 0 trypsin digested\n",
    "     - 323: Day 2 trypsin digested\n",
    "     - 324: Day 5 trypsin digested\n",
    "     - 325: Day 12 trypsin digested\n",
    "     - 331: Day 0 undigested\n",
    "     - 330: Day 2 undigested\n",
    "     - 331: Day 5 undigested\n",
    "     - 332: Day 12 undigested\n",
    "    \n",
    "### Want:\n",
    "\n",
    "    Text files with all the stripped (no mod) peptides for the following modifications:\n",
    "        \n",
    "        - Lysine acetylation\n",
    "        - Asparagine demidation\n",
    "        - Arginine methylation\n",
    "        "
   ]
  },
  {
   "cell_type": "code",
   "execution_count": 1,
   "metadata": {},
   "outputs": [
    {
     "data": {
      "text/plain": [
       "'1.0.5'"
      ]
     },
     "execution_count": 1,
     "metadata": {},
     "output_type": "execute_result"
    }
   ],
   "source": [
    "# LIBRARIES\n",
    "#import pandas library for working with tabular data\n",
    "import os\n",
    "os.getcwd()\n",
    "import pandas as pd\n",
    "import numpy as np\n",
    "import matplotlib.pyplot as plt\n",
    "import seaborn as sns\n",
    "from scipy.stats import kde\n",
    "#import regular expresson (regex)\n",
    "import re\n",
    "#check pandas version\n",
    "pd.__version__"
   ]
  },
  {
   "cell_type": "markdown",
   "metadata": {},
   "source": [
    "## Combine 324"
   ]
  },
  {
   "cell_type": "code",
   "execution_count": 2,
   "metadata": {},
   "outputs": [
    {
     "name": "stdout",
     "output_type": "stream",
     "text": [
      "/home/millieginty/Documents/git-repos/rot-mayer/data/processed/PTM-cellular-compartment/to-combine/T5\n"
     ]
    }
   ],
   "source": [
    "cd /home/millieginty/Documents/git-repos/rot-mayer/data/processed/PTM-cellular-compartment/to-combine/T5/"
   ]
  },
  {
   "cell_type": "code",
   "execution_count": 3,
   "metadata": {},
   "outputs": [],
   "source": [
    "cat TW_324_T5_trypsin_noenz_combine_PTMopt_DB_FDR1_mod_peptides.txt TW_324_T5_trypsin_combine_PTMopt_DB_FDR1_mod_peptides.txt TW_324_T5_trypsin_combine_PTMopt_DN_mod_peptides.txt TW_324_T5_trypsin_noenz_combine_PTMopt_DN_mod_peptides.txt > all_324.csv"
   ]
  },
  {
   "cell_type": "code",
   "execution_count": 4,
   "metadata": {},
   "outputs": [
    {
     "name": "stdout",
     "output_type": "stream",
     "text": [
      "Total peptides: 7765\n"
     ]
    },
    {
     "data": {
      "text/html": [
       "<div>\n",
       "<style scoped>\n",
       "    .dataframe tbody tr th:only-of-type {\n",
       "        vertical-align: middle;\n",
       "    }\n",
       "\n",
       "    .dataframe tbody tr th {\n",
       "        vertical-align: top;\n",
       "    }\n",
       "\n",
       "    .dataframe thead th {\n",
       "        text-align: right;\n",
       "    }\n",
       "</style>\n",
       "<table border=\"1\" class=\"dataframe\">\n",
       "  <thead>\n",
       "    <tr style=\"text-align: right;\">\n",
       "      <th></th>\n",
       "      <th>Peptide</th>\n",
       "    </tr>\n",
       "  </thead>\n",
       "  <tbody>\n",
       "    <tr>\n",
       "      <th>0</th>\n",
       "      <td>VIGQNEAVDAVSNAIR</td>\n",
       "    </tr>\n",
       "    <tr>\n",
       "      <th>1</th>\n",
       "      <td>LPQVEGTGGDVQPSQDLVR</td>\n",
       "    </tr>\n",
       "    <tr>\n",
       "      <th>2</th>\n",
       "      <td>YPVFAQQGYSNPR</td>\n",
       "    </tr>\n",
       "    <tr>\n",
       "      <th>3</th>\n",
       "      <td>AGIHLPGSINYAGD</td>\n",
       "    </tr>\n",
       "    <tr>\n",
       "      <th>4</th>\n",
       "      <td>AIGPGIGQGNAAGQAVEGIAR</td>\n",
       "    </tr>\n",
       "  </tbody>\n",
       "</table>\n",
       "</div>"
      ],
      "text/plain": [
       "                 Peptide\n",
       "0       VIGQNEAVDAVSNAIR\n",
       "1    LPQVEGTGGDVQPSQDLVR\n",
       "2          YPVFAQQGYSNPR\n",
       "3         AGIHLPGSINYAGD\n",
       "4  AIGPGIGQGNAAGQAVEGIAR"
      ]
     },
     "execution_count": 4,
     "metadata": {},
     "output_type": "execute_result"
    }
   ],
   "source": [
    "# read in the combined datafile as a dataframe\n",
    "\n",
    "all_324 = pd.read_csv(\"all_324.csv\", header = None)\n",
    "\n",
    "all_324.columns = ['Peptide']\n",
    "\n",
    "print('Total peptides:', len(all_324))\n",
    "\n",
    "all_324.head()"
   ]
  },
  {
   "cell_type": "code",
   "execution_count": 5,
   "metadata": {},
   "outputs": [
    {
     "name": "stdout",
     "output_type": "stream",
     "text": [
      "Number of deamidated asparagine peptides: 1016\n"
     ]
    },
    {
     "name": "stderr",
     "output_type": "stream",
     "text": [
      "<ipython-input-5-cdea87032eee>:9: SettingWithCopyWarning: \n",
      "A value is trying to be set on a copy of a slice from a DataFrame.\n",
      "Try using .loc[row_indexer,col_indexer] = value instead\n",
      "\n",
      "See the caveats in the documentation: https://pandas.pydata.org/pandas-docs/stable/user_guide/indexing.html#returning-a-view-versus-a-copy\n",
      "  N_deam_324['stripped_peptide'] = N_deam_324['Peptide'].str.replace(r\"\\(.*\\)\",\"\").drop_duplicates()\n"
     ]
    },
    {
     "data": {
      "text/html": [
       "<div>\n",
       "<style scoped>\n",
       "    .dataframe tbody tr th:only-of-type {\n",
       "        vertical-align: middle;\n",
       "    }\n",
       "\n",
       "    .dataframe tbody tr th {\n",
       "        vertical-align: top;\n",
       "    }\n",
       "\n",
       "    .dataframe thead th {\n",
       "        text-align: right;\n",
       "    }\n",
       "</style>\n",
       "<table border=\"1\" class=\"dataframe\">\n",
       "  <thead>\n",
       "    <tr style=\"text-align: right;\">\n",
       "      <th></th>\n",
       "      <th>Peptide</th>\n",
       "      <th>stripped_peptide</th>\n",
       "    </tr>\n",
       "  </thead>\n",
       "  <tbody>\n",
       "    <tr>\n",
       "      <th>158</th>\n",
       "      <td>NN(+.98)PVLIGEPGVGK</td>\n",
       "      <td>NNPVLIGEPGVGK</td>\n",
       "    </tr>\n",
       "    <tr>\n",
       "      <th>238</th>\n",
       "      <td>LGEHN(+.98)IDVLEGN</td>\n",
       "      <td>LGEHNIDVLEGN</td>\n",
       "    </tr>\n",
       "    <tr>\n",
       "      <th>250</th>\n",
       "      <td>N(+.98)NPVLIGEPGVGK</td>\n",
       "      <td>NaN</td>\n",
       "    </tr>\n",
       "    <tr>\n",
       "      <th>284</th>\n",
       "      <td>LGEHNIDVLEGN(+.98)</td>\n",
       "      <td>NaN</td>\n",
       "    </tr>\n",
       "    <tr>\n",
       "      <th>495</th>\n",
       "      <td>EGTN(+.98)DIVLE</td>\n",
       "      <td>EGTNDIVLE</td>\n",
       "    </tr>\n",
       "  </tbody>\n",
       "</table>\n",
       "</div>"
      ],
      "text/plain": [
       "                 Peptide stripped_peptide\n",
       "158  NN(+.98)PVLIGEPGVGK    NNPVLIGEPGVGK\n",
       "238   LGEHN(+.98)IDVLEGN     LGEHNIDVLEGN\n",
       "250  N(+.98)NPVLIGEPGVGK              NaN\n",
       "284   LGEHNIDVLEGN(+.98)              NaN\n",
       "495      EGTN(+.98)DIVLE        EGTNDIVLE"
      ]
     },
     "execution_count": 5,
     "metadata": {},
     "output_type": "execute_result"
    }
   ],
   "source": [
    "# take all lines if they contain deamindated asparagines and make new df\n",
    "\n",
    "keep= [\"N\\(\\+.98\"]\n",
    "\n",
    "N_deam_324 = all_324[all_324.Peptide.str.contains('|'.join(keep))]\n",
    "\n",
    "# now strip the special characters of the modification\n",
    "\n",
    "N_deam_324['stripped_peptide'] = N_deam_324['Peptide'].str.replace(r\"\\(.*\\)\",\"\").drop_duplicates()\n",
    "\n",
    "print('Number of deamidated asparagine peptides:', len(N_deam_324))\n",
    "\n",
    "# keep only stripped peptide column\n",
    "ndeam_324_sp = N_deam_324[[\"stripped_peptide\"]].dropna()\n",
    "\n",
    "# write to txt file\n",
    "\n",
    "ndeam_324_sp.to_csv('324-T5-combined-n-deam-stripped-peptides.txt', header=False, index=False)\n",
    "\n",
    "N_deam_324.head()"
   ]
  },
  {
   "cell_type": "code",
   "execution_count": 6,
   "metadata": {},
   "outputs": [
    {
     "name": "stdout",
     "output_type": "stream",
     "text": [
      "Number of lysine acetylation peptides: 328\n"
     ]
    },
    {
     "name": "stderr",
     "output_type": "stream",
     "text": [
      "<ipython-input-6-7472347cf3be>:9: SettingWithCopyWarning: \n",
      "A value is trying to be set on a copy of a slice from a DataFrame.\n",
      "Try using .loc[row_indexer,col_indexer] = value instead\n",
      "\n",
      "See the caveats in the documentation: https://pandas.pydata.org/pandas-docs/stable/user_guide/indexing.html#returning-a-view-versus-a-copy\n",
      "  K_acet_324['stripped_peptide'] = K_acet_324['Peptide'].str.replace(r\"\\(.*\\)\",\"\").drop_duplicates()\n"
     ]
    },
    {
     "data": {
      "text/html": [
       "<div>\n",
       "<style scoped>\n",
       "    .dataframe tbody tr th:only-of-type {\n",
       "        vertical-align: middle;\n",
       "    }\n",
       "\n",
       "    .dataframe tbody tr th {\n",
       "        vertical-align: top;\n",
       "    }\n",
       "\n",
       "    .dataframe thead th {\n",
       "        text-align: right;\n",
       "    }\n",
       "</style>\n",
       "<table border=\"1\" class=\"dataframe\">\n",
       "  <thead>\n",
       "    <tr style=\"text-align: right;\">\n",
       "      <th></th>\n",
       "      <th>Peptide</th>\n",
       "      <th>stripped_peptide</th>\n",
       "    </tr>\n",
       "  </thead>\n",
       "  <tbody>\n",
       "    <tr>\n",
       "      <th>872</th>\n",
       "      <td>NGALDFGWDK(+15.99)FDAETK(+42.01)</td>\n",
       "      <td>NGALDFGWDK</td>\n",
       "    </tr>\n",
       "    <tr>\n",
       "      <th>1185</th>\n",
       "      <td>NGALDFGWDK(+42.01)FDAETK(+15.99)</td>\n",
       "      <td>NaN</td>\n",
       "    </tr>\n",
       "    <tr>\n",
       "      <th>1289</th>\n",
       "      <td>K(+42.01)LLLPK</td>\n",
       "      <td>KLLLPK</td>\n",
       "    </tr>\n",
       "    <tr>\n",
       "      <th>1340</th>\n",
       "      <td>K(+42.01)PEEVVK</td>\n",
       "      <td>KPEEVVK</td>\n",
       "    </tr>\n",
       "    <tr>\n",
       "      <th>1343</th>\n",
       "      <td>K(+42.01)ETSFAK</td>\n",
       "      <td>KETSFAK</td>\n",
       "    </tr>\n",
       "  </tbody>\n",
       "</table>\n",
       "</div>"
      ],
      "text/plain": [
       "                               Peptide stripped_peptide\n",
       "872   NGALDFGWDK(+15.99)FDAETK(+42.01)       NGALDFGWDK\n",
       "1185  NGALDFGWDK(+42.01)FDAETK(+15.99)              NaN\n",
       "1289                    K(+42.01)LLLPK           KLLLPK\n",
       "1340                   K(+42.01)PEEVVK          KPEEVVK\n",
       "1343                   K(+42.01)ETSFAK          KETSFAK"
      ]
     },
     "execution_count": 6,
     "metadata": {},
     "output_type": "execute_result"
    }
   ],
   "source": [
    "# take all lines if they contain lysine acetylations and make new df\n",
    "\n",
    "keep= [\"K\\(\\+42.01\"]\n",
    "\n",
    "K_acet_324 = all_324[all_324.Peptide.str.contains('|'.join(keep))]\n",
    "\n",
    "# now strip the special characters of the modification\n",
    "\n",
    "K_acet_324['stripped_peptide'] = K_acet_324['Peptide'].str.replace(r\"\\(.*\\)\",\"\").drop_duplicates()\n",
    "\n",
    "print('Number of lysine acetylation peptides:', len(K_acet_324))\n",
    "\n",
    "# keep only stripped peptide column\n",
    "kacet_324_sp = K_acet_324[[\"stripped_peptide\"]].dropna()\n",
    "\n",
    "# write to txt file\n",
    "\n",
    "kacet_324_sp.to_csv('324-T5-combined-k-acet-stripped-peptides.txt', header=False, index=False)\n",
    "\n",
    "K_acet_324.head()"
   ]
  },
  {
   "cell_type": "code",
   "execution_count": 7,
   "metadata": {},
   "outputs": [
    {
     "name": "stdout",
     "output_type": "stream",
     "text": [
      "Number of deamidated asparagine peptides: 427\n"
     ]
    },
    {
     "name": "stderr",
     "output_type": "stream",
     "text": [
      "<ipython-input-7-886f6ca65bd9>:9: SettingWithCopyWarning: \n",
      "A value is trying to be set on a copy of a slice from a DataFrame.\n",
      "Try using .loc[row_indexer,col_indexer] = value instead\n",
      "\n",
      "See the caveats in the documentation: https://pandas.pydata.org/pandas-docs/stable/user_guide/indexing.html#returning-a-view-versus-a-copy\n",
      "  R_meth_324['stripped_peptide'] = R_meth_324['Peptide'].str.replace(r\"\\(.*\\)\",\"\").drop_duplicates()\n"
     ]
    },
    {
     "data": {
      "text/html": [
       "<div>\n",
       "<style scoped>\n",
       "    .dataframe tbody tr th:only-of-type {\n",
       "        vertical-align: middle;\n",
       "    }\n",
       "\n",
       "    .dataframe tbody tr th {\n",
       "        vertical-align: top;\n",
       "    }\n",
       "\n",
       "    .dataframe thead th {\n",
       "        text-align: right;\n",
       "    }\n",
       "</style>\n",
       "<table border=\"1\" class=\"dataframe\">\n",
       "  <thead>\n",
       "    <tr style=\"text-align: right;\">\n",
       "      <th></th>\n",
       "      <th>Peptide</th>\n",
       "      <th>stripped_peptide</th>\n",
       "    </tr>\n",
       "  </thead>\n",
       "  <tbody>\n",
       "    <tr>\n",
       "      <th>1594</th>\n",
       "      <td>WSLAR(+14.02)AR</td>\n",
       "      <td>WSLARAR</td>\n",
       "    </tr>\n",
       "    <tr>\n",
       "      <th>1629</th>\n",
       "      <td>R(+14.02)PGC(+57.02)TPK</td>\n",
       "      <td>RTPK</td>\n",
       "    </tr>\n",
       "    <tr>\n",
       "      <th>1642</th>\n",
       "      <td>R(+14.02)LDN(+.98)ADC(+57.02)PR</td>\n",
       "      <td>RPR</td>\n",
       "    </tr>\n",
       "    <tr>\n",
       "      <th>1666</th>\n",
       "      <td>LLEDN(+.98)R(+14.02)</td>\n",
       "      <td>LLEDN</td>\n",
       "    </tr>\n",
       "    <tr>\n",
       "      <th>1720</th>\n",
       "      <td>R(+14.02)DATENPR</td>\n",
       "      <td>RDATENPR</td>\n",
       "    </tr>\n",
       "  </tbody>\n",
       "</table>\n",
       "</div>"
      ],
      "text/plain": [
       "                              Peptide stripped_peptide\n",
       "1594                  WSLAR(+14.02)AR          WSLARAR\n",
       "1629          R(+14.02)PGC(+57.02)TPK             RTPK\n",
       "1642  R(+14.02)LDN(+.98)ADC(+57.02)PR              RPR\n",
       "1666             LLEDN(+.98)R(+14.02)            LLEDN\n",
       "1720                 R(+14.02)DATENPR         RDATENPR"
      ]
     },
     "execution_count": 7,
     "metadata": {},
     "output_type": "execute_result"
    }
   ],
   "source": [
    "# take all lines if they contain methylated arginines and make new df\n",
    "\n",
    "keep= [\"R\\(\\+14.02\"]\n",
    "\n",
    "R_meth_324 = all_324[all_324.Peptide.str.contains('|'.join(keep))]\n",
    "\n",
    "# now strip the special characters of the modification\n",
    "\n",
    "R_meth_324['stripped_peptide'] = R_meth_324['Peptide'].str.replace(r\"\\(.*\\)\",\"\").drop_duplicates()\n",
    "\n",
    "print('Number of deamidated asparagine peptides:', len(R_meth_324))\n",
    "\n",
    "# keep only stripped peptide column\n",
    "rmeth_324_sp = R_meth_324[[\"stripped_peptide\"]].dropna()\n",
    "\n",
    "# write to txt file\n",
    "\n",
    "rmeth_324_sp.to_csv('324-T5-combined-r-meth-stripped-peptides.txt', header=False, index=False)\n",
    "\n",
    "R_meth_324.head()"
   ]
  },
  {
   "cell_type": "markdown",
   "metadata": {},
   "source": [
    "## Combine 331"
   ]
  },
  {
   "cell_type": "code",
   "execution_count": 8,
   "metadata": {},
   "outputs": [],
   "source": [
    "cat TW_331_T5_trypsin_noenz_combine_PTMopt_DN_mod_peptides.txt TW_331_T5_undig_noenz_combine_PTMopt_DB_FDR1_mod_peptides.txt > all_331.csv"
   ]
  },
  {
   "cell_type": "code",
   "execution_count": 9,
   "metadata": {},
   "outputs": [
    {
     "name": "stdout",
     "output_type": "stream",
     "text": [
      "Total peptides: 2326\n"
     ]
    },
    {
     "data": {
      "text/html": [
       "<div>\n",
       "<style scoped>\n",
       "    .dataframe tbody tr th:only-of-type {\n",
       "        vertical-align: middle;\n",
       "    }\n",
       "\n",
       "    .dataframe tbody tr th {\n",
       "        vertical-align: top;\n",
       "    }\n",
       "\n",
       "    .dataframe thead th {\n",
       "        text-align: right;\n",
       "    }\n",
       "</style>\n",
       "<table border=\"1\" class=\"dataframe\">\n",
       "  <thead>\n",
       "    <tr style=\"text-align: right;\">\n",
       "      <th></th>\n",
       "      <th>Peptide</th>\n",
       "    </tr>\n",
       "  </thead>\n",
       "  <tbody>\n",
       "    <tr>\n",
       "      <th>0</th>\n",
       "      <td>KFDEETK</td>\n",
       "    </tr>\n",
       "    <tr>\n",
       "      <th>1</th>\n",
       "      <td>FGGN(+.98)VLEVNK</td>\n",
       "    </tr>\n",
       "    <tr>\n",
       "      <th>2</th>\n",
       "      <td>DPN(+.98)LPLK(+42.01)H</td>\n",
       "    </tr>\n",
       "    <tr>\n",
       "      <th>3</th>\n",
       "      <td>VYLHPFHL</td>\n",
       "    </tr>\n",
       "    <tr>\n",
       "      <th>4</th>\n",
       "      <td>DDLPVVK</td>\n",
       "    </tr>\n",
       "  </tbody>\n",
       "</table>\n",
       "</div>"
      ],
      "text/plain": [
       "                  Peptide\n",
       "0                 KFDEETK\n",
       "1        FGGN(+.98)VLEVNK\n",
       "2  DPN(+.98)LPLK(+42.01)H\n",
       "3                VYLHPFHL\n",
       "4                 DDLPVVK"
      ]
     },
     "execution_count": 9,
     "metadata": {},
     "output_type": "execute_result"
    }
   ],
   "source": [
    "# read in the combined datafile as a dataframe\n",
    "\n",
    "all_331 = pd.read_csv(\"all_331.csv\", header = None)\n",
    "\n",
    "all_331.columns = ['Peptide']\n",
    "\n",
    "print('Total peptides:', len(all_331))\n",
    "\n",
    "all_331.head()"
   ]
  },
  {
   "cell_type": "code",
   "execution_count": 10,
   "metadata": {},
   "outputs": [
    {
     "name": "stdout",
     "output_type": "stream",
     "text": [
      "Number of deamidated asparagine peptides: 390\n"
     ]
    },
    {
     "name": "stderr",
     "output_type": "stream",
     "text": [
      "<ipython-input-10-05a4d942dc8d>:9: SettingWithCopyWarning: \n",
      "A value is trying to be set on a copy of a slice from a DataFrame.\n",
      "Try using .loc[row_indexer,col_indexer] = value instead\n",
      "\n",
      "See the caveats in the documentation: https://pandas.pydata.org/pandas-docs/stable/user_guide/indexing.html#returning-a-view-versus-a-copy\n",
      "  N_deam_331['stripped_peptide'] = N_deam_331['Peptide'].str.replace(r\"\\(.*\\)\",\"\").drop_duplicates()\n"
     ]
    },
    {
     "data": {
      "text/html": [
       "<div>\n",
       "<style scoped>\n",
       "    .dataframe tbody tr th:only-of-type {\n",
       "        vertical-align: middle;\n",
       "    }\n",
       "\n",
       "    .dataframe tbody tr th {\n",
       "        vertical-align: top;\n",
       "    }\n",
       "\n",
       "    .dataframe thead th {\n",
       "        text-align: right;\n",
       "    }\n",
       "</style>\n",
       "<table border=\"1\" class=\"dataframe\">\n",
       "  <thead>\n",
       "    <tr style=\"text-align: right;\">\n",
       "      <th></th>\n",
       "      <th>Peptide</th>\n",
       "      <th>stripped_peptide</th>\n",
       "    </tr>\n",
       "  </thead>\n",
       "  <tbody>\n",
       "    <tr>\n",
       "      <th>1</th>\n",
       "      <td>FGGN(+.98)VLEVNK</td>\n",
       "      <td>FGGNVLEVNK</td>\n",
       "    </tr>\n",
       "    <tr>\n",
       "      <th>2</th>\n",
       "      <td>DPN(+.98)LPLK(+42.01)H</td>\n",
       "      <td>DPNH</td>\n",
       "    </tr>\n",
       "    <tr>\n",
       "      <th>5</th>\n",
       "      <td>TEFN(+.98)VLLK</td>\n",
       "      <td>TEFNVLLK</td>\n",
       "    </tr>\n",
       "    <tr>\n",
       "      <th>6</th>\n",
       "      <td>EGN(+.98)VLEVR</td>\n",
       "      <td>EGNVLEVR</td>\n",
       "    </tr>\n",
       "    <tr>\n",
       "      <th>8</th>\n",
       "      <td>N(+.98)LERLE</td>\n",
       "      <td>NLERLE</td>\n",
       "    </tr>\n",
       "  </tbody>\n",
       "</table>\n",
       "</div>"
      ],
      "text/plain": [
       "                  Peptide stripped_peptide\n",
       "1        FGGN(+.98)VLEVNK       FGGNVLEVNK\n",
       "2  DPN(+.98)LPLK(+42.01)H             DPNH\n",
       "5          TEFN(+.98)VLLK         TEFNVLLK\n",
       "6          EGN(+.98)VLEVR         EGNVLEVR\n",
       "8            N(+.98)LERLE           NLERLE"
      ]
     },
     "execution_count": 10,
     "metadata": {},
     "output_type": "execute_result"
    }
   ],
   "source": [
    "# take all lines if they contain deamindated asparagines and make new df\n",
    "\n",
    "keep= [\"N\\(\\+.98\"]\n",
    "\n",
    "N_deam_331 = all_331[all_331.Peptide.str.contains('|'.join(keep))]\n",
    "\n",
    "# now strip the special characters of the modification\n",
    "\n",
    "N_deam_331['stripped_peptide'] = N_deam_331['Peptide'].str.replace(r\"\\(.*\\)\",\"\").drop_duplicates()\n",
    "\n",
    "print('Number of deamidated asparagine peptides:', len(N_deam_331))\n",
    "\n",
    "# keep only stripped peptide column\n",
    "ndeam_331_sp = N_deam_331[[\"stripped_peptide\"]].dropna()\n",
    "\n",
    "# write to txt file\n",
    "\n",
    "ndeam_331_sp.to_csv('331-T5-combined-n-deam-stripped-peptides.txt', header=False, index=False)\n",
    "\n",
    "N_deam_331.head()"
   ]
  },
  {
   "cell_type": "code",
   "execution_count": 11,
   "metadata": {},
   "outputs": [
    {
     "name": "stdout",
     "output_type": "stream",
     "text": [
      "Number of lysine acetylation peptides: 122\n"
     ]
    },
    {
     "name": "stderr",
     "output_type": "stream",
     "text": [
      "<ipython-input-11-7e76196d9f6f>:9: SettingWithCopyWarning: \n",
      "A value is trying to be set on a copy of a slice from a DataFrame.\n",
      "Try using .loc[row_indexer,col_indexer] = value instead\n",
      "\n",
      "See the caveats in the documentation: https://pandas.pydata.org/pandas-docs/stable/user_guide/indexing.html#returning-a-view-versus-a-copy\n",
      "  K_acet_331['stripped_peptide'] = K_acet_331['Peptide'].str.replace(r\"\\(.*\\)\",\"\").drop_duplicates()\n"
     ]
    },
    {
     "data": {
      "text/html": [
       "<div>\n",
       "<style scoped>\n",
       "    .dataframe tbody tr th:only-of-type {\n",
       "        vertical-align: middle;\n",
       "    }\n",
       "\n",
       "    .dataframe tbody tr th {\n",
       "        vertical-align: top;\n",
       "    }\n",
       "\n",
       "    .dataframe thead th {\n",
       "        text-align: right;\n",
       "    }\n",
       "</style>\n",
       "<table border=\"1\" class=\"dataframe\">\n",
       "  <thead>\n",
       "    <tr style=\"text-align: right;\">\n",
       "      <th></th>\n",
       "      <th>Peptide</th>\n",
       "      <th>stripped_peptide</th>\n",
       "    </tr>\n",
       "  </thead>\n",
       "  <tbody>\n",
       "    <tr>\n",
       "      <th>2</th>\n",
       "      <td>DPN(+.98)LPLK(+42.01)H</td>\n",
       "      <td>DPNH</td>\n",
       "    </tr>\n",
       "    <tr>\n",
       "      <th>7</th>\n",
       "      <td>DPDLPLK(+42.01)H</td>\n",
       "      <td>DPDLPLKH</td>\n",
       "    </tr>\n",
       "    <tr>\n",
       "      <th>16</th>\n",
       "      <td>VGK(+42.01)LLLPK</td>\n",
       "      <td>VGKLLLPK</td>\n",
       "    </tr>\n",
       "    <tr>\n",
       "      <th>22</th>\n",
       "      <td>K(+42.01)YDPDLPLLGH</td>\n",
       "      <td>KYDPDLPLLGH</td>\n",
       "    </tr>\n",
       "    <tr>\n",
       "      <th>26</th>\n",
       "      <td>K(+42.01)LLLPK</td>\n",
       "      <td>KLLLPK</td>\n",
       "    </tr>\n",
       "  </tbody>\n",
       "</table>\n",
       "</div>"
      ],
      "text/plain": [
       "                   Peptide stripped_peptide\n",
       "2   DPN(+.98)LPLK(+42.01)H             DPNH\n",
       "7         DPDLPLK(+42.01)H         DPDLPLKH\n",
       "16        VGK(+42.01)LLLPK         VGKLLLPK\n",
       "22     K(+42.01)YDPDLPLLGH      KYDPDLPLLGH\n",
       "26          K(+42.01)LLLPK           KLLLPK"
      ]
     },
     "execution_count": 11,
     "metadata": {},
     "output_type": "execute_result"
    }
   ],
   "source": [
    "# take all lines if they contain lysine acetylations and make new df\n",
    "\n",
    "keep= [\"K\\(\\+42.01\"]\n",
    "\n",
    "K_acet_331 = all_331[all_331.Peptide.str.contains('|'.join(keep))]\n",
    "\n",
    "# now strip the special characters of the modification\n",
    "\n",
    "K_acet_331['stripped_peptide'] = K_acet_331['Peptide'].str.replace(r\"\\(.*\\)\",\"\").drop_duplicates()\n",
    "\n",
    "print('Number of lysine acetylation peptides:', len(K_acet_331))\n",
    "\n",
    "# keep only stripped peptide column\n",
    "kacet_331_sp = K_acet_331[[\"stripped_peptide\"]].dropna()\n",
    "\n",
    "# write to txt file\n",
    "\n",
    "kacet_331_sp.to_csv('331-T5-combined-k-acet-stripped-peptides.txt', header=False, index=False)\n",
    "\n",
    "K_acet_331.head()"
   ]
  },
  {
   "cell_type": "code",
   "execution_count": 12,
   "metadata": {},
   "outputs": [
    {
     "name": "stdout",
     "output_type": "stream",
     "text": [
      "Number of deamidated asparagine peptides: 84\n"
     ]
    },
    {
     "name": "stderr",
     "output_type": "stream",
     "text": [
      "<ipython-input-12-23c08b03abfc>:9: SettingWithCopyWarning: \n",
      "A value is trying to be set on a copy of a slice from a DataFrame.\n",
      "Try using .loc[row_indexer,col_indexer] = value instead\n",
      "\n",
      "See the caveats in the documentation: https://pandas.pydata.org/pandas-docs/stable/user_guide/indexing.html#returning-a-view-versus-a-copy\n",
      "  R_meth_331['stripped_peptide'] = R_meth_331['Peptide'].str.replace(r\"\\(.*\\)\",\"\").drop_duplicates()\n"
     ]
    },
    {
     "data": {
      "text/html": [
       "<div>\n",
       "<style scoped>\n",
       "    .dataframe tbody tr th:only-of-type {\n",
       "        vertical-align: middle;\n",
       "    }\n",
       "\n",
       "    .dataframe tbody tr th {\n",
       "        vertical-align: top;\n",
       "    }\n",
       "\n",
       "    .dataframe thead th {\n",
       "        text-align: right;\n",
       "    }\n",
       "</style>\n",
       "<table border=\"1\" class=\"dataframe\">\n",
       "  <thead>\n",
       "    <tr style=\"text-align: right;\">\n",
       "      <th></th>\n",
       "      <th>Peptide</th>\n",
       "      <th>stripped_peptide</th>\n",
       "    </tr>\n",
       "  </thead>\n",
       "  <tbody>\n",
       "    <tr>\n",
       "      <th>71</th>\n",
       "      <td>TN(+.98)ATR(+14.02)TT</td>\n",
       "      <td>TNTT</td>\n",
       "    </tr>\n",
       "    <tr>\n",
       "      <th>170</th>\n",
       "      <td>LVMR(+14.02)DNL</td>\n",
       "      <td>LVMRDNL</td>\n",
       "    </tr>\n",
       "    <tr>\n",
       "      <th>204</th>\n",
       "      <td>DSER(+14.02)MC(+57.02)PDDK</td>\n",
       "      <td>DSERPDDK</td>\n",
       "    </tr>\n",
       "    <tr>\n",
       "      <th>224</th>\n",
       "      <td>TR(+14.02)LHPPVP</td>\n",
       "      <td>TRLHPPVP</td>\n",
       "    </tr>\n",
       "    <tr>\n",
       "      <th>225</th>\n",
       "      <td>VGDFR(+14.02)P(+15.99)DL</td>\n",
       "      <td>VGDFRDL</td>\n",
       "    </tr>\n",
       "  </tbody>\n",
       "</table>\n",
       "</div>"
      ],
      "text/plain": [
       "                        Peptide stripped_peptide\n",
       "71        TN(+.98)ATR(+14.02)TT             TNTT\n",
       "170             LVMR(+14.02)DNL          LVMRDNL\n",
       "204  DSER(+14.02)MC(+57.02)PDDK         DSERPDDK\n",
       "224            TR(+14.02)LHPPVP         TRLHPPVP\n",
       "225    VGDFR(+14.02)P(+15.99)DL          VGDFRDL"
      ]
     },
     "execution_count": 12,
     "metadata": {},
     "output_type": "execute_result"
    }
   ],
   "source": [
    "# take all lines if they contain methylated arginines and make new df\n",
    "\n",
    "keep= [\"R\\(\\+14.02\"]\n",
    "\n",
    "R_meth_331 = all_331[all_331.Peptide.str.contains('|'.join(keep))]\n",
    "\n",
    "# now strip the special characters of the modification\n",
    "\n",
    "R_meth_331['stripped_peptide'] = R_meth_331['Peptide'].str.replace(r\"\\(.*\\)\",\"\").drop_duplicates()\n",
    "\n",
    "print('Number of deamidated asparagine peptides:', len(R_meth_331))\n",
    "\n",
    "# keep only stripped peptide column\n",
    "rmeth_331_sp = R_meth_331[[\"stripped_peptide\"]].dropna()\n",
    "\n",
    "# write to txt file\n",
    "\n",
    "rmeth_331_sp.to_csv('331-T5-combined-r-meth-stripped-peptides.txt', header=False, index=False)\n",
    "\n",
    "R_meth_331.head()"
   ]
  }
 ],
 "metadata": {
  "kernelspec": {
   "display_name": "Python 3",
   "language": "python",
   "name": "python3"
  },
  "language_info": {
   "codemirror_mode": {
    "name": "ipython",
    "version": 3
   },
   "file_extension": ".py",
   "mimetype": "text/x-python",
   "name": "python",
   "nbconvert_exporter": "python",
   "pygments_lexer": "ipython3",
   "version": "3.8.3"
  }
 },
 "nbformat": 4,
 "nbformat_minor": 4
}
