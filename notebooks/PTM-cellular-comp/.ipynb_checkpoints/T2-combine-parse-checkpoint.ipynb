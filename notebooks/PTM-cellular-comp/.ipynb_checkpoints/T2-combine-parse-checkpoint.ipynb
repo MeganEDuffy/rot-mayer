{
 "cells": [
  {
   "cell_type": "markdown",
   "metadata": {},
   "source": [
    "## Evaluating the PTMs across peptides from different cellular compartments\n",
    "\n",
    "### Beginning with:\n",
    "\n",
    "    Exported peptides lists (.csvs) that contain the AAs with modifications. Want to combine peptides from the following:\n",
    "    \n",
    "     - from trypsin and no-digest searches\n",
    "     - from DB and DN searches\n",
    "     \n",
    "    From 8 samples (4 timepoints and 2 treatments, trypsin- and naturallyd-digested\n",
    "    \n",
    "     - 322: Day 0 trypsin digested\n",
    "     - 323: Day 2 trypsin digested\n",
    "     - 324: Day 5 trypsin digested\n",
    "     - 325: Day 12 trypsin digested\n",
    "     - 329: Day 0 undigested\n",
    "     - 330: Day 2 undigested\n",
    "     - 331: Day 5 undigested\n",
    "     - 332: Day 12 undigested\n",
    "    \n",
    "### Want:\n",
    "\n",
    "    Text files with all the stripped (no mod) peptides for the following modifications:\n",
    "        \n",
    "        - Lysine acetylation\n",
    "        - Asparagine demidation\n",
    "        - Arginine methylation\n",
    "        "
   ]
  },
  {
   "cell_type": "code",
   "execution_count": 1,
   "metadata": {},
   "outputs": [
    {
     "data": {
      "text/plain": [
       "'1.0.5'"
      ]
     },
     "execution_count": 1,
     "metadata": {},
     "output_type": "execute_result"
    }
   ],
   "source": [
    "# LIBRARIES\n",
    "#import pandas library for working with tabular data\n",
    "import os\n",
    "os.getcwd()\n",
    "import pandas as pd\n",
    "import numpy as np\n",
    "import matplotlib.pyplot as plt\n",
    "import seaborn as sns\n",
    "from scipy.stats import kde\n",
    "#import regular expresson (regex)\n",
    "import re\n",
    "#check pandas version\n",
    "pd.__version__"
   ]
  },
  {
   "cell_type": "markdown",
   "metadata": {},
   "source": [
    "## Combine 323"
   ]
  },
  {
   "cell_type": "code",
   "execution_count": 2,
   "metadata": {},
   "outputs": [
    {
     "name": "stdout",
     "output_type": "stream",
     "text": [
      "/home/millieginty/Documents/git-repos/rot-mayer/data/processed/PTM-cellular-compartment/to-combine/T2\n"
     ]
    }
   ],
   "source": [
    "cd /home/millieginty/Documents/git-repos/rot-mayer/data/processed/PTM-cellular-compartment/to-combine/T2/"
   ]
  },
  {
   "cell_type": "code",
   "execution_count": 3,
   "metadata": {},
   "outputs": [],
   "source": [
    "cat TW_323_T2_trypsin_noenz_combine_PTMopt_DB_FDR1_mod_peptides.txt TW_323_T2_trypsin_combine_PTMopt_DB_FDR1_mod_peptides.txt TW_323_T2_trypsin_combine_PTMopt_DN_mod_peptides.txt TW_323_T2_trypsin_noenz_combine_PTMopt_DN_mod_peptides.txt > all_323.csv"
   ]
  },
  {
   "cell_type": "code",
   "execution_count": 4,
   "metadata": {},
   "outputs": [
    {
     "name": "stdout",
     "output_type": "stream",
     "text": [
      "Total peptides: 11323\n"
     ]
    },
    {
     "data": {
      "text/html": [
       "<div>\n",
       "<style scoped>\n",
       "    .dataframe tbody tr th:only-of-type {\n",
       "        vertical-align: middle;\n",
       "    }\n",
       "\n",
       "    .dataframe tbody tr th {\n",
       "        vertical-align: top;\n",
       "    }\n",
       "\n",
       "    .dataframe thead th {\n",
       "        text-align: right;\n",
       "    }\n",
       "</style>\n",
       "<table border=\"1\" class=\"dataframe\">\n",
       "  <thead>\n",
       "    <tr style=\"text-align: right;\">\n",
       "      <th></th>\n",
       "      <th>Peptide</th>\n",
       "    </tr>\n",
       "  </thead>\n",
       "  <tbody>\n",
       "    <tr>\n",
       "      <th>0</th>\n",
       "      <td>LPQVEGTGGDVQPSQDLVR</td>\n",
       "    </tr>\n",
       "    <tr>\n",
       "      <th>1</th>\n",
       "      <td>AAIGPGIGQGNAAGQAVEGIAR</td>\n",
       "    </tr>\n",
       "    <tr>\n",
       "      <th>2</th>\n",
       "      <td>VIGQNEAVDAVSNAIR</td>\n",
       "    </tr>\n",
       "    <tr>\n",
       "      <th>3</th>\n",
       "      <td>AIDLIDEAASSIR</td>\n",
       "    </tr>\n",
       "    <tr>\n",
       "      <th>4</th>\n",
       "      <td>GPAPLPLALAHLD</td>\n",
       "    </tr>\n",
       "  </tbody>\n",
       "</table>\n",
       "</div>"
      ],
      "text/plain": [
       "                  Peptide\n",
       "0     LPQVEGTGGDVQPSQDLVR\n",
       "1  AAIGPGIGQGNAAGQAVEGIAR\n",
       "2        VIGQNEAVDAVSNAIR\n",
       "3           AIDLIDEAASSIR\n",
       "4           GPAPLPLALAHLD"
      ]
     },
     "execution_count": 4,
     "metadata": {},
     "output_type": "execute_result"
    }
   ],
   "source": [
    "# read in the combined datafile as a dataframe\n",
    "\n",
    "all_323 = pd.read_csv(\"all_323.csv\", header = None)\n",
    "\n",
    "all_323.columns = ['Peptide']\n",
    "\n",
    "print('Total peptides:', len(all_323))\n",
    "\n",
    "all_323.head()"
   ]
  },
  {
   "cell_type": "code",
   "execution_count": 5,
   "metadata": {},
   "outputs": [
    {
     "name": "stdout",
     "output_type": "stream",
     "text": [
      "Number of deamidated asparagine peptides: 1440\n"
     ]
    },
    {
     "name": "stderr",
     "output_type": "stream",
     "text": [
      "<ipython-input-5-5d63bfbe5fe9>:9: SettingWithCopyWarning: \n",
      "A value is trying to be set on a copy of a slice from a DataFrame.\n",
      "Try using .loc[row_indexer,col_indexer] = value instead\n",
      "\n",
      "See the caveats in the documentation: https://pandas.pydata.org/pandas-docs/stable/user_guide/indexing.html#returning-a-view-versus-a-copy\n",
      "  N_deam_323['stripped_peptide'] = N_deam_323['Peptide'].str.replace(r\"\\(.*\\)\",\"\").drop_duplicates()\n"
     ]
    },
    {
     "data": {
      "text/html": [
       "<div>\n",
       "<style scoped>\n",
       "    .dataframe tbody tr th:only-of-type {\n",
       "        vertical-align: middle;\n",
       "    }\n",
       "\n",
       "    .dataframe tbody tr th {\n",
       "        vertical-align: top;\n",
       "    }\n",
       "\n",
       "    .dataframe thead th {\n",
       "        text-align: right;\n",
       "    }\n",
       "</style>\n",
       "<table border=\"1\" class=\"dataframe\">\n",
       "  <thead>\n",
       "    <tr style=\"text-align: right;\">\n",
       "      <th></th>\n",
       "      <th>Peptide</th>\n",
       "      <th>stripped_peptide</th>\n",
       "    </tr>\n",
       "  </thead>\n",
       "  <tbody>\n",
       "    <tr>\n",
       "      <th>37</th>\n",
       "      <td>DTNN(+.98)GNVWAPLLK</td>\n",
       "      <td>DTNNGNVWAPLLK</td>\n",
       "    </tr>\n",
       "    <tr>\n",
       "      <th>64</th>\n",
       "      <td>FDN(+.98)TTTVVELAK</td>\n",
       "      <td>FDNTTTVVELAK</td>\n",
       "    </tr>\n",
       "    <tr>\n",
       "      <th>139</th>\n",
       "      <td>SNGDGVIDIN(+.98)DK</td>\n",
       "      <td>SNGDGVIDINDK</td>\n",
       "    </tr>\n",
       "    <tr>\n",
       "      <th>235</th>\n",
       "      <td>N(+.98)NPVLIGEPGVGK</td>\n",
       "      <td>NNPVLIGEPGVGK</td>\n",
       "    </tr>\n",
       "    <tr>\n",
       "      <th>341</th>\n",
       "      <td>TGEWVYLN(+.98)EFGQR</td>\n",
       "      <td>TGEWVYLNEFGQR</td>\n",
       "    </tr>\n",
       "  </tbody>\n",
       "</table>\n",
       "</div>"
      ],
      "text/plain": [
       "                 Peptide stripped_peptide\n",
       "37   DTNN(+.98)GNVWAPLLK    DTNNGNVWAPLLK\n",
       "64    FDN(+.98)TTTVVELAK     FDNTTTVVELAK\n",
       "139   SNGDGVIDIN(+.98)DK     SNGDGVIDINDK\n",
       "235  N(+.98)NPVLIGEPGVGK    NNPVLIGEPGVGK\n",
       "341  TGEWVYLN(+.98)EFGQR    TGEWVYLNEFGQR"
      ]
     },
     "execution_count": 5,
     "metadata": {},
     "output_type": "execute_result"
    }
   ],
   "source": [
    "# take all lines if they contain deamindated asparagines and make new df\n",
    "\n",
    "keep= [\"N\\(\\+.98\"]\n",
    "\n",
    "N_deam_323 = all_323[all_323.Peptide.str.contains('|'.join(keep))]\n",
    "\n",
    "# now strip the special characters of the modification\n",
    "\n",
    "N_deam_323['stripped_peptide'] = N_deam_323['Peptide'].str.replace(r\"\\(.*\\)\",\"\").drop_duplicates()\n",
    "\n",
    "print('Number of deamidated asparagine peptides:', len(N_deam_323))\n",
    "\n",
    "# keep only stripped peptide column\n",
    "ndeam_323_sp = N_deam_323[[\"stripped_peptide\"]].dropna()\n",
    "\n",
    "# write to txt file\n",
    "\n",
    "ndeam_323_sp.to_csv('323-T2-combined-n-deam-stripped-peptides.txt', header=False, index=False)\n",
    "\n",
    "N_deam_323.head()"
   ]
  },
  {
   "cell_type": "code",
   "execution_count": 6,
   "metadata": {},
   "outputs": [
    {
     "name": "stdout",
     "output_type": "stream",
     "text": [
      "Number of lysine acetylation peptides: 453\n"
     ]
    },
    {
     "name": "stderr",
     "output_type": "stream",
     "text": [
      "<ipython-input-6-f7dae7c59cf6>:9: SettingWithCopyWarning: \n",
      "A value is trying to be set on a copy of a slice from a DataFrame.\n",
      "Try using .loc[row_indexer,col_indexer] = value instead\n",
      "\n",
      "See the caveats in the documentation: https://pandas.pydata.org/pandas-docs/stable/user_guide/indexing.html#returning-a-view-versus-a-copy\n",
      "  K_acet_323['stripped_peptide'] = K_acet_323['Peptide'].str.replace(r\"\\(.*\\)\",\"\").drop_duplicates()\n"
     ]
    },
    {
     "data": {
      "text/html": [
       "<div>\n",
       "<style scoped>\n",
       "    .dataframe tbody tr th:only-of-type {\n",
       "        vertical-align: middle;\n",
       "    }\n",
       "\n",
       "    .dataframe tbody tr th {\n",
       "        vertical-align: top;\n",
       "    }\n",
       "\n",
       "    .dataframe thead th {\n",
       "        text-align: right;\n",
       "    }\n",
       "</style>\n",
       "<table border=\"1\" class=\"dataframe\">\n",
       "  <thead>\n",
       "    <tr style=\"text-align: right;\">\n",
       "      <th></th>\n",
       "      <th>Peptide</th>\n",
       "      <th>stripped_peptide</th>\n",
       "    </tr>\n",
       "  </thead>\n",
       "  <tbody>\n",
       "    <tr>\n",
       "      <th>2203</th>\n",
       "      <td>TTEEK(+42.01)R</td>\n",
       "      <td>TTEEKR</td>\n",
       "    </tr>\n",
       "    <tr>\n",
       "      <th>2226</th>\n",
       "      <td>K(+42.01)KNDEELNK</td>\n",
       "      <td>KKNDEELNK</td>\n",
       "    </tr>\n",
       "    <tr>\n",
       "      <th>2336</th>\n",
       "      <td>K(+42.01)N(+.98)ELSEEDR</td>\n",
       "      <td>KELSEEDR</td>\n",
       "    </tr>\n",
       "    <tr>\n",
       "      <th>2337</th>\n",
       "      <td>LLNEK(+42.01)R</td>\n",
       "      <td>LLNEKR</td>\n",
       "    </tr>\n",
       "    <tr>\n",
       "      <th>2345</th>\n",
       "      <td>K(+42.01)VDEEETK</td>\n",
       "      <td>KVDEEETK</td>\n",
       "    </tr>\n",
       "  </tbody>\n",
       "</table>\n",
       "</div>"
      ],
      "text/plain": [
       "                      Peptide stripped_peptide\n",
       "2203           TTEEK(+42.01)R           TTEEKR\n",
       "2226        K(+42.01)KNDEELNK        KKNDEELNK\n",
       "2336  K(+42.01)N(+.98)ELSEEDR         KELSEEDR\n",
       "2337           LLNEK(+42.01)R           LLNEKR\n",
       "2345         K(+42.01)VDEEETK         KVDEEETK"
      ]
     },
     "execution_count": 6,
     "metadata": {},
     "output_type": "execute_result"
    }
   ],
   "source": [
    "# take all lines if they contain lysine acetylations and make new df\n",
    "\n",
    "keep= [\"K\\(\\+42.01\"]\n",
    "\n",
    "K_acet_323 = all_323[all_323.Peptide.str.contains('|'.join(keep))]\n",
    "\n",
    "# now strip the special characters of the modification\n",
    "\n",
    "K_acet_323['stripped_peptide'] = K_acet_323['Peptide'].str.replace(r\"\\(.*\\)\",\"\").drop_duplicates()\n",
    "\n",
    "print('Number of lysine acetylation peptides:', len(K_acet_323))\n",
    "\n",
    "# keep only stripped peptide column\n",
    "kacet_323_sp = K_acet_323[[\"stripped_peptide\"]].dropna()\n",
    "\n",
    "# write to txt file\n",
    "\n",
    "kacet_323_sp.to_csv('323-T2-combined-k-acet-stripped-peptides.txt', header=False, index=False)\n",
    "\n",
    "K_acet_323.head()"
   ]
  },
  {
   "cell_type": "code",
   "execution_count": 7,
   "metadata": {},
   "outputs": [
    {
     "name": "stdout",
     "output_type": "stream",
     "text": [
      "Number of deamidated asparagine peptides: 558\n"
     ]
    },
    {
     "name": "stderr",
     "output_type": "stream",
     "text": [
      "<ipython-input-7-9fc359ae1608>:9: SettingWithCopyWarning: \n",
      "A value is trying to be set on a copy of a slice from a DataFrame.\n",
      "Try using .loc[row_indexer,col_indexer] = value instead\n",
      "\n",
      "See the caveats in the documentation: https://pandas.pydata.org/pandas-docs/stable/user_guide/indexing.html#returning-a-view-versus-a-copy\n",
      "  R_meth_323['stripped_peptide'] = R_meth_323['Peptide'].str.replace(r\"\\(.*\\)\",\"\").drop_duplicates()\n"
     ]
    },
    {
     "data": {
      "text/html": [
       "<div>\n",
       "<style scoped>\n",
       "    .dataframe tbody tr th:only-of-type {\n",
       "        vertical-align: middle;\n",
       "    }\n",
       "\n",
       "    .dataframe tbody tr th {\n",
       "        vertical-align: top;\n",
       "    }\n",
       "\n",
       "    .dataframe thead th {\n",
       "        text-align: right;\n",
       "    }\n",
       "</style>\n",
       "<table border=\"1\" class=\"dataframe\">\n",
       "  <thead>\n",
       "    <tr style=\"text-align: right;\">\n",
       "      <th></th>\n",
       "      <th>Peptide</th>\n",
       "      <th>stripped_peptide</th>\n",
       "    </tr>\n",
       "  </thead>\n",
       "  <tbody>\n",
       "    <tr>\n",
       "      <th>1983</th>\n",
       "      <td>MAFSHHSR(+14.02)</td>\n",
       "      <td>MAFSHHSR</td>\n",
       "    </tr>\n",
       "    <tr>\n",
       "      <th>2303</th>\n",
       "      <td>WEELFR(+14.02)</td>\n",
       "      <td>WEELFR</td>\n",
       "    </tr>\n",
       "    <tr>\n",
       "      <th>2405</th>\n",
       "      <td>TGVEAWGDR(+14.02)</td>\n",
       "      <td>TGVEAWGDR</td>\n",
       "    </tr>\n",
       "    <tr>\n",
       "      <th>2433</th>\n",
       "      <td>R(+14.02)C(+57.02)ASSTGR</td>\n",
       "      <td>RASSTGR</td>\n",
       "    </tr>\n",
       "    <tr>\n",
       "      <th>2509</th>\n",
       "      <td>R(+14.02)LDN(+.98)ADC(+57.02)PR</td>\n",
       "      <td>RPR</td>\n",
       "    </tr>\n",
       "  </tbody>\n",
       "</table>\n",
       "</div>"
      ],
      "text/plain": [
       "                              Peptide stripped_peptide\n",
       "1983                 MAFSHHSR(+14.02)         MAFSHHSR\n",
       "2303                   WEELFR(+14.02)           WEELFR\n",
       "2405                TGVEAWGDR(+14.02)        TGVEAWGDR\n",
       "2433         R(+14.02)C(+57.02)ASSTGR          RASSTGR\n",
       "2509  R(+14.02)LDN(+.98)ADC(+57.02)PR              RPR"
      ]
     },
     "execution_count": 7,
     "metadata": {},
     "output_type": "execute_result"
    }
   ],
   "source": [
    "# take all lines if they contain methylated arginines and make new df\n",
    "\n",
    "keep= [\"R\\(\\+14.02\"]\n",
    "\n",
    "R_meth_323 = all_323[all_323.Peptide.str.contains('|'.join(keep))]\n",
    "\n",
    "# now strip the special characters of the modification\n",
    "\n",
    "R_meth_323['stripped_peptide'] = R_meth_323['Peptide'].str.replace(r\"\\(.*\\)\",\"\").drop_duplicates()\n",
    "\n",
    "print('Number of deamidated asparagine peptides:', len(R_meth_323))\n",
    "\n",
    "# keep only stripped peptide column\n",
    "rmeth_323_sp = R_meth_323[[\"stripped_peptide\"]].dropna()\n",
    "\n",
    "# write to txt file\n",
    "\n",
    "rmeth_323_sp.to_csv('323-T2-combined-r-meth-stripped-peptides.txt', header=False, index=False)\n",
    "\n",
    "R_meth_323.head()"
   ]
  },
  {
   "cell_type": "markdown",
   "metadata": {},
   "source": [
    "## Combine 330"
   ]
  },
  {
   "cell_type": "code",
   "execution_count": 99,
   "metadata": {},
   "outputs": [],
   "source": [
    "cat TW_330_T2_trypsin_noenz_combine_PTMopt_DN_mod_peptides.txt TW_330_T2_undig_noenz_combine_PTMopt_DB_FDR1_mod_peptides.txt > all_330.csv"
   ]
  },
  {
   "cell_type": "code",
   "execution_count": 100,
   "metadata": {},
   "outputs": [
    {
     "name": "stdout",
     "output_type": "stream",
     "text": [
      "Total peptides: 2118\n"
     ]
    },
    {
     "data": {
      "text/html": [
       "<div>\n",
       "<style scoped>\n",
       "    .dataframe tbody tr th:only-of-type {\n",
       "        vertical-align: middle;\n",
       "    }\n",
       "\n",
       "    .dataframe tbody tr th {\n",
       "        vertical-align: top;\n",
       "    }\n",
       "\n",
       "    .dataframe thead th {\n",
       "        text-align: right;\n",
       "    }\n",
       "</style>\n",
       "<table border=\"1\" class=\"dataframe\">\n",
       "  <thead>\n",
       "    <tr style=\"text-align: right;\">\n",
       "      <th></th>\n",
       "      <th>Peptide</th>\n",
       "    </tr>\n",
       "  </thead>\n",
       "  <tbody>\n",
       "    <tr>\n",
       "      <th>0</th>\n",
       "      <td>HLDVDDSGK</td>\n",
       "    </tr>\n",
       "    <tr>\n",
       "      <th>1</th>\n",
       "      <td>DKFDEETK</td>\n",
       "    </tr>\n",
       "    <tr>\n",
       "      <th>2</th>\n",
       "      <td>DPN(+.98)LPLK(+42.01)H</td>\n",
       "    </tr>\n",
       "    <tr>\n",
       "      <th>3</th>\n",
       "      <td>P(+15.99)KEKFE</td>\n",
       "    </tr>\n",
       "    <tr>\n",
       "      <th>4</th>\n",
       "      <td>DHGEVVVK</td>\n",
       "    </tr>\n",
       "  </tbody>\n",
       "</table>\n",
       "</div>"
      ],
      "text/plain": [
       "                  Peptide\n",
       "0               HLDVDDSGK\n",
       "1                DKFDEETK\n",
       "2  DPN(+.98)LPLK(+42.01)H\n",
       "3          P(+15.99)KEKFE\n",
       "4                DHGEVVVK"
      ]
     },
     "execution_count": 100,
     "metadata": {},
     "output_type": "execute_result"
    }
   ],
   "source": [
    "# read in the combined datafile as a dataframe\n",
    "\n",
    "all_330 = pd.read_csv(\"all_330.csv\", header = None)\n",
    "\n",
    "all_330.columns = ['Peptide']\n",
    "\n",
    "print('Total peptides:', len(all_330))\n",
    "\n",
    "all_330.head()"
   ]
  },
  {
   "cell_type": "code",
   "execution_count": 101,
   "metadata": {},
   "outputs": [
    {
     "name": "stdout",
     "output_type": "stream",
     "text": [
      "Number of deamidated asparagine peptides: 364\n"
     ]
    },
    {
     "name": "stderr",
     "output_type": "stream",
     "text": [
      "<ipython-input-101-533f2d61c70f>:9: SettingWithCopyWarning: \n",
      "A value is trying to be set on a copy of a slice from a DataFrame.\n",
      "Try using .loc[row_indexer,col_indexer] = value instead\n",
      "\n",
      "See the caveats in the documentation: https://pandas.pydata.org/pandas-docs/stable/user_guide/indexing.html#returning-a-view-versus-a-copy\n",
      "  N_deam_329['stripped_peptide'] = N_deam_329['Peptide'].str.replace(r\"\\(.*\\)\",\"\").drop_duplicates()\n"
     ]
    },
    {
     "data": {
      "text/html": [
       "<div>\n",
       "<style scoped>\n",
       "    .dataframe tbody tr th:only-of-type {\n",
       "        vertical-align: middle;\n",
       "    }\n",
       "\n",
       "    .dataframe tbody tr th {\n",
       "        vertical-align: top;\n",
       "    }\n",
       "\n",
       "    .dataframe thead th {\n",
       "        text-align: right;\n",
       "    }\n",
       "</style>\n",
       "<table border=\"1\" class=\"dataframe\">\n",
       "  <thead>\n",
       "    <tr style=\"text-align: right;\">\n",
       "      <th></th>\n",
       "      <th>Peptide</th>\n",
       "      <th>stripped_peptide</th>\n",
       "    </tr>\n",
       "  </thead>\n",
       "  <tbody>\n",
       "    <tr>\n",
       "      <th>2</th>\n",
       "      <td>DPN(+.98)LPLK(+42.01)H</td>\n",
       "      <td>DPNH</td>\n",
       "    </tr>\n",
       "    <tr>\n",
       "      <th>7</th>\n",
       "      <td>SPN(+.98)N(+.98)SLK</td>\n",
       "      <td>SPNSLK</td>\n",
       "    </tr>\n",
       "    <tr>\n",
       "      <th>8</th>\n",
       "      <td>YN(+.98)PDLPLLGH</td>\n",
       "      <td>YNPDLPLLGH</td>\n",
       "    </tr>\n",
       "    <tr>\n",
       "      <th>11</th>\n",
       "      <td>DN(+.98)ADQERF</td>\n",
       "      <td>DNADQERF</td>\n",
       "    </tr>\n",
       "    <tr>\n",
       "      <th>12</th>\n",
       "      <td>DPN(+.98)LPLVAH</td>\n",
       "      <td>DPNLPLVAH</td>\n",
       "    </tr>\n",
       "  </tbody>\n",
       "</table>\n",
       "</div>"
      ],
      "text/plain": [
       "                   Peptide stripped_peptide\n",
       "2   DPN(+.98)LPLK(+42.01)H             DPNH\n",
       "7      SPN(+.98)N(+.98)SLK           SPNSLK\n",
       "8         YN(+.98)PDLPLLGH       YNPDLPLLGH\n",
       "11          DN(+.98)ADQERF         DNADQERF\n",
       "12         DPN(+.98)LPLVAH        DPNLPLVAH"
      ]
     },
     "execution_count": 101,
     "metadata": {},
     "output_type": "execute_result"
    }
   ],
   "source": [
    "# take all lines if they contain deamindated asparagines and make new df\n",
    "\n",
    "keep= [\"N\\(\\+.98\"]\n",
    "\n",
    "N_deam_330 = all_330[all_330.Peptide.str.contains('|'.join(keep))]\n",
    "\n",
    "# now strip the special characters of the modification\n",
    "\n",
    "N_deam_330['stripped_peptide'] = N_deam_330['Peptide'].str.replace(r\"\\(.*\\)\",\"\").drop_duplicates()\n",
    "\n",
    "print('Number of deamidated asparagine peptides:', len(N_deam_330))\n",
    "\n",
    "# keep only stripped peptide column\n",
    "ndeam_330_sp = N_deam_330[[\"stripped_peptide\"]].dropna()\n",
    "\n",
    "# write to txt file\n",
    "\n",
    "ndeam_330_sp.to_csv('330-T2-combined-n-deam-stripped-peptides.txt', header=False, index=False)\n",
    "\n",
    "N_deam_330.head()"
   ]
  },
  {
   "cell_type": "code",
   "execution_count": 86,
   "metadata": {},
   "outputs": [
    {
     "name": "stdout",
     "output_type": "stream",
     "text": [
      "Number of lysine acetylation peptides: 90\n"
     ]
    },
    {
     "name": "stderr",
     "output_type": "stream",
     "text": [
      "<ipython-input-86-8fcf17a3344e>:9: SettingWithCopyWarning: \n",
      "A value is trying to be set on a copy of a slice from a DataFrame.\n",
      "Try using .loc[row_indexer,col_indexer] = value instead\n",
      "\n",
      "See the caveats in the documentation: https://pandas.pydata.org/pandas-docs/stable/user_guide/indexing.html#returning-a-view-versus-a-copy\n",
      "  K_acet_329['stripped_peptide'] = K_acet_329['Peptide'].str.replace(r\"\\(.*\\)\",\"\").drop_duplicates()\n"
     ]
    },
    {
     "data": {
      "text/html": [
       "<div>\n",
       "<style scoped>\n",
       "    .dataframe tbody tr th:only-of-type {\n",
       "        vertical-align: middle;\n",
       "    }\n",
       "\n",
       "    .dataframe tbody tr th {\n",
       "        vertical-align: top;\n",
       "    }\n",
       "\n",
       "    .dataframe thead th {\n",
       "        text-align: right;\n",
       "    }\n",
       "</style>\n",
       "<table border=\"1\" class=\"dataframe\">\n",
       "  <thead>\n",
       "    <tr style=\"text-align: right;\">\n",
       "      <th></th>\n",
       "      <th>Peptide</th>\n",
       "      <th>stripped_peptide</th>\n",
       "    </tr>\n",
       "  </thead>\n",
       "  <tbody>\n",
       "    <tr>\n",
       "      <th>2</th>\n",
       "      <td>DPN(+.98)LPLK(+42.01)H</td>\n",
       "      <td>DPNH</td>\n",
       "    </tr>\n",
       "    <tr>\n",
       "      <th>17</th>\n",
       "      <td>WLVK(+42.01)LP</td>\n",
       "      <td>WLVKLP</td>\n",
       "    </tr>\n",
       "    <tr>\n",
       "      <th>81</th>\n",
       "      <td>TN(+.98)QQLSK(+42.01)</td>\n",
       "      <td>TN</td>\n",
       "    </tr>\n",
       "    <tr>\n",
       "      <th>146</th>\n",
       "      <td>K(+42.01)PLFDLKDR(+15.99)P</td>\n",
       "      <td>KP</td>\n",
       "    </tr>\n",
       "    <tr>\n",
       "      <th>154</th>\n",
       "      <td>K(+42.01)YDPDLPLLGH</td>\n",
       "      <td>KYDPDLPLLGH</td>\n",
       "    </tr>\n",
       "  </tbody>\n",
       "</table>\n",
       "</div>"
      ],
      "text/plain": [
       "                        Peptide stripped_peptide\n",
       "2        DPN(+.98)LPLK(+42.01)H             DPNH\n",
       "17               WLVK(+42.01)LP           WLVKLP\n",
       "81        TN(+.98)QQLSK(+42.01)               TN\n",
       "146  K(+42.01)PLFDLKDR(+15.99)P               KP\n",
       "154         K(+42.01)YDPDLPLLGH      KYDPDLPLLGH"
      ]
     },
     "execution_count": 86,
     "metadata": {},
     "output_type": "execute_result"
    }
   ],
   "source": [
    "# take all lines if they contain lysine acetylations and make new df\n",
    "\n",
    "keep= [\"K\\(\\+42.01\"]\n",
    "\n",
    "K_acet_330 = all_330[all_330.Peptide.str.contains('|'.join(keep))]\n",
    "\n",
    "# now strip the special characters of the modification\n",
    "\n",
    "K_acet_330['stripped_peptide'] = K_acet_330['Peptide'].str.replace(r\"\\(.*\\)\",\"\").drop_duplicates()\n",
    "\n",
    "print('Number of lysine acetylation peptides:', len(K_acet_330))\n",
    "\n",
    "# keep only stripped peptide column\n",
    "kacet_330_sp = K_acet_330[[\"stripped_peptide\"]].dropna()\n",
    "\n",
    "# write to txt file\n",
    "\n",
    "kacet_330_sp.to_csv('330-T2-combined-k-acet-stripped-peptides.txt', header=False, index=False)\n",
    "\n",
    "K_acet_330.head()"
   ]
  },
  {
   "cell_type": "code",
   "execution_count": 87,
   "metadata": {},
   "outputs": [
    {
     "name": "stdout",
     "output_type": "stream",
     "text": [
      "Number of deamidated asparagine peptides: 75\n"
     ]
    },
    {
     "name": "stderr",
     "output_type": "stream",
     "text": [
      "<ipython-input-87-ece5b6cd23f9>:9: SettingWithCopyWarning: \n",
      "A value is trying to be set on a copy of a slice from a DataFrame.\n",
      "Try using .loc[row_indexer,col_indexer] = value instead\n",
      "\n",
      "See the caveats in the documentation: https://pandas.pydata.org/pandas-docs/stable/user_guide/indexing.html#returning-a-view-versus-a-copy\n",
      "  R_meth_329['stripped_peptide'] = R_meth_329['Peptide'].str.replace(r\"\\(.*\\)\",\"\").drop_duplicates()\n"
     ]
    },
    {
     "data": {
      "text/html": [
       "<div>\n",
       "<style scoped>\n",
       "    .dataframe tbody tr th:only-of-type {\n",
       "        vertical-align: middle;\n",
       "    }\n",
       "\n",
       "    .dataframe tbody tr th {\n",
       "        vertical-align: top;\n",
       "    }\n",
       "\n",
       "    .dataframe thead th {\n",
       "        text-align: right;\n",
       "    }\n",
       "</style>\n",
       "<table border=\"1\" class=\"dataframe\">\n",
       "  <thead>\n",
       "    <tr style=\"text-align: right;\">\n",
       "      <th></th>\n",
       "      <th>Peptide</th>\n",
       "      <th>stripped_peptide</th>\n",
       "    </tr>\n",
       "  </thead>\n",
       "  <tbody>\n",
       "    <tr>\n",
       "      <th>36</th>\n",
       "      <td>LGELVR(+14.02)P</td>\n",
       "      <td>LGELVRP</td>\n",
       "    </tr>\n",
       "    <tr>\n",
       "      <th>83</th>\n",
       "      <td>LLVVC(+57.02)R(+14.02)TP(+15.99)</td>\n",
       "      <td>LLVVC</td>\n",
       "    </tr>\n",
       "    <tr>\n",
       "      <th>102</th>\n",
       "      <td>R(+14.02)PWTQT</td>\n",
       "      <td>RPWTQT</td>\n",
       "    </tr>\n",
       "    <tr>\n",
       "      <th>104</th>\n",
       "      <td>R(+14.02)KPSDPEE</td>\n",
       "      <td>RKPSDPEE</td>\n",
       "    </tr>\n",
       "    <tr>\n",
       "      <th>145</th>\n",
       "      <td>VLGADDR(+14.02)N</td>\n",
       "      <td>VLGADDRN</td>\n",
       "    </tr>\n",
       "  </tbody>\n",
       "</table>\n",
       "</div>"
      ],
      "text/plain": [
       "                              Peptide stripped_peptide\n",
       "36                    LGELVR(+14.02)P          LGELVRP\n",
       "83   LLVVC(+57.02)R(+14.02)TP(+15.99)            LLVVC\n",
       "102                    R(+14.02)PWTQT           RPWTQT\n",
       "104                  R(+14.02)KPSDPEE         RKPSDPEE\n",
       "145                  VLGADDR(+14.02)N         VLGADDRN"
      ]
     },
     "execution_count": 87,
     "metadata": {},
     "output_type": "execute_result"
    }
   ],
   "source": [
    "# take all lines if they contain methylated arginines and make new df\n",
    "\n",
    "keep= [\"R\\(\\+14.02\"]\n",
    "\n",
    "R_meth_330 = all_330[all_330.Peptide.str.contains('|'.join(keep))]\n",
    "\n",
    "# now strip the special characters of the modification\n",
    "\n",
    "R_meth_330['stripped_peptide'] = R_meth_330['Peptide'].str.replace(r\"\\(.*\\)\",\"\").drop_duplicates()\n",
    "\n",
    "print('Number of deamidated asparagine peptides:', len(R_meth_330))\n",
    "\n",
    "# keep only stripped peptide column\n",
    "rmeth_330_sp = R_meth_330[[\"stripped_peptide\"]].dropna()\n",
    "\n",
    "# write to txt file\n",
    "\n",
    "rmeth_330_sp.to_csv('330-T2-combined-r-meth-stripped-peptides.txt', header=False, index=False)\n",
    "\n",
    "R_meth_330.head()"
   ]
  }
 ],
 "metadata": {
  "kernelspec": {
   "display_name": "Python 3",
   "language": "python",
   "name": "python3"
  },
  "language_info": {
   "codemirror_mode": {
    "name": "ipython",
    "version": 3
   },
   "file_extension": ".py",
   "mimetype": "text/x-python",
   "name": "python",
   "nbconvert_exporter": "python",
   "pygments_lexer": "ipython3",
   "version": "3.8.3"
  }
 },
 "nbformat": 4,
 "nbformat_minor": 4
}
