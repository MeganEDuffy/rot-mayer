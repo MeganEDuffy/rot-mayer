{
 "cells": [
  {
   "cell_type": "markdown",
   "metadata": {},
   "source": [
    "## Evaluating the PTMs across peptides from different cellular compartments\n",
    "\n",
    "### Beginning with:\n",
    "\n",
    "    Exported peptides lists (.csvs) that contain the AAs with modifications. Want to combine peptides from the following:\n",
    "    \n",
    "     - from trypsin and no-digest searches\n",
    "     - from DB and DN searches\n",
    "     \n",
    "    From 8 samples (4 timepoints and 2 treatments, trypsin- and naturallyd-digested\n",
    "    \n",
    "     - 322: Day 0 trypsin digested\n",
    "     - 323: Day 2 trypsin digested\n",
    "     - 324: Day 5 trypsin digested\n",
    "     - 325: Day 12 trypsin digested\n",
    "     - 329: Day 0 undigested\n",
    "     - 330: Day 2 undigested\n",
    "     - 331: Day 5 undigested\n",
    "     - 332: Day 12 undigested\n",
    "    \n",
    "### Want:\n",
    "\n",
    "    Text files with all the stripped (no mod) peptides for the following modifications:\n",
    "        \n",
    "        - Lysine acetylation\n",
    "        - Asparagine demidation\n",
    "        - Arginine methylation\n",
    "        "
   ]
  },
  {
   "cell_type": "code",
   "execution_count": 1,
   "metadata": {},
   "outputs": [
    {
     "data": {
      "text/plain": [
       "'1.0.5'"
      ]
     },
     "execution_count": 1,
     "metadata": {},
     "output_type": "execute_result"
    }
   ],
   "source": [
    "# LIBRARIES\n",
    "#import pandas library for working with tabular data\n",
    "import os\n",
    "os.getcwd()\n",
    "import pandas as pd\n",
    "import numpy as np\n",
    "import matplotlib.pyplot as plt\n",
    "import seaborn as sns\n",
    "from scipy.stats import kde\n",
    "#import regular expresson (regex)\n",
    "import re\n",
    "#check pandas version\n",
    "pd.__version__"
   ]
  },
  {
   "cell_type": "markdown",
   "metadata": {},
   "source": [
    "## Combine 322"
   ]
  },
  {
   "cell_type": "code",
   "execution_count": 2,
   "metadata": {},
   "outputs": [
    {
     "name": "stdout",
     "output_type": "stream",
     "text": [
      "/home/millieginty/Documents/git-repos/rot-mayer/data/processed/PTM-cellular-compartment/to-combine/T0\n"
     ]
    }
   ],
   "source": [
    "cd /home/millieginty/Documents/git-repos/rot-mayer/data/processed/PTM-cellular-compartment/to-combine/T0/"
   ]
  },
  {
   "cell_type": "code",
   "execution_count": 29,
   "metadata": {},
   "outputs": [],
   "source": [
    "cat TW_322_T0_trypsin_noenz_combine_PTMopt_DB_FDR1_mod_peptides.txt TW_322_T0_trypsin_combine_PTMopt_DB_FDR1_mod_peptides.txt TW_322_T0_trypsin_combine_PTMopt_DN_mod_peptides.txt TW_322_T0_trypsin_noenz_combine_PTMopt_DN_mod_peptides.txt > all_322.csv"
   ]
  },
  {
   "cell_type": "code",
   "execution_count": 46,
   "metadata": {},
   "outputs": [
    {
     "name": "stdout",
     "output_type": "stream",
     "text": [
      "Total peptides: 10445\n"
     ]
    },
    {
     "data": {
      "text/html": [
       "<div>\n",
       "<style scoped>\n",
       "    .dataframe tbody tr th:only-of-type {\n",
       "        vertical-align: middle;\n",
       "    }\n",
       "\n",
       "    .dataframe tbody tr th {\n",
       "        vertical-align: top;\n",
       "    }\n",
       "\n",
       "    .dataframe thead th {\n",
       "        text-align: right;\n",
       "    }\n",
       "</style>\n",
       "<table border=\"1\" class=\"dataframe\">\n",
       "  <thead>\n",
       "    <tr style=\"text-align: right;\">\n",
       "      <th></th>\n",
       "      <th>Peptide</th>\n",
       "    </tr>\n",
       "  </thead>\n",
       "  <tbody>\n",
       "    <tr>\n",
       "      <th>0</th>\n",
       "      <td>LPQVEGTGGDVQPSQDLVR</td>\n",
       "    </tr>\n",
       "    <tr>\n",
       "      <th>1</th>\n",
       "      <td>AAIGPGIGQGNAAGQ</td>\n",
       "    </tr>\n",
       "    <tr>\n",
       "      <th>2</th>\n",
       "      <td>VIGQNEAVDAVSNAIR</td>\n",
       "    </tr>\n",
       "    <tr>\n",
       "      <th>3</th>\n",
       "      <td>STEFDNILIVGPIAGK</td>\n",
       "    </tr>\n",
       "    <tr>\n",
       "      <th>4</th>\n",
       "      <td>GPAPLPLALAHLD</td>\n",
       "    </tr>\n",
       "  </tbody>\n",
       "</table>\n",
       "</div>"
      ],
      "text/plain": [
       "               Peptide\n",
       "0  LPQVEGTGGDVQPSQDLVR\n",
       "1      AAIGPGIGQGNAAGQ\n",
       "2     VIGQNEAVDAVSNAIR\n",
       "3     STEFDNILIVGPIAGK\n",
       "4        GPAPLPLALAHLD"
      ]
     },
     "execution_count": 46,
     "metadata": {},
     "output_type": "execute_result"
    }
   ],
   "source": [
    "# read in the combined datafile as a dataframe\n",
    "\n",
    "all_322 = pd.read_csv(\"all_322.csv\", header = None)\n",
    "\n",
    "all_322.columns = ['Peptide']\n",
    "\n",
    "print('Total peptides:', len(all_322))\n",
    "\n",
    "all_322.head()"
   ]
  },
  {
   "cell_type": "code",
   "execution_count": 79,
   "metadata": {},
   "outputs": [
    {
     "name": "stdout",
     "output_type": "stream",
     "text": [
      "Number of deamidated asparagine peptides: 1461\n"
     ]
    },
    {
     "name": "stderr",
     "output_type": "stream",
     "text": [
      "<ipython-input-79-db65157951a3>:9: SettingWithCopyWarning: \n",
      "A value is trying to be set on a copy of a slice from a DataFrame.\n",
      "Try using .loc[row_indexer,col_indexer] = value instead\n",
      "\n",
      "See the caveats in the documentation: https://pandas.pydata.org/pandas-docs/stable/user_guide/indexing.html#returning-a-view-versus-a-copy\n",
      "  N_deam_322['stripped_peptide'] = N_deam_322['Peptide'].str.replace(r\"\\(.*\\)\",\"\").drop_duplicates()\n"
     ]
    },
    {
     "data": {
      "text/html": [
       "<div>\n",
       "<style scoped>\n",
       "    .dataframe tbody tr th:only-of-type {\n",
       "        vertical-align: middle;\n",
       "    }\n",
       "\n",
       "    .dataframe tbody tr th {\n",
       "        vertical-align: top;\n",
       "    }\n",
       "\n",
       "    .dataframe thead th {\n",
       "        text-align: right;\n",
       "    }\n",
       "</style>\n",
       "<table border=\"1\" class=\"dataframe\">\n",
       "  <thead>\n",
       "    <tr style=\"text-align: right;\">\n",
       "      <th></th>\n",
       "      <th>Peptide</th>\n",
       "      <th>stripped_peptide</th>\n",
       "    </tr>\n",
       "  </thead>\n",
       "  <tbody>\n",
       "    <tr>\n",
       "      <th>105</th>\n",
       "      <td>VIGQN(+.98)EAVDAVSNAIR</td>\n",
       "      <td>VIGQNEAVDAVSNAIR</td>\n",
       "    </tr>\n",
       "    <tr>\n",
       "      <th>167</th>\n",
       "      <td>LGEHN(+.98)IDVLEGN</td>\n",
       "      <td>LGEHNIDVLEGN</td>\n",
       "    </tr>\n",
       "    <tr>\n",
       "      <th>195</th>\n",
       "      <td>N(+.98)NPVLIGEPGVGK</td>\n",
       "      <td>NNPVLIGEPGVGK</td>\n",
       "    </tr>\n",
       "    <tr>\n",
       "      <th>212</th>\n",
       "      <td>SNGDGVIDIN(+.98)DK</td>\n",
       "      <td>SNGDGVIDINDK</td>\n",
       "    </tr>\n",
       "    <tr>\n",
       "      <th>275</th>\n",
       "      <td>IITHPNFNGN(+.98)TL</td>\n",
       "      <td>IITHPNFNGNTL</td>\n",
       "    </tr>\n",
       "  </tbody>\n",
       "</table>\n",
       "</div>"
      ],
      "text/plain": [
       "                    Peptide  stripped_peptide\n",
       "105  VIGQN(+.98)EAVDAVSNAIR  VIGQNEAVDAVSNAIR\n",
       "167      LGEHN(+.98)IDVLEGN      LGEHNIDVLEGN\n",
       "195     N(+.98)NPVLIGEPGVGK     NNPVLIGEPGVGK\n",
       "212      SNGDGVIDIN(+.98)DK      SNGDGVIDINDK\n",
       "275      IITHPNFNGN(+.98)TL      IITHPNFNGNTL"
      ]
     },
     "execution_count": 79,
     "metadata": {},
     "output_type": "execute_result"
    }
   ],
   "source": [
    "# take all lines if they contain deamindated asparagines and make new df\n",
    "\n",
    "keep= [\"N\\(\\+.98\"]\n",
    "\n",
    "N_deam_322 = all_322[all_322.Peptide.str.contains('|'.join(keep))]\n",
    "\n",
    "# now strip the special characters of the modification\n",
    "\n",
    "N_deam_322['stripped_peptide'] = N_deam_322['Peptide'].str.replace(r\"\\(.*\\)\",\"\").drop_duplicates()\n",
    "\n",
    "print('Number of deamidated asparagine peptides:', len(N_deam_322))\n",
    "\n",
    "# keep only stripped peptide column\n",
    "ndeam_322_sp = N_deam_322[[\"stripped_peptide\"]].dropna()\n",
    "\n",
    "# write to txt file\n",
    "\n",
    "ndeam_322_sp.to_csv('322-T0-combined-n-deam-stripped-peptides.txt', header=False, index=False)\n",
    "\n",
    "N_deam_322.head()"
   ]
  },
  {
   "cell_type": "code",
   "execution_count": 81,
   "metadata": {},
   "outputs": [
    {
     "name": "stdout",
     "output_type": "stream",
     "text": [
      "Number of lysine acetylation peptides: 420\n"
     ]
    },
    {
     "name": "stderr",
     "output_type": "stream",
     "text": [
      "<ipython-input-81-e6c8b69c28df>:9: SettingWithCopyWarning: \n",
      "A value is trying to be set on a copy of a slice from a DataFrame.\n",
      "Try using .loc[row_indexer,col_indexer] = value instead\n",
      "\n",
      "See the caveats in the documentation: https://pandas.pydata.org/pandas-docs/stable/user_guide/indexing.html#returning-a-view-versus-a-copy\n",
      "  K_acet_322['stripped_peptide'] = K_acet_322['Peptide'].str.replace(r\"\\(.*\\)\",\"\").drop_duplicates()\n"
     ]
    },
    {
     "data": {
      "text/html": [
       "<div>\n",
       "<style scoped>\n",
       "    .dataframe tbody tr th:only-of-type {\n",
       "        vertical-align: middle;\n",
       "    }\n",
       "\n",
       "    .dataframe tbody tr th {\n",
       "        vertical-align: top;\n",
       "    }\n",
       "\n",
       "    .dataframe thead th {\n",
       "        text-align: right;\n",
       "    }\n",
       "</style>\n",
       "<table border=\"1\" class=\"dataframe\">\n",
       "  <thead>\n",
       "    <tr style=\"text-align: right;\">\n",
       "      <th></th>\n",
       "      <th>Peptide</th>\n",
       "      <th>stripped_peptide</th>\n",
       "    </tr>\n",
       "  </thead>\n",
       "  <tbody>\n",
       "    <tr>\n",
       "      <th>1837</th>\n",
       "      <td>TTEEK(+42.01)R</td>\n",
       "      <td>TTEEKR</td>\n",
       "    </tr>\n",
       "    <tr>\n",
       "      <th>1890</th>\n",
       "      <td>VSN(+.98)VLVK(+42.01)</td>\n",
       "      <td>VSN</td>\n",
       "    </tr>\n",
       "    <tr>\n",
       "      <th>1919</th>\n",
       "      <td>K(+42.01)AEYWVK</td>\n",
       "      <td>KAEYWVK</td>\n",
       "    </tr>\n",
       "    <tr>\n",
       "      <th>1949</th>\n",
       "      <td>WELEVK(+42.01)</td>\n",
       "      <td>WELEVK</td>\n",
       "    </tr>\n",
       "    <tr>\n",
       "      <th>1964</th>\n",
       "      <td>VSLNK(+42.01)VYK</td>\n",
       "      <td>VSLNKVYK</td>\n",
       "    </tr>\n",
       "  </tbody>\n",
       "</table>\n",
       "</div>"
      ],
      "text/plain": [
       "                    Peptide stripped_peptide\n",
       "1837         TTEEK(+42.01)R           TTEEKR\n",
       "1890  VSN(+.98)VLVK(+42.01)              VSN\n",
       "1919        K(+42.01)AEYWVK          KAEYWVK\n",
       "1949         WELEVK(+42.01)           WELEVK\n",
       "1964       VSLNK(+42.01)VYK         VSLNKVYK"
      ]
     },
     "execution_count": 81,
     "metadata": {},
     "output_type": "execute_result"
    }
   ],
   "source": [
    "# take all lines if they contain lysine acetylations and make new df\n",
    "\n",
    "keep= [\"K\\(\\+42.01\"]\n",
    "\n",
    "K_acet_322 = all_322[all_322.Peptide.str.contains('|'.join(keep))]\n",
    "\n",
    "# now strip the special characters of the modification\n",
    "\n",
    "K_acet_322['stripped_peptide'] = K_acet_322['Peptide'].str.replace(r\"\\(.*\\)\",\"\").drop_duplicates()\n",
    "\n",
    "print('Number of lysine acetylation peptides:', len(K_acet_322))\n",
    "\n",
    "# keep only stripped peptide column\n",
    "kacet_322_sp = K_acet_322[[\"stripped_peptide\"]].dropna()\n",
    "\n",
    "# write to txt file\n",
    "\n",
    "kacet_322_sp.to_csv('322-T0-combined-k-acet-stripped-peptides.txt', header=False, index=False)\n",
    "\n",
    "K_acet_322.head()"
   ]
  },
  {
   "cell_type": "code",
   "execution_count": 82,
   "metadata": {},
   "outputs": [
    {
     "name": "stdout",
     "output_type": "stream",
     "text": [
      "Number of deamidated asparagine peptides: 495\n"
     ]
    },
    {
     "name": "stderr",
     "output_type": "stream",
     "text": [
      "<ipython-input-82-8b7c957f6c1e>:9: SettingWithCopyWarning: \n",
      "A value is trying to be set on a copy of a slice from a DataFrame.\n",
      "Try using .loc[row_indexer,col_indexer] = value instead\n",
      "\n",
      "See the caveats in the documentation: https://pandas.pydata.org/pandas-docs/stable/user_guide/indexing.html#returning-a-view-versus-a-copy\n",
      "  R_meth_322['stripped_peptide'] = R_meth_322['Peptide'].str.replace(r\"\\(.*\\)\",\"\").drop_duplicates()\n"
     ]
    },
    {
     "data": {
      "text/html": [
       "<div>\n",
       "<style scoped>\n",
       "    .dataframe tbody tr th:only-of-type {\n",
       "        vertical-align: middle;\n",
       "    }\n",
       "\n",
       "    .dataframe tbody tr th {\n",
       "        vertical-align: top;\n",
       "    }\n",
       "\n",
       "    .dataframe thead th {\n",
       "        text-align: right;\n",
       "    }\n",
       "</style>\n",
       "<table border=\"1\" class=\"dataframe\">\n",
       "  <thead>\n",
       "    <tr style=\"text-align: right;\">\n",
       "      <th></th>\n",
       "      <th>Peptide</th>\n",
       "      <th>stripped_peptide</th>\n",
       "    </tr>\n",
       "  </thead>\n",
       "  <tbody>\n",
       "    <tr>\n",
       "      <th>844</th>\n",
       "      <td>GLGSGGSIR(+14.02)</td>\n",
       "      <td>GLGSGGSIR</td>\n",
       "    </tr>\n",
       "    <tr>\n",
       "      <th>1469</th>\n",
       "      <td>VVSAAHC(+57.02)YK(+14.02)SR(+14.02)</td>\n",
       "      <td>VVSAAHC</td>\n",
       "    </tr>\n",
       "    <tr>\n",
       "      <th>1881</th>\n",
       "      <td>LLETENP(+15.99)R(+14.02)</td>\n",
       "      <td>LLETENP</td>\n",
       "    </tr>\n",
       "    <tr>\n",
       "      <th>1955</th>\n",
       "      <td>R(+14.02)DTVLFN(+.98)R(+14.02)</td>\n",
       "      <td>R</td>\n",
       "    </tr>\n",
       "    <tr>\n",
       "      <th>2063</th>\n",
       "      <td>VYGP(+15.99)DER(+14.02)</td>\n",
       "      <td>VYGP</td>\n",
       "    </tr>\n",
       "  </tbody>\n",
       "</table>\n",
       "</div>"
      ],
      "text/plain": [
       "                                  Peptide stripped_peptide\n",
       "844                     GLGSGGSIR(+14.02)        GLGSGGSIR\n",
       "1469  VVSAAHC(+57.02)YK(+14.02)SR(+14.02)          VVSAAHC\n",
       "1881             LLETENP(+15.99)R(+14.02)          LLETENP\n",
       "1955       R(+14.02)DTVLFN(+.98)R(+14.02)                R\n",
       "2063              VYGP(+15.99)DER(+14.02)             VYGP"
      ]
     },
     "execution_count": 82,
     "metadata": {},
     "output_type": "execute_result"
    }
   ],
   "source": [
    "# take all lines if they contain methylated arginines and make new df\n",
    "\n",
    "keep= [\"R\\(\\+14.02\"]\n",
    "\n",
    "R_meth_322 = all_322[all_322.Peptide.str.contains('|'.join(keep))]\n",
    "\n",
    "# now strip the special characters of the modification\n",
    "\n",
    "R_meth_322['stripped_peptide'] = R_meth_322['Peptide'].str.replace(r\"\\(.*\\)\",\"\").drop_duplicates()\n",
    "\n",
    "print('Number of deamidated asparagine peptides:', len(R_meth_322))\n",
    "\n",
    "# keep only stripped peptide column\n",
    "rmeth_322_sp = R_meth_322[[\"stripped_peptide\"]].dropna()\n",
    "\n",
    "# write to txt file\n",
    "\n",
    "rmeth_322_sp.to_csv('322-T0-combined-r-meth-stripped-peptides.txt', header=False, index=False)\n",
    "\n",
    "R_meth_322.head()"
   ]
  },
  {
   "cell_type": "markdown",
   "metadata": {},
   "source": [
    "## Combine 329"
   ]
  },
  {
   "cell_type": "code",
   "execution_count": 83,
   "metadata": {},
   "outputs": [],
   "source": [
    "cat TW_329_T0_trypsin_noenz_combine_PTMopt_DN_mod_peptides.txt TW_329_T0_undig_noenz_combine_PTMopt_DB_FDR1_mod_peptides.txt > all_329.csv"
   ]
  },
  {
   "cell_type": "code",
   "execution_count": 84,
   "metadata": {},
   "outputs": [
    {
     "name": "stdout",
     "output_type": "stream",
     "text": [
      "Total peptides: 2118\n"
     ]
    },
    {
     "data": {
      "text/html": [
       "<div>\n",
       "<style scoped>\n",
       "    .dataframe tbody tr th:only-of-type {\n",
       "        vertical-align: middle;\n",
       "    }\n",
       "\n",
       "    .dataframe tbody tr th {\n",
       "        vertical-align: top;\n",
       "    }\n",
       "\n",
       "    .dataframe thead th {\n",
       "        text-align: right;\n",
       "    }\n",
       "</style>\n",
       "<table border=\"1\" class=\"dataframe\">\n",
       "  <thead>\n",
       "    <tr style=\"text-align: right;\">\n",
       "      <th></th>\n",
       "      <th>Peptide</th>\n",
       "    </tr>\n",
       "  </thead>\n",
       "  <tbody>\n",
       "    <tr>\n",
       "      <th>0</th>\n",
       "      <td>HLDVDDSGK</td>\n",
       "    </tr>\n",
       "    <tr>\n",
       "      <th>1</th>\n",
       "      <td>DKFDEETK</td>\n",
       "    </tr>\n",
       "    <tr>\n",
       "      <th>2</th>\n",
       "      <td>DPN(+.98)LPLK(+42.01)H</td>\n",
       "    </tr>\n",
       "    <tr>\n",
       "      <th>3</th>\n",
       "      <td>P(+15.99)KEKFE</td>\n",
       "    </tr>\n",
       "    <tr>\n",
       "      <th>4</th>\n",
       "      <td>DHGEVVVK</td>\n",
       "    </tr>\n",
       "  </tbody>\n",
       "</table>\n",
       "</div>"
      ],
      "text/plain": [
       "                  Peptide\n",
       "0               HLDVDDSGK\n",
       "1                DKFDEETK\n",
       "2  DPN(+.98)LPLK(+42.01)H\n",
       "3          P(+15.99)KEKFE\n",
       "4                DHGEVVVK"
      ]
     },
     "execution_count": 84,
     "metadata": {},
     "output_type": "execute_result"
    }
   ],
   "source": [
    "# read in the combined datafile as a dataframe\n",
    "\n",
    "all_329 = pd.read_csv(\"all_329.csv\", header = None)\n",
    "\n",
    "all_329.columns = ['Peptide']\n",
    "\n",
    "print('Total peptides:', len(all_329))\n",
    "\n",
    "all_329.head()"
   ]
  },
  {
   "cell_type": "code",
   "execution_count": 85,
   "metadata": {},
   "outputs": [
    {
     "name": "stdout",
     "output_type": "stream",
     "text": [
      "Number of deamidated asparagine peptides: 364\n"
     ]
    },
    {
     "name": "stderr",
     "output_type": "stream",
     "text": [
      "<ipython-input-85-533f2d61c70f>:9: SettingWithCopyWarning: \n",
      "A value is trying to be set on a copy of a slice from a DataFrame.\n",
      "Try using .loc[row_indexer,col_indexer] = value instead\n",
      "\n",
      "See the caveats in the documentation: https://pandas.pydata.org/pandas-docs/stable/user_guide/indexing.html#returning-a-view-versus-a-copy\n",
      "  N_deam_329['stripped_peptide'] = N_deam_329['Peptide'].str.replace(r\"\\(.*\\)\",\"\").drop_duplicates()\n"
     ]
    },
    {
     "data": {
      "text/html": [
       "<div>\n",
       "<style scoped>\n",
       "    .dataframe tbody tr th:only-of-type {\n",
       "        vertical-align: middle;\n",
       "    }\n",
       "\n",
       "    .dataframe tbody tr th {\n",
       "        vertical-align: top;\n",
       "    }\n",
       "\n",
       "    .dataframe thead th {\n",
       "        text-align: right;\n",
       "    }\n",
       "</style>\n",
       "<table border=\"1\" class=\"dataframe\">\n",
       "  <thead>\n",
       "    <tr style=\"text-align: right;\">\n",
       "      <th></th>\n",
       "      <th>Peptide</th>\n",
       "      <th>stripped_peptide</th>\n",
       "    </tr>\n",
       "  </thead>\n",
       "  <tbody>\n",
       "    <tr>\n",
       "      <th>2</th>\n",
       "      <td>DPN(+.98)LPLK(+42.01)H</td>\n",
       "      <td>DPNH</td>\n",
       "    </tr>\n",
       "    <tr>\n",
       "      <th>7</th>\n",
       "      <td>SPN(+.98)N(+.98)SLK</td>\n",
       "      <td>SPNSLK</td>\n",
       "    </tr>\n",
       "    <tr>\n",
       "      <th>8</th>\n",
       "      <td>YN(+.98)PDLPLLGH</td>\n",
       "      <td>YNPDLPLLGH</td>\n",
       "    </tr>\n",
       "    <tr>\n",
       "      <th>11</th>\n",
       "      <td>DN(+.98)ADQERF</td>\n",
       "      <td>DNADQERF</td>\n",
       "    </tr>\n",
       "    <tr>\n",
       "      <th>12</th>\n",
       "      <td>DPN(+.98)LPLVAH</td>\n",
       "      <td>DPNLPLVAH</td>\n",
       "    </tr>\n",
       "  </tbody>\n",
       "</table>\n",
       "</div>"
      ],
      "text/plain": [
       "                   Peptide stripped_peptide\n",
       "2   DPN(+.98)LPLK(+42.01)H             DPNH\n",
       "7      SPN(+.98)N(+.98)SLK           SPNSLK\n",
       "8         YN(+.98)PDLPLLGH       YNPDLPLLGH\n",
       "11          DN(+.98)ADQERF         DNADQERF\n",
       "12         DPN(+.98)LPLVAH        DPNLPLVAH"
      ]
     },
     "execution_count": 85,
     "metadata": {},
     "output_type": "execute_result"
    }
   ],
   "source": [
    "# take all lines if they contain deamindated asparagines and make new df\n",
    "\n",
    "keep= [\"N\\(\\+.98\"]\n",
    "\n",
    "N_deam_329 = all_329[all_329.Peptide.str.contains('|'.join(keep))]\n",
    "\n",
    "# now strip the special characters of the modification\n",
    "\n",
    "N_deam_329['stripped_peptide'] = N_deam_329['Peptide'].str.replace(r\"\\(.*\\)\",\"\").drop_duplicates()\n",
    "\n",
    "print('Number of deamidated asparagine peptides:', len(N_deam_329))\n",
    "\n",
    "# keep only stripped peptide column\n",
    "ndeam_329_sp = N_deam_329[[\"stripped_peptide\"]].dropna()\n",
    "\n",
    "# write to txt file\n",
    "\n",
    "ndeam_329_sp.to_csv('329-T0-combined-n-deam-stripped-peptides.txt', header=False, index=False)\n",
    "\n",
    "N_deam_329.head()"
   ]
  },
  {
   "cell_type": "code",
   "execution_count": 86,
   "metadata": {},
   "outputs": [
    {
     "name": "stdout",
     "output_type": "stream",
     "text": [
      "Number of lysine acetylation peptides: 90\n"
     ]
    },
    {
     "name": "stderr",
     "output_type": "stream",
     "text": [
      "<ipython-input-86-8fcf17a3344e>:9: SettingWithCopyWarning: \n",
      "A value is trying to be set on a copy of a slice from a DataFrame.\n",
      "Try using .loc[row_indexer,col_indexer] = value instead\n",
      "\n",
      "See the caveats in the documentation: https://pandas.pydata.org/pandas-docs/stable/user_guide/indexing.html#returning-a-view-versus-a-copy\n",
      "  K_acet_329['stripped_peptide'] = K_acet_329['Peptide'].str.replace(r\"\\(.*\\)\",\"\").drop_duplicates()\n"
     ]
    },
    {
     "data": {
      "text/html": [
       "<div>\n",
       "<style scoped>\n",
       "    .dataframe tbody tr th:only-of-type {\n",
       "        vertical-align: middle;\n",
       "    }\n",
       "\n",
       "    .dataframe tbody tr th {\n",
       "        vertical-align: top;\n",
       "    }\n",
       "\n",
       "    .dataframe thead th {\n",
       "        text-align: right;\n",
       "    }\n",
       "</style>\n",
       "<table border=\"1\" class=\"dataframe\">\n",
       "  <thead>\n",
       "    <tr style=\"text-align: right;\">\n",
       "      <th></th>\n",
       "      <th>Peptide</th>\n",
       "      <th>stripped_peptide</th>\n",
       "    </tr>\n",
       "  </thead>\n",
       "  <tbody>\n",
       "    <tr>\n",
       "      <th>2</th>\n",
       "      <td>DPN(+.98)LPLK(+42.01)H</td>\n",
       "      <td>DPNH</td>\n",
       "    </tr>\n",
       "    <tr>\n",
       "      <th>17</th>\n",
       "      <td>WLVK(+42.01)LP</td>\n",
       "      <td>WLVKLP</td>\n",
       "    </tr>\n",
       "    <tr>\n",
       "      <th>81</th>\n",
       "      <td>TN(+.98)QQLSK(+42.01)</td>\n",
       "      <td>TN</td>\n",
       "    </tr>\n",
       "    <tr>\n",
       "      <th>146</th>\n",
       "      <td>K(+42.01)PLFDLKDR(+15.99)P</td>\n",
       "      <td>KP</td>\n",
       "    </tr>\n",
       "    <tr>\n",
       "      <th>154</th>\n",
       "      <td>K(+42.01)YDPDLPLLGH</td>\n",
       "      <td>KYDPDLPLLGH</td>\n",
       "    </tr>\n",
       "  </tbody>\n",
       "</table>\n",
       "</div>"
      ],
      "text/plain": [
       "                        Peptide stripped_peptide\n",
       "2        DPN(+.98)LPLK(+42.01)H             DPNH\n",
       "17               WLVK(+42.01)LP           WLVKLP\n",
       "81        TN(+.98)QQLSK(+42.01)               TN\n",
       "146  K(+42.01)PLFDLKDR(+15.99)P               KP\n",
       "154         K(+42.01)YDPDLPLLGH      KYDPDLPLLGH"
      ]
     },
     "execution_count": 86,
     "metadata": {},
     "output_type": "execute_result"
    }
   ],
   "source": [
    "# take all lines if they contain lysine acetylations and make new df\n",
    "\n",
    "keep= [\"K\\(\\+42.01\"]\n",
    "\n",
    "K_acet_329 = all_329[all_329.Peptide.str.contains('|'.join(keep))]\n",
    "\n",
    "# now strip the special characters of the modification\n",
    "\n",
    "K_acet_329['stripped_peptide'] = K_acet_329['Peptide'].str.replace(r\"\\(.*\\)\",\"\").drop_duplicates()\n",
    "\n",
    "print('Number of lysine acetylation peptides:', len(K_acet_329))\n",
    "\n",
    "# keep only stripped peptide column\n",
    "kacet_329_sp = K_acet_329[[\"stripped_peptide\"]].dropna()\n",
    "\n",
    "# write to txt file\n",
    "\n",
    "kacet_329_sp.to_csv('329-T0-combined-k-acet-stripped-peptides.txt', header=False, index=False)\n",
    "\n",
    "K_acet_329.head()"
   ]
  },
  {
   "cell_type": "code",
   "execution_count": 87,
   "metadata": {},
   "outputs": [
    {
     "name": "stdout",
     "output_type": "stream",
     "text": [
      "Number of deamidated asparagine peptides: 75\n"
     ]
    },
    {
     "name": "stderr",
     "output_type": "stream",
     "text": [
      "<ipython-input-87-ece5b6cd23f9>:9: SettingWithCopyWarning: \n",
      "A value is trying to be set on a copy of a slice from a DataFrame.\n",
      "Try using .loc[row_indexer,col_indexer] = value instead\n",
      "\n",
      "See the caveats in the documentation: https://pandas.pydata.org/pandas-docs/stable/user_guide/indexing.html#returning-a-view-versus-a-copy\n",
      "  R_meth_329['stripped_peptide'] = R_meth_329['Peptide'].str.replace(r\"\\(.*\\)\",\"\").drop_duplicates()\n"
     ]
    },
    {
     "data": {
      "text/html": [
       "<div>\n",
       "<style scoped>\n",
       "    .dataframe tbody tr th:only-of-type {\n",
       "        vertical-align: middle;\n",
       "    }\n",
       "\n",
       "    .dataframe tbody tr th {\n",
       "        vertical-align: top;\n",
       "    }\n",
       "\n",
       "    .dataframe thead th {\n",
       "        text-align: right;\n",
       "    }\n",
       "</style>\n",
       "<table border=\"1\" class=\"dataframe\">\n",
       "  <thead>\n",
       "    <tr style=\"text-align: right;\">\n",
       "      <th></th>\n",
       "      <th>Peptide</th>\n",
       "      <th>stripped_peptide</th>\n",
       "    </tr>\n",
       "  </thead>\n",
       "  <tbody>\n",
       "    <tr>\n",
       "      <th>36</th>\n",
       "      <td>LGELVR(+14.02)P</td>\n",
       "      <td>LGELVRP</td>\n",
       "    </tr>\n",
       "    <tr>\n",
       "      <th>83</th>\n",
       "      <td>LLVVC(+57.02)R(+14.02)TP(+15.99)</td>\n",
       "      <td>LLVVC</td>\n",
       "    </tr>\n",
       "    <tr>\n",
       "      <th>102</th>\n",
       "      <td>R(+14.02)PWTQT</td>\n",
       "      <td>RPWTQT</td>\n",
       "    </tr>\n",
       "    <tr>\n",
       "      <th>104</th>\n",
       "      <td>R(+14.02)KPSDPEE</td>\n",
       "      <td>RKPSDPEE</td>\n",
       "    </tr>\n",
       "    <tr>\n",
       "      <th>145</th>\n",
       "      <td>VLGADDR(+14.02)N</td>\n",
       "      <td>VLGADDRN</td>\n",
       "    </tr>\n",
       "  </tbody>\n",
       "</table>\n",
       "</div>"
      ],
      "text/plain": [
       "                              Peptide stripped_peptide\n",
       "36                    LGELVR(+14.02)P          LGELVRP\n",
       "83   LLVVC(+57.02)R(+14.02)TP(+15.99)            LLVVC\n",
       "102                    R(+14.02)PWTQT           RPWTQT\n",
       "104                  R(+14.02)KPSDPEE         RKPSDPEE\n",
       "145                  VLGADDR(+14.02)N         VLGADDRN"
      ]
     },
     "execution_count": 87,
     "metadata": {},
     "output_type": "execute_result"
    }
   ],
   "source": [
    "# take all lines if they contain methylated arginines and make new df\n",
    "\n",
    "keep= [\"R\\(\\+14.02\"]\n",
    "\n",
    "R_meth_329 = all_329[all_329.Peptide.str.contains('|'.join(keep))]\n",
    "\n",
    "# now strip the special characters of the modification\n",
    "\n",
    "R_meth_329['stripped_peptide'] = R_meth_329['Peptide'].str.replace(r\"\\(.*\\)\",\"\").drop_duplicates()\n",
    "\n",
    "print('Number of deamidated asparagine peptides:', len(R_meth_329))\n",
    "\n",
    "# keep only stripped peptide column\n",
    "rmeth_329_sp = R_meth_329[[\"stripped_peptide\"]].dropna()\n",
    "\n",
    "# write to txt file\n",
    "\n",
    "rmeth_329_sp.to_csv('329-T0-combined-r-meth-stripped-peptides.txt', header=False, index=False)\n",
    "\n",
    "R_meth_329.head()"
   ]
  }
 ],
 "metadata": {
  "kernelspec": {
   "display_name": "Python 3",
   "language": "python",
   "name": "python3"
  },
  "language_info": {
   "codemirror_mode": {
    "name": "ipython",
    "version": 3
   },
   "file_extension": ".py",
   "mimetype": "text/x-python",
   "name": "python",
   "nbconvert_exporter": "python",
   "pygments_lexer": "ipython3",
   "version": "3.8.3"
  }
 },
 "nbformat": 4,
 "nbformat_minor": 4
}
