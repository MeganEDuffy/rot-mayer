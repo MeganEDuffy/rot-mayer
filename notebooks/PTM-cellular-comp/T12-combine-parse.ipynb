{
 "cells": [
  {
   "cell_type": "markdown",
   "metadata": {},
   "source": [
    "## Evaluating the PTMs across peptides from different cellular compartments\n",
    "\n",
    "### Beginning with:\n",
    "\n",
    "    Exported peptides lists (.csvs) that contain the AAs with modifications. Want to combine peptides from the following:\n",
    "    \n",
    "     - from trypsin and no-digest searches\n",
    "     - from DB and DN searches\n",
    "     \n",
    "    From 8 samples (4 timepoints and 2 treatments, trypsin- and naturallyd-digested\n",
    "    \n",
    "     - 325: Day 0 trypsin digested\n",
    "     - 323: Day 2 trypsin digested\n",
    "     - 324: Day 5 trypsin digested\n",
    "     - 325: Day 12 trypsin digested\n",
    "     - 332: Day 0 undigested\n",
    "     - 330: Day 2 undigested\n",
    "     - 331: Day 5 undigested\n",
    "     - 332: Day 12 undigested\n",
    "    \n",
    "### Want:\n",
    "\n",
    "    Text files with all the stripped (no mod) peptides for the following modifications:\n",
    "        \n",
    "        - Lysine acetylation\n",
    "        - Asparagine demidation\n",
    "        - Arginine methylation\n",
    "        "
   ]
  },
  {
   "cell_type": "code",
   "execution_count": 1,
   "metadata": {},
   "outputs": [
    {
     "data": {
      "text/plain": [
       "'1.0.5'"
      ]
     },
     "execution_count": 1,
     "metadata": {},
     "output_type": "execute_result"
    }
   ],
   "source": [
    "# LIBRARIES\n",
    "#import pandas library for working with tabular data\n",
    "import os\n",
    "os.getcwd()\n",
    "import pandas as pd\n",
    "import numpy as np\n",
    "import matplotlib.pyplot as plt\n",
    "import seaborn as sns\n",
    "from scipy.stats import kde\n",
    "#import regular expresson (regex)\n",
    "import re\n",
    "#check pandas version\n",
    "pd.__version__"
   ]
  },
  {
   "cell_type": "markdown",
   "metadata": {},
   "source": [
    "## Combine 325"
   ]
  },
  {
   "cell_type": "code",
   "execution_count": 2,
   "metadata": {},
   "outputs": [
    {
     "name": "stdout",
     "output_type": "stream",
     "text": [
      "/home/millieginty/Documents/git-repos/rot-mayer/data/processed/PTM-cellular-compartment/to-combine/T12\n"
     ]
    }
   ],
   "source": [
    "cd /home/millieginty/Documents/git-repos/rot-mayer/data/processed/PTM-cellular-compartment/to-combine/T12/"
   ]
  },
  {
   "cell_type": "code",
   "execution_count": 3,
   "metadata": {},
   "outputs": [],
   "source": [
    "cat TW_325_T12_trypsin_noenz_combine_PTMopt_DB_FDR1_mod_peptides.txt TW_325_T12_trypsin_combine_PTMopt_DB_FDR1_mod_peptides.txt TW_325_T12_trypsin_combine_PTMopt_DN_mod_peptides.txt TW_325_T12_trypsin_noenz_combine_PTMopt_DN_mod_peptides.txt > all_325.csv"
   ]
  },
  {
   "cell_type": "code",
   "execution_count": 4,
   "metadata": {},
   "outputs": [
    {
     "name": "stdout",
     "output_type": "stream",
     "text": [
      "Total peptides: 10571\n"
     ]
    },
    {
     "data": {
      "text/html": [
       "<div>\n",
       "<style scoped>\n",
       "    .dataframe tbody tr th:only-of-type {\n",
       "        vertical-align: middle;\n",
       "    }\n",
       "\n",
       "    .dataframe tbody tr th {\n",
       "        vertical-align: top;\n",
       "    }\n",
       "\n",
       "    .dataframe thead th {\n",
       "        text-align: right;\n",
       "    }\n",
       "</style>\n",
       "<table border=\"1\" class=\"dataframe\">\n",
       "  <thead>\n",
       "    <tr style=\"text-align: right;\">\n",
       "      <th></th>\n",
       "      <th>Peptide</th>\n",
       "    </tr>\n",
       "  </thead>\n",
       "  <tbody>\n",
       "    <tr>\n",
       "      <th>0</th>\n",
       "      <td>LPQVEGTGGDVQPSQDLVR</td>\n",
       "    </tr>\n",
       "    <tr>\n",
       "      <th>1</th>\n",
       "      <td>STEFDNILIVGPIAGK</td>\n",
       "    </tr>\n",
       "    <tr>\n",
       "      <th>2</th>\n",
       "      <td>LPQVEGTGGDVQPSQ(+.98)DLVR</td>\n",
       "    </tr>\n",
       "    <tr>\n",
       "      <th>3</th>\n",
       "      <td>VIGQNEAVDAVSNAIR</td>\n",
       "    </tr>\n",
       "    <tr>\n",
       "      <th>4</th>\n",
       "      <td>AIGPGIGQGNAAGQAVEGIAR</td>\n",
       "    </tr>\n",
       "  </tbody>\n",
       "</table>\n",
       "</div>"
      ],
      "text/plain": [
       "                     Peptide\n",
       "0        LPQVEGTGGDVQPSQDLVR\n",
       "1           STEFDNILIVGPIAGK\n",
       "2  LPQVEGTGGDVQPSQ(+.98)DLVR\n",
       "3           VIGQNEAVDAVSNAIR\n",
       "4      AIGPGIGQGNAAGQAVEGIAR"
      ]
     },
     "execution_count": 4,
     "metadata": {},
     "output_type": "execute_result"
    }
   ],
   "source": [
    "# read in the combined datafile as a dataframe\n",
    "\n",
    "all_325 = pd.read_csv(\"all_325.csv\", header = None)\n",
    "\n",
    "all_325.columns = ['Peptide']\n",
    "\n",
    "print('Total peptides:', len(all_325))\n",
    "\n",
    "all_325.head()"
   ]
  },
  {
   "cell_type": "code",
   "execution_count": 5,
   "metadata": {},
   "outputs": [
    {
     "name": "stdout",
     "output_type": "stream",
     "text": [
      "Number of deamidated asparagine peptides: 1490\n"
     ]
    },
    {
     "name": "stderr",
     "output_type": "stream",
     "text": [
      "<ipython-input-5-80f0ed90a1bf>:9: SettingWithCopyWarning: \n",
      "A value is trying to be set on a copy of a slice from a DataFrame.\n",
      "Try using .loc[row_indexer,col_indexer] = value instead\n",
      "\n",
      "See the caveats in the documentation: https://pandas.pydata.org/pandas-docs/stable/user_guide/indexing.html#returning-a-view-versus-a-copy\n",
      "  N_deam_325['stripped_peptide'] = N_deam_325['Peptide'].str.replace(r\"\\(.*\\)\",\"\").drop_duplicates()\n"
     ]
    },
    {
     "data": {
      "text/html": [
       "<div>\n",
       "<style scoped>\n",
       "    .dataframe tbody tr th:only-of-type {\n",
       "        vertical-align: middle;\n",
       "    }\n",
       "\n",
       "    .dataframe tbody tr th {\n",
       "        vertical-align: top;\n",
       "    }\n",
       "\n",
       "    .dataframe thead th {\n",
       "        text-align: right;\n",
       "    }\n",
       "</style>\n",
       "<table border=\"1\" class=\"dataframe\">\n",
       "  <thead>\n",
       "    <tr style=\"text-align: right;\">\n",
       "      <th></th>\n",
       "      <th>Peptide</th>\n",
       "      <th>stripped_peptide</th>\n",
       "    </tr>\n",
       "  </thead>\n",
       "  <tbody>\n",
       "    <tr>\n",
       "      <th>25</th>\n",
       "      <td>VIGQN(+.98)EAVDAVSNAIR</td>\n",
       "      <td>VIGQNEAVDAVSNAIR</td>\n",
       "    </tr>\n",
       "    <tr>\n",
       "      <th>97</th>\n",
       "      <td>N(+.98)NPVLIGEPGVGK</td>\n",
       "      <td>NNPVLIGEPGVGK</td>\n",
       "    </tr>\n",
       "    <tr>\n",
       "      <th>104</th>\n",
       "      <td>LGEHNIDVLEGN(+.98)</td>\n",
       "      <td>LGEHNIDVLEGN</td>\n",
       "    </tr>\n",
       "    <tr>\n",
       "      <th>177</th>\n",
       "      <td>NN(+.98)PVLIGEPGVGK</td>\n",
       "      <td>NaN</td>\n",
       "    </tr>\n",
       "    <tr>\n",
       "      <th>228</th>\n",
       "      <td>LGEHN(+.98)IDVLEG</td>\n",
       "      <td>LGEHNIDVLEG</td>\n",
       "    </tr>\n",
       "  </tbody>\n",
       "</table>\n",
       "</div>"
      ],
      "text/plain": [
       "                    Peptide  stripped_peptide\n",
       "25   VIGQN(+.98)EAVDAVSNAIR  VIGQNEAVDAVSNAIR\n",
       "97      N(+.98)NPVLIGEPGVGK     NNPVLIGEPGVGK\n",
       "104      LGEHNIDVLEGN(+.98)      LGEHNIDVLEGN\n",
       "177     NN(+.98)PVLIGEPGVGK               NaN\n",
       "228       LGEHN(+.98)IDVLEG       LGEHNIDVLEG"
      ]
     },
     "execution_count": 5,
     "metadata": {},
     "output_type": "execute_result"
    }
   ],
   "source": [
    "# take all lines if they contain deamindated asparagines and make new df\n",
    "\n",
    "keep= [\"N\\(\\+.98\"]\n",
    "\n",
    "N_deam_325 = all_325[all_325.Peptide.str.contains('|'.join(keep))]\n",
    "\n",
    "# now strip the special characters of the modification\n",
    "\n",
    "N_deam_325['stripped_peptide'] = N_deam_325['Peptide'].str.replace(r\"\\(.*\\)\",\"\").drop_duplicates()\n",
    "\n",
    "print('Number of deamidated asparagine peptides:', len(N_deam_325))\n",
    "\n",
    "# keep only stripped peptide column\n",
    "ndeam_325_sp = N_deam_325[[\"stripped_peptide\"]].dropna()\n",
    "\n",
    "# write to txt file\n",
    "\n",
    "ndeam_325_sp.to_csv('325-T12-combined-n-deam-stripped-peptides.txt', header=False, index=False)\n",
    "\n",
    "N_deam_325.head()"
   ]
  },
  {
   "cell_type": "code",
   "execution_count": 6,
   "metadata": {},
   "outputs": [
    {
     "name": "stdout",
     "output_type": "stream",
     "text": [
      "Number of lysine acetylation peptides: 560\n"
     ]
    },
    {
     "name": "stderr",
     "output_type": "stream",
     "text": [
      "<ipython-input-6-d18ccbec538d>:9: SettingWithCopyWarning: \n",
      "A value is trying to be set on a copy of a slice from a DataFrame.\n",
      "Try using .loc[row_indexer,col_indexer] = value instead\n",
      "\n",
      "See the caveats in the documentation: https://pandas.pydata.org/pandas-docs/stable/user_guide/indexing.html#returning-a-view-versus-a-copy\n",
      "  K_acet_325['stripped_peptide'] = K_acet_325['Peptide'].str.replace(r\"\\(.*\\)\",\"\").drop_duplicates()\n"
     ]
    },
    {
     "data": {
      "text/html": [
       "<div>\n",
       "<style scoped>\n",
       "    .dataframe tbody tr th:only-of-type {\n",
       "        vertical-align: middle;\n",
       "    }\n",
       "\n",
       "    .dataframe tbody tr th {\n",
       "        vertical-align: top;\n",
       "    }\n",
       "\n",
       "    .dataframe thead th {\n",
       "        text-align: right;\n",
       "    }\n",
       "</style>\n",
       "<table border=\"1\" class=\"dataframe\">\n",
       "  <thead>\n",
       "    <tr style=\"text-align: right;\">\n",
       "      <th></th>\n",
       "      <th>Peptide</th>\n",
       "      <th>stripped_peptide</th>\n",
       "    </tr>\n",
       "  </thead>\n",
       "  <tbody>\n",
       "    <tr>\n",
       "      <th>739</th>\n",
       "      <td>NGALDFGWDK(+15.99)FDAETK(+42.01)</td>\n",
       "      <td>NGALDFGWDK</td>\n",
       "    </tr>\n",
       "    <tr>\n",
       "      <th>923</th>\n",
       "      <td>TTEEK(+42.01)R</td>\n",
       "      <td>TTEEKR</td>\n",
       "    </tr>\n",
       "    <tr>\n",
       "      <th>948</th>\n",
       "      <td>K(+42.01)LLLPK</td>\n",
       "      <td>KLLLPK</td>\n",
       "    </tr>\n",
       "    <tr>\n",
       "      <th>962</th>\n",
       "      <td>K(+42.01)LFGTLTK</td>\n",
       "      <td>KLFGTLTK</td>\n",
       "    </tr>\n",
       "    <tr>\n",
       "      <th>975</th>\n",
       "      <td>FEEAK(+42.01)R</td>\n",
       "      <td>FEEAKR</td>\n",
       "    </tr>\n",
       "  </tbody>\n",
       "</table>\n",
       "</div>"
      ],
      "text/plain": [
       "                              Peptide stripped_peptide\n",
       "739  NGALDFGWDK(+15.99)FDAETK(+42.01)       NGALDFGWDK\n",
       "923                    TTEEK(+42.01)R           TTEEKR\n",
       "948                    K(+42.01)LLLPK           KLLLPK\n",
       "962                  K(+42.01)LFGTLTK         KLFGTLTK\n",
       "975                    FEEAK(+42.01)R           FEEAKR"
      ]
     },
     "execution_count": 6,
     "metadata": {},
     "output_type": "execute_result"
    }
   ],
   "source": [
    "# take all lines if they contain lysine acetylations and make new df\n",
    "\n",
    "keep= [\"K\\(\\+42.01\"]\n",
    "\n",
    "K_acet_325 = all_325[all_325.Peptide.str.contains('|'.join(keep))]\n",
    "\n",
    "# now strip the special characters of the modification\n",
    "\n",
    "K_acet_325['stripped_peptide'] = K_acet_325['Peptide'].str.replace(r\"\\(.*\\)\",\"\").drop_duplicates()\n",
    "\n",
    "print('Number of lysine acetylation peptides:', len(K_acet_325))\n",
    "\n",
    "# keep only stripped peptide column\n",
    "kacet_325_sp = K_acet_325[[\"stripped_peptide\"]].dropna()\n",
    "\n",
    "# write to txt file\n",
    "\n",
    "kacet_325_sp.to_csv('325-T12-combined-k-acet-stripped-peptides.txt', header=False, index=False)\n",
    "\n",
    "K_acet_325.head()"
   ]
  },
  {
   "cell_type": "code",
   "execution_count": 7,
   "metadata": {},
   "outputs": [
    {
     "name": "stdout",
     "output_type": "stream",
     "text": [
      "Number of deamidated asparagine peptides: 722\n"
     ]
    },
    {
     "name": "stderr",
     "output_type": "stream",
     "text": [
      "<ipython-input-7-b49daa7c03ee>:9: SettingWithCopyWarning: \n",
      "A value is trying to be set on a copy of a slice from a DataFrame.\n",
      "Try using .loc[row_indexer,col_indexer] = value instead\n",
      "\n",
      "See the caveats in the documentation: https://pandas.pydata.org/pandas-docs/stable/user_guide/indexing.html#returning-a-view-versus-a-copy\n",
      "  R_meth_325['stripped_peptide'] = R_meth_325['Peptide'].str.replace(r\"\\(.*\\)\",\"\").drop_duplicates()\n"
     ]
    },
    {
     "data": {
      "text/html": [
       "<div>\n",
       "<style scoped>\n",
       "    .dataframe tbody tr th:only-of-type {\n",
       "        vertical-align: middle;\n",
       "    }\n",
       "\n",
       "    .dataframe tbody tr th {\n",
       "        vertical-align: top;\n",
       "    }\n",
       "\n",
       "    .dataframe thead th {\n",
       "        text-align: right;\n",
       "    }\n",
       "</style>\n",
       "<table border=\"1\" class=\"dataframe\">\n",
       "  <thead>\n",
       "    <tr style=\"text-align: right;\">\n",
       "      <th></th>\n",
       "      <th>Peptide</th>\n",
       "      <th>stripped_peptide</th>\n",
       "    </tr>\n",
       "  </thead>\n",
       "  <tbody>\n",
       "    <tr>\n",
       "      <th>1012</th>\n",
       "      <td>TAGTGDTVNR(+14.02)</td>\n",
       "      <td>TAGTGDTVNR</td>\n",
       "    </tr>\n",
       "    <tr>\n",
       "      <th>1015</th>\n",
       "      <td>C(+57.02)VVDP(+15.99)R(+14.02)K</td>\n",
       "      <td>CK</td>\n",
       "    </tr>\n",
       "    <tr>\n",
       "      <th>1272</th>\n",
       "      <td>R(+14.02)LDN(+.98)AN(+.98)C(+57.02)PR</td>\n",
       "      <td>RPR</td>\n",
       "    </tr>\n",
       "    <tr>\n",
       "      <th>1298</th>\n",
       "      <td>R(+14.02)WLEVK</td>\n",
       "      <td>RWLEVK</td>\n",
       "    </tr>\n",
       "    <tr>\n",
       "      <th>1304</th>\n",
       "      <td>R(+14.02)TTP(+15.99)VLR</td>\n",
       "      <td>RVLR</td>\n",
       "    </tr>\n",
       "  </tbody>\n",
       "</table>\n",
       "</div>"
      ],
      "text/plain": [
       "                                    Peptide stripped_peptide\n",
       "1012                     TAGTGDTVNR(+14.02)       TAGTGDTVNR\n",
       "1015        C(+57.02)VVDP(+15.99)R(+14.02)K               CK\n",
       "1272  R(+14.02)LDN(+.98)AN(+.98)C(+57.02)PR              RPR\n",
       "1298                         R(+14.02)WLEVK           RWLEVK\n",
       "1304                R(+14.02)TTP(+15.99)VLR             RVLR"
      ]
     },
     "execution_count": 7,
     "metadata": {},
     "output_type": "execute_result"
    }
   ],
   "source": [
    "# take all lines if they contain methylated arginines and make new df\n",
    "\n",
    "keep= [\"R\\(\\+14.02\"]\n",
    "\n",
    "R_meth_325 = all_325[all_325.Peptide.str.contains('|'.join(keep))]\n",
    "\n",
    "# now strip the special characters of the modification\n",
    "\n",
    "R_meth_325['stripped_peptide'] = R_meth_325['Peptide'].str.replace(r\"\\(.*\\)\",\"\").drop_duplicates()\n",
    "\n",
    "print('Number of deamidated asparagine peptides:', len(R_meth_325))\n",
    "\n",
    "# keep only stripped peptide column\n",
    "rmeth_325_sp = R_meth_325[[\"stripped_peptide\"]].dropna()\n",
    "\n",
    "# write to txt file\n",
    "\n",
    "rmeth_325_sp.to_csv('325-T12-combined-r-meth-stripped-peptides.txt', header=False, index=False)\n",
    "\n",
    "R_meth_325.head()"
   ]
  },
  {
   "cell_type": "markdown",
   "metadata": {},
   "source": [
    "## Combine 332"
   ]
  },
  {
   "cell_type": "code",
   "execution_count": 8,
   "metadata": {},
   "outputs": [],
   "source": [
    "cat TW_332_T12_trypsin_noenz_combine_PTMopt_DN_mod_peptides.txt TW_332_T12_undig_noenz_combine_PTMopt_DB_FDR1_mod_peptides.txt > all_332.csv"
   ]
  },
  {
   "cell_type": "code",
   "execution_count": 9,
   "metadata": {},
   "outputs": [
    {
     "name": "stdout",
     "output_type": "stream",
     "text": [
      "Total peptides: 2687\n"
     ]
    },
    {
     "data": {
      "text/html": [
       "<div>\n",
       "<style scoped>\n",
       "    .dataframe tbody tr th:only-of-type {\n",
       "        vertical-align: middle;\n",
       "    }\n",
       "\n",
       "    .dataframe tbody tr th {\n",
       "        vertical-align: top;\n",
       "    }\n",
       "\n",
       "    .dataframe thead th {\n",
       "        text-align: right;\n",
       "    }\n",
       "</style>\n",
       "<table border=\"1\" class=\"dataframe\">\n",
       "  <thead>\n",
       "    <tr style=\"text-align: right;\">\n",
       "      <th></th>\n",
       "      <th>Peptide</th>\n",
       "    </tr>\n",
       "  </thead>\n",
       "  <tbody>\n",
       "    <tr>\n",
       "      <th>0</th>\n",
       "      <td>HEDWQLK</td>\n",
       "    </tr>\n",
       "    <tr>\n",
       "      <th>1</th>\n",
       "      <td>LQNLHLL</td>\n",
       "    </tr>\n",
       "    <tr>\n",
       "      <th>2</th>\n",
       "      <td>KR(+15.99)LVVEN</td>\n",
       "    </tr>\n",
       "    <tr>\n",
       "      <th>3</th>\n",
       "      <td>DPN(+.98)LPLK(+42.01)H</td>\n",
       "    </tr>\n",
       "    <tr>\n",
       "      <th>4</th>\n",
       "      <td>KDETTLVDGH</td>\n",
       "    </tr>\n",
       "  </tbody>\n",
       "</table>\n",
       "</div>"
      ],
      "text/plain": [
       "                  Peptide\n",
       "0                 HEDWQLK\n",
       "1                 LQNLHLL\n",
       "2         KR(+15.99)LVVEN\n",
       "3  DPN(+.98)LPLK(+42.01)H\n",
       "4              KDETTLVDGH"
      ]
     },
     "execution_count": 9,
     "metadata": {},
     "output_type": "execute_result"
    }
   ],
   "source": [
    "# read in the combined datafile as a dataframe\n",
    "\n",
    "all_332 = pd.read_csv(\"all_332.csv\", header = None)\n",
    "\n",
    "all_332.columns = ['Peptide']\n",
    "\n",
    "print('Total peptides:', len(all_332))\n",
    "\n",
    "all_332.head()"
   ]
  },
  {
   "cell_type": "code",
   "execution_count": 10,
   "metadata": {},
   "outputs": [
    {
     "name": "stdout",
     "output_type": "stream",
     "text": [
      "Number of deamidated asparagine peptides: 451\n"
     ]
    },
    {
     "name": "stderr",
     "output_type": "stream",
     "text": [
      "<ipython-input-10-dc4908944aa7>:9: SettingWithCopyWarning: \n",
      "A value is trying to be set on a copy of a slice from a DataFrame.\n",
      "Try using .loc[row_indexer,col_indexer] = value instead\n",
      "\n",
      "See the caveats in the documentation: https://pandas.pydata.org/pandas-docs/stable/user_guide/indexing.html#returning-a-view-versus-a-copy\n",
      "  N_deam_332['stripped_peptide'] = N_deam_332['Peptide'].str.replace(r\"\\(.*\\)\",\"\").drop_duplicates()\n"
     ]
    },
    {
     "data": {
      "text/html": [
       "<div>\n",
       "<style scoped>\n",
       "    .dataframe tbody tr th:only-of-type {\n",
       "        vertical-align: middle;\n",
       "    }\n",
       "\n",
       "    .dataframe tbody tr th {\n",
       "        vertical-align: top;\n",
       "    }\n",
       "\n",
       "    .dataframe thead th {\n",
       "        text-align: right;\n",
       "    }\n",
       "</style>\n",
       "<table border=\"1\" class=\"dataframe\">\n",
       "  <thead>\n",
       "    <tr style=\"text-align: right;\">\n",
       "      <th></th>\n",
       "      <th>Peptide</th>\n",
       "      <th>stripped_peptide</th>\n",
       "    </tr>\n",
       "  </thead>\n",
       "  <tbody>\n",
       "    <tr>\n",
       "      <th>3</th>\n",
       "      <td>DPN(+.98)LPLK(+42.01)H</td>\n",
       "      <td>DPNH</td>\n",
       "    </tr>\n",
       "    <tr>\n",
       "      <th>9</th>\n",
       "      <td>WN(+.98)FVEL</td>\n",
       "      <td>WNFVEL</td>\n",
       "    </tr>\n",
       "    <tr>\n",
       "      <th>12</th>\n",
       "      <td>VHN(+.98)RVSLK</td>\n",
       "      <td>VHNRVSLK</td>\n",
       "    </tr>\n",
       "    <tr>\n",
       "      <th>15</th>\n",
       "      <td>SGN(+.98)DLTRQ</td>\n",
       "      <td>SGNDLTRQ</td>\n",
       "    </tr>\n",
       "    <tr>\n",
       "      <th>17</th>\n",
       "      <td>NPVN(+.98)LVLDH</td>\n",
       "      <td>NPVNLVLDH</td>\n",
       "    </tr>\n",
       "  </tbody>\n",
       "</table>\n",
       "</div>"
      ],
      "text/plain": [
       "                   Peptide stripped_peptide\n",
       "3   DPN(+.98)LPLK(+42.01)H             DPNH\n",
       "9             WN(+.98)FVEL           WNFVEL\n",
       "12          VHN(+.98)RVSLK         VHNRVSLK\n",
       "15          SGN(+.98)DLTRQ         SGNDLTRQ\n",
       "17         NPVN(+.98)LVLDH        NPVNLVLDH"
      ]
     },
     "execution_count": 10,
     "metadata": {},
     "output_type": "execute_result"
    }
   ],
   "source": [
    "# take all lines if they contain deamindated asparagines and make new df\n",
    "\n",
    "keep= [\"N\\(\\+.98\"]\n",
    "\n",
    "N_deam_332 = all_332[all_332.Peptide.str.contains('|'.join(keep))]\n",
    "\n",
    "# now strip the special characters of the modification\n",
    "\n",
    "N_deam_332['stripped_peptide'] = N_deam_332['Peptide'].str.replace(r\"\\(.*\\)\",\"\").drop_duplicates()\n",
    "\n",
    "print('Number of deamidated asparagine peptides:', len(N_deam_332))\n",
    "\n",
    "# keep only stripped peptide column\n",
    "ndeam_332_sp = N_deam_332[[\"stripped_peptide\"]].dropna()\n",
    "\n",
    "# write to txt file\n",
    "\n",
    "ndeam_332_sp.to_csv('332-T12-combined-n-deam-stripped-peptides.txt', header=False, index=False)\n",
    "\n",
    "N_deam_332.head()"
   ]
  },
  {
   "cell_type": "code",
   "execution_count": 11,
   "metadata": {},
   "outputs": [
    {
     "name": "stdout",
     "output_type": "stream",
     "text": [
      "Number of lysine acetylation peptides: 174\n"
     ]
    },
    {
     "name": "stderr",
     "output_type": "stream",
     "text": [
      "<ipython-input-11-4a0f1fcead9f>:9: SettingWithCopyWarning: \n",
      "A value is trying to be set on a copy of a slice from a DataFrame.\n",
      "Try using .loc[row_indexer,col_indexer] = value instead\n",
      "\n",
      "See the caveats in the documentation: https://pandas.pydata.org/pandas-docs/stable/user_guide/indexing.html#returning-a-view-versus-a-copy\n",
      "  K_acet_332['stripped_peptide'] = K_acet_332['Peptide'].str.replace(r\"\\(.*\\)\",\"\").drop_duplicates()\n"
     ]
    },
    {
     "data": {
      "text/html": [
       "<div>\n",
       "<style scoped>\n",
       "    .dataframe tbody tr th:only-of-type {\n",
       "        vertical-align: middle;\n",
       "    }\n",
       "\n",
       "    .dataframe tbody tr th {\n",
       "        vertical-align: top;\n",
       "    }\n",
       "\n",
       "    .dataframe thead th {\n",
       "        text-align: right;\n",
       "    }\n",
       "</style>\n",
       "<table border=\"1\" class=\"dataframe\">\n",
       "  <thead>\n",
       "    <tr style=\"text-align: right;\">\n",
       "      <th></th>\n",
       "      <th>Peptide</th>\n",
       "      <th>stripped_peptide</th>\n",
       "    </tr>\n",
       "  </thead>\n",
       "  <tbody>\n",
       "    <tr>\n",
       "      <th>3</th>\n",
       "      <td>DPN(+.98)LPLK(+42.01)H</td>\n",
       "      <td>DPNH</td>\n",
       "    </tr>\n",
       "    <tr>\n",
       "      <th>23</th>\n",
       "      <td>K(+42.01)LLLPK</td>\n",
       "      <td>KLLLPK</td>\n",
       "    </tr>\n",
       "    <tr>\n",
       "      <th>26</th>\n",
       "      <td>NVGK(+42.01)LLLPK</td>\n",
       "      <td>NVGKLLLPK</td>\n",
       "    </tr>\n",
       "    <tr>\n",
       "      <th>37</th>\n",
       "      <td>VGK(+42.01)LLLPK</td>\n",
       "      <td>VGKLLLPK</td>\n",
       "    </tr>\n",
       "    <tr>\n",
       "      <th>43</th>\n",
       "      <td>TTM(+15.99)DEK(+42.01)TT</td>\n",
       "      <td>TTMTT</td>\n",
       "    </tr>\n",
       "  </tbody>\n",
       "</table>\n",
       "</div>"
      ],
      "text/plain": [
       "                     Peptide stripped_peptide\n",
       "3     DPN(+.98)LPLK(+42.01)H             DPNH\n",
       "23            K(+42.01)LLLPK           KLLLPK\n",
       "26         NVGK(+42.01)LLLPK        NVGKLLLPK\n",
       "37          VGK(+42.01)LLLPK         VGKLLLPK\n",
       "43  TTM(+15.99)DEK(+42.01)TT            TTMTT"
      ]
     },
     "execution_count": 11,
     "metadata": {},
     "output_type": "execute_result"
    }
   ],
   "source": [
    "# take all lines if they contain lysine acetylations and make new df\n",
    "\n",
    "keep= [\"K\\(\\+42.01\"]\n",
    "\n",
    "K_acet_332 = all_332[all_332.Peptide.str.contains('|'.join(keep))]\n",
    "\n",
    "# now strip the special characters of the modification\n",
    "\n",
    "K_acet_332['stripped_peptide'] = K_acet_332['Peptide'].str.replace(r\"\\(.*\\)\",\"\").drop_duplicates()\n",
    "\n",
    "print('Number of lysine acetylation peptides:', len(K_acet_332))\n",
    "\n",
    "# keep only stripped peptide column\n",
    "kacet_332_sp = K_acet_332[[\"stripped_peptide\"]].dropna()\n",
    "\n",
    "# write to txt file\n",
    "\n",
    "kacet_332_sp.to_csv('332-T12-combined-k-acet-stripped-peptides.txt', header=False, index=False)\n",
    "\n",
    "K_acet_332.head()"
   ]
  },
  {
   "cell_type": "code",
   "execution_count": 12,
   "metadata": {},
   "outputs": [
    {
     "name": "stdout",
     "output_type": "stream",
     "text": [
      "Number of deamidated asparagine peptides: 130\n"
     ]
    },
    {
     "name": "stderr",
     "output_type": "stream",
     "text": [
      "<ipython-input-12-053dd0bfa105>:9: SettingWithCopyWarning: \n",
      "A value is trying to be set on a copy of a slice from a DataFrame.\n",
      "Try using .loc[row_indexer,col_indexer] = value instead\n",
      "\n",
      "See the caveats in the documentation: https://pandas.pydata.org/pandas-docs/stable/user_guide/indexing.html#returning-a-view-versus-a-copy\n",
      "  R_meth_332['stripped_peptide'] = R_meth_332['Peptide'].str.replace(r\"\\(.*\\)\",\"\").drop_duplicates()\n"
     ]
    },
    {
     "data": {
      "text/html": [
       "<div>\n",
       "<style scoped>\n",
       "    .dataframe tbody tr th:only-of-type {\n",
       "        vertical-align: middle;\n",
       "    }\n",
       "\n",
       "    .dataframe tbody tr th {\n",
       "        vertical-align: top;\n",
       "    }\n",
       "\n",
       "    .dataframe thead th {\n",
       "        text-align: right;\n",
       "    }\n",
       "</style>\n",
       "<table border=\"1\" class=\"dataframe\">\n",
       "  <thead>\n",
       "    <tr style=\"text-align: right;\">\n",
       "      <th></th>\n",
       "      <th>Peptide</th>\n",
       "      <th>stripped_peptide</th>\n",
       "    </tr>\n",
       "  </thead>\n",
       "  <tbody>\n",
       "    <tr>\n",
       "      <th>68</th>\n",
       "      <td>R(+14.02)PLVVLK</td>\n",
       "      <td>RPLVVLK</td>\n",
       "    </tr>\n",
       "    <tr>\n",
       "      <th>78</th>\n",
       "      <td>TTTLR(+14.02)DL</td>\n",
       "      <td>TTTLRDL</td>\n",
       "    </tr>\n",
       "    <tr>\n",
       "      <th>82</th>\n",
       "      <td>R(+14.02)KPMPPL</td>\n",
       "      <td>RKPMPPL</td>\n",
       "    </tr>\n",
       "    <tr>\n",
       "      <th>93</th>\n",
       "      <td>R(+14.02)DDVLAK</td>\n",
       "      <td>RDDVLAK</td>\n",
       "    </tr>\n",
       "    <tr>\n",
       "      <th>241</th>\n",
       "      <td>R(+14.02)TELGKL</td>\n",
       "      <td>RTELGKL</td>\n",
       "    </tr>\n",
       "  </tbody>\n",
       "</table>\n",
       "</div>"
      ],
      "text/plain": [
       "             Peptide stripped_peptide\n",
       "68   R(+14.02)PLVVLK          RPLVVLK\n",
       "78   TTTLR(+14.02)DL          TTTLRDL\n",
       "82   R(+14.02)KPMPPL          RKPMPPL\n",
       "93   R(+14.02)DDVLAK          RDDVLAK\n",
       "241  R(+14.02)TELGKL          RTELGKL"
      ]
     },
     "execution_count": 12,
     "metadata": {},
     "output_type": "execute_result"
    }
   ],
   "source": [
    "# take all lines if they contain methylated arginines and make new df\n",
    "\n",
    "keep= [\"R\\(\\+14.02\"]\n",
    "\n",
    "R_meth_332 = all_332[all_332.Peptide.str.contains('|'.join(keep))]\n",
    "\n",
    "# now strip the special characters of the modification\n",
    "\n",
    "R_meth_332['stripped_peptide'] = R_meth_332['Peptide'].str.replace(r\"\\(.*\\)\",\"\").drop_duplicates()\n",
    "\n",
    "print('Number of deamidated asparagine peptides:', len(R_meth_332))\n",
    "\n",
    "# keep only stripped peptide column\n",
    "rmeth_332_sp = R_meth_332[[\"stripped_peptide\"]].dropna()\n",
    "\n",
    "# write to txt file\n",
    "\n",
    "rmeth_332_sp.to_csv('332-T12-combined-r-meth-stripped-peptides.txt', header=False, index=False)\n",
    "\n",
    "R_meth_332.head()"
   ]
  }
 ],
 "metadata": {
  "kernelspec": {
   "display_name": "Python 3",
   "language": "python",
   "name": "python3"
  },
  "language_info": {
   "codemirror_mode": {
    "name": "ipython",
    "version": 3
   },
   "file_extension": ".py",
   "mimetype": "text/x-python",
   "name": "python",
   "nbconvert_exporter": "python",
   "pygments_lexer": "ipython3",
   "version": "3.8.3"
  }
 },
 "nbformat": 4,
 "nbformat_minor": 4
}
