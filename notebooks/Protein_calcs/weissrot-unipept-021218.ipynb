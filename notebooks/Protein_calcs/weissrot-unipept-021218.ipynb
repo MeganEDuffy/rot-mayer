{
 "cells": [
  {
   "cell_type": "code",
   "execution_count": 1,
   "metadata": {
    "collapsed": false
   },
   "outputs": [
    {
     "name": "stdout",
     "output_type": "stream",
     "text": [
      "Mon Feb 12 09:12:17 PST 2018\r\n"
     ]
    }
   ],
   "source": [
    "!date"
   ]
  },
  {
   "cell_type": "code",
   "execution_count": 2,
   "metadata": {
    "collapsed": false
   },
   "outputs": [
    {
     "name": "stdout",
     "output_type": "stream",
     "text": [
      "020818-d12-peps-nomod 3.csv\r\n",
      "020818-d12-peps-nomod 4.csv\r\n",
      "020818-d12-peps-nomod-comb.txt\r\n",
      "020818-d12-peps-nomod.csv\r\n",
      "020818-d12-peps.csv\r\n",
      "020818-d12-peptides.csv\r\n",
      "020818-d5-peps-nomod 3.csv\r\n",
      "020818-d5-peps-nomod-comb.txt\r\n",
      "020818-d5-peps-nomod.csv\r\n",
      "020818-d5-peps.csv\r\n",
      "020818-d5-peptides.csv\r\n",
      "111717-d0-denovo.csv\r\n",
      "111717-d0-peps-nomod 3.csv\r\n",
      "111717-d0-peps-nomod-comb.csv\r\n",
      "111717-d0-peps-nomod-comb.txt\r\n",
      "111717-d0-peps-nomod.csv\r\n",
      "111717-d0-peps.csv\r\n",
      "111717-d0-peptides.csv\r\n",
      "111717-d2-peps-nomod 2.csv\r\n",
      "111717-d2-peps-nomod 4.csv\r\n",
      "111717-d2-peps-nomod-comb.csv\r\n",
      "111717-d2-peps-nomod-comb.txt\r\n",
      "111717-d2-peps-nomod.csv\r\n",
      "111717-d2-peps.csv\r\n",
      "111717-d2-peptides.csv\r\n",
      "weissrot_dn-tryp-d0-peptides-nm-comb.txt\r\n",
      "weissrot_dn-tryp-d2-peptides-nm-comb.txt\r\n"
     ]
    }
   ],
   "source": [
    "#uploaded 111718 d0 de novo only PEAKS export: tryptic search against T. weiss uniprot db\n",
    "!ls /Users/meganduffy/Documents/git-repos/rot-mayer/data/"
   ]
  },
  {
   "cell_type": "code",
   "execution_count": 4,
   "metadata": {
    "collapsed": false
   },
   "outputs": [
    {
     "name": "stdout",
     "output_type": "stream",
     "text": [
      "Fraction,Scan,Source File,Peptide,Tag Length,ALC (%),length,m/z,z,RT,Area,Mass,ppm,Accession,PTM,local confidence (%),tag (>=0%),mode\r",
      "\r\n"
     ]
    }
   ],
   "source": [
    "#pretty sure the peptides are in column 4\n",
    "\n",
    "!head -1 /Users/meganduffy/Documents/git-repos/rot-mayer/data/111717-d0-denovo.csv"
   ]
  },
  {
   "cell_type": "code",
   "execution_count": 5,
   "metadata": {
    "collapsed": true
   },
   "outputs": [],
   "source": [
    "#using awk to extract column 4 into new file\n",
    "\n",
    "!awk -F \"\\\"*,\\\"*\" '{print $4}' /Users/meganduffy/Documents/git-repos/rot-mayer/data/111717-d0-denovo.csv \\\n",
    "> /Users/meganduffy/Documents/git-repos/rot-mayer/data/111717-d0-denovo-peps.csv"
   ]
  },
  {
   "cell_type": "code",
   "execution_count": 7,
   "metadata": {
    "collapsed": false
   },
   "outputs": [
    {
     "name": "stdout",
     "output_type": "stream",
     "text": [
      "Peptide\r\n",
      "C(+57.02)ATVSLPR\r\n",
      "TPLLMENK\r\n",
      "AAFVKNK\r\n",
      "VVTADLPR\r\n",
      "TALTC(+57.02)MHK\r\n",
      "EVAVPEYK\r\n",
      "MLAC(+57.02)LPR\r\n",
      "FMLEDENK\r\n",
      "VSVKNK\r\n"
     ]
    }
   ],
   "source": [
    "!head /Users/meganduffy/Documents/git-repos/rot-mayer/data/111717-d0-denovo-peps.csv"
   ]
  },
  {
   "cell_type": "code",
   "execution_count": 11,
   "metadata": {
    "collapsed": true
   },
   "outputs": [],
   "source": [
    "# remove '(+15.99)' and '(+57.02)' and '(0.98)' from sequences\n",
    "# rewrite to more descriptive file name (that includes 'peaks')\n",
    "!cat /Users/meganduffy/Documents/git-repos/rot-mayer/data/111717-d0-denovo-peps.csv \\\n",
    "| sed 's/(+15.99)//g' \\\n",
    "| sed 's/(+57.02)//g'\\\n",
    "| sed 's/(+.98)//g'\\\n",
    "> /Users/meganduffy/Documents/git-repos/rot-mayer/data/111717-d0-denovo-peps-nomod.txt"
   ]
  },
  {
   "cell_type": "code",
   "execution_count": 12,
   "metadata": {
    "collapsed": false
   },
   "outputs": [
    {
     "name": "stdout",
     "output_type": "stream",
     "text": [
      "Peptide\r\n",
      "CATVSLPR\r\n",
      "TPLLMENK\r\n",
      "AAFVKNK\r\n",
      "VVTADLPR\r\n",
      "TALTCMHK\r\n",
      "EVAVPEYK\r\n",
      "MLACLPR\r\n",
      "FMLEDENK\r\n",
      "VSVKNK\r\n"
     ]
    }
   ],
   "source": [
    "!head /Users/meganduffy/Documents/git-repos/rot-mayer/data/111717-d0-denovo-peps-nomod.txt"
   ]
  },
  {
   "cell_type": "markdown",
   "metadata": {},
   "source": [
    "I put into Unipept"
   ]
  },
  {
   "cell_type": "code",
   "execution_count": 13,
   "metadata": {
    "collapsed": false
   },
   "outputs": [
    {
     "name": "stdout",
     "output_type": "stream",
     "text": [
      "    5120 /Users/meganduffy/Documents/git-repos/rot-mayer/data/111717-d0-denovo-peps-nomod.txt\r\n"
     ]
    }
   ],
   "source": [
    "!wc -l /Users/meganduffy/Documents/git-repos/rot-mayer/data/111717-d0-denovo-peps-nomod.txt"
   ]
  },
  {
   "cell_type": "code",
   "execution_count": null,
   "metadata": {
    "collapsed": true
   },
   "outputs": [],
   "source": []
  }
 ],
 "metadata": {
  "anaconda-cloud": {},
  "kernelspec": {
   "display_name": "Python [default]",
   "language": "python",
   "name": "python3"
  },
  "language_info": {
   "codemirror_mode": {
    "name": "ipython",
    "version": 3
   },
   "file_extension": ".py",
   "mimetype": "text/x-python",
   "name": "python",
   "nbconvert_exporter": "python",
   "pygments_lexer": "ipython3",
   "version": "3.5.2"
  }
 },
 "nbformat": 4,
 "nbformat_minor": 1
}
