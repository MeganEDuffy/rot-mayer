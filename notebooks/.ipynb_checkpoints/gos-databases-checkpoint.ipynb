{
 "cells": [
  {
   "cell_type": "code",
   "execution_count": 1,
   "metadata": {
    "collapsed": false
   },
   "outputs": [
    {
     "name": "stdout",
     "output_type": "stream",
     "text": [
      "Mon Jul 23 22:35:58 PDT 2018\r\n"
     ]
    }
   ],
   "source": [
    "!date"
   ]
  },
  {
   "cell_type": "code",
   "execution_count": 2,
   "metadata": {
    "collapsed": false
   },
   "outputs": [
    {
     "data": {
      "text/plain": [
       "'/Users/meganduffy/Documents/git-repos/rot-mayer/notebooks'"
      ]
     },
     "execution_count": 2,
     "metadata": {},
     "output_type": "execute_result"
    }
   ],
   "source": [
    "pwd"
   ]
  },
  {
   "cell_type": "code",
   "execution_count": 12,
   "metadata": {
    "collapsed": false
   },
   "outputs": [
    {
     "name": "stdout",
     "output_type": "stream",
     "text": [
      "/Users/meganduffy/Documents/git-repos/rot-mayer/data/databases/GOS\n"
     ]
    }
   ],
   "source": [
    "cd /Users/meganduffy/Documents/git-repos/rot-mayer/data/databases/GOS/"
   ]
  },
  {
   "cell_type": "code",
   "execution_count": 16,
   "metadata": {
    "collapsed": false
   },
   "outputs": [
    {
     "name": "stdout",
     "output_type": "stream",
     "text": [
      "gos002+gos003_hi3\r\n"
     ]
    }
   ],
   "source": [
    "ls"
   ]
  },
  {
   "cell_type": "code",
   "execution_count": 20,
   "metadata": {
    "collapsed": false
   },
   "outputs": [],
   "source": [
    "# remove '*' \n",
    "# rewrite to more descriptive file name \n",
    "!sed 's/*//g' gos002+gos003_hi3 \\\n",
    "> gos002+gos003_hi3_noas.fasta"
   ]
  },
  {
   "cell_type": "code",
   "execution_count": 21,
   "metadata": {
    "collapsed": false
   },
   "outputs": [
    {
     "name": "stdout",
     "output_type": "stream",
     "text": [
      ">JCVI_READ_1095945109187_1 # 432 # 623 # 1 # ID=1_1;partial=00;start_type=ATG;rbs_motif=None;rbs_spacer=None;gc_cont=0.271\r\n",
      "MSFRAFVVSSSLPGFIISVIADGSIFKIKFFKLSAAEAPAALIKNSLSSLIFPSTIKIFK\r\n",
      "SLI\r\n",
      ">JCVI_READ_1095945109187_2 # 616 # 918 # -1 # ID=1_2;partial=00;start_type=ATG;rbs_motif=TAA;rbs_spacer=10bp;gc_cont=0.284\r\n",
      "MPYVLTFNKDVIEKKIIKICDYLELKDRSFDGFVNWVLDLRKKLDMPHKLSEVIDEKDFD\r\n",
      "IDRLSKMALADPSTGGNPKKLTEDDMRIMYQNSMTGELFK\r\n",
      ">JCVI_READ_1095901577270_1 # 71 # 454 # 1 # ID=2_1;partial=00;start_type=ATG;rbs_motif=None;rbs_spacer=None;gc_cont=0.417\r\n",
      "MWFSAIKLAVSAGSKIYANKQKTKMAMSDAQLMHASRMAEGKEAYQGKLLEARQSDWKDE\r\n",
      "AVLIILSLPVVILAWAVVSEDPTAMDKVKLFFDMFSQLPSWFTNLWILVVASIYGIKGTQ\r\n",
      "IFKGGKK\r\n"
     ]
    }
   ],
   "source": [
    "!head gos002+gos003_hi3_noas.fasta"
   ]
  },
  {
   "cell_type": "markdown",
   "metadata": {},
   "source": [
    "Seems to work in PEAKS! Validated!"
   ]
  },
  {
   "cell_type": "code",
   "execution_count": null,
   "metadata": {
    "collapsed": true
   },
   "outputs": [],
   "source": []
  }
 ],
 "metadata": {
  "anaconda-cloud": {},
  "kernelspec": {
   "display_name": "Python [default]",
   "language": "python",
   "name": "python3"
  },
  "language_info": {
   "codemirror_mode": {
    "name": "ipython",
    "version": 3
   },
   "file_extension": ".py",
   "mimetype": "text/x-python",
   "name": "python",
   "nbconvert_exporter": "python",
   "pygments_lexer": "ipython3",
   "version": "3.5.2"
  }
 },
 "nbformat": 4,
 "nbformat_minor": 1
}
