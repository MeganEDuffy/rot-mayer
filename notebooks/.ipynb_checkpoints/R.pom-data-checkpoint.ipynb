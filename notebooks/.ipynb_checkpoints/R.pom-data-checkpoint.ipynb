{
 "cells": [
  {
   "attachments": {},
   "cell_type": "markdown",
   "metadata": {},
   "source": [
    "## Downloading _R. pom._ peptide data from PRIDE\n",
    "\n",
    "### So we can compare UniPept GO terms from peptide input to algae rot bacterial GO term distributions\n",
    "\n",
    "### Data come from [Krayushkina et al., 2019](https://www-ncbi-nlm-nih-gov.offcampus.lib.washington.edu/pmc/articles/PMC6890736/): Growth phase proteomics of the heterotrophic marine bacterium Ruegeria pomeroyi in _Sci. Data_.\n",
    "\n",
    "### All proteomics data are available via the ProteomeXchange Consortium via the [PRIDE](https://www.ebi.ac.uk/pride/) partner repository, accession number PXD008661\n",
    "\n",
    "#### First, using `wget` to download the following pep.xml files from PRIDE's FTR server:\n",
    "\n",
    " - 2013_July_15_Faux_25\tgrowth\tearly\texponential\n"
   ]
  },
  {
   "cell_type": "code",
   "execution_count": 14,
   "metadata": {},
   "outputs": [
    {
     "name": "stdout",
     "output_type": "stream",
     "text": [
      "--2021-04-20 16:59:58--  http://ftp.pride.ebi.ac.uk/pride/data/archive/2019/07/PXD008661/2013_July_15_Faux_25.pep.xml\n",
      "Resolving ftp.pride.ebi.ac.uk (ftp.pride.ebi.ac.uk)... 193.62.197.74\n",
      "Connecting to ftp.pride.ebi.ac.uk (ftp.pride.ebi.ac.uk)|193.62.197.74|:80... connected.\n",
      "HTTP request sent, awaiting response... 200 OK\n",
      "Length: 177665675 (169M) [text/xml]\n",
      "Saving to: ‘ftp.pride.ebi.ac.uk/pride/data/archive/2019/07/PXD008661/2013_July_15_Faux_25.pep.xml’\n",
      "\n",
      "ftp.pride.ebi.ac.uk  18%[==>                 ]  31.26M  --.-KB/s    in 3m 18s  \n",
      "\n",
      "2021-04-20 17:03:17 (162 KB/s) - Read error at byte 32781256/177665675 (Connection reset by peer). Retrying.\n",
      "\n",
      "--2021-04-20 17:03:18--  (try: 2)  http://ftp.pride.ebi.ac.uk/pride/data/archive/2019/07/PXD008661/2013_July_15_Faux_25.pep.xml\n",
      "Connecting to ftp.pride.ebi.ac.uk (ftp.pride.ebi.ac.uk)|193.62.197.74|:80... connected.\n",
      "HTTP request sent, awaiting response... 206 Partial Content\n",
      "Length: 177665675 (169M), 144884419 (138M) remaining [text/xml]\n",
      "Saving to: ‘ftp.pride.ebi.ac.uk/pride/data/archive/2019/07/PXD008661/2013_July_15_Faux_25.pep.xml’\n",
      "\n",
      "ftp.pride.ebi.ac.uk  59%[+++=======>         ]  99.98M   225KB/s    in 5m 12s  \n",
      "\n",
      "2021-04-20 17:08:30 (226 KB/s) - Connection closed at byte 104835327. Retrying.\n",
      "\n",
      "--2021-04-20 17:08:32--  (try: 3)  http://ftp.pride.ebi.ac.uk/pride/data/archive/2019/07/PXD008661/2013_July_15_Faux_25.pep.xml\n",
      "Connecting to ftp.pride.ebi.ac.uk (ftp.pride.ebi.ac.uk)|193.62.197.74|:80... connected.\n",
      "HTTP request sent, awaiting response... 206 Partial Content\n",
      "Length: 177665675 (169M), 72830348 (69M) remaining [text/xml]\n",
      "Saving to: ‘ftp.pride.ebi.ac.uk/pride/data/archive/2019/07/PXD008661/2013_July_15_Faux_25.pep.xml’\n",
      "\n",
      "ftp.pride.ebi.ac.uk  90%[+++++++++++======>  ] 152.88M   246KB/s    in 5m 29s  \n",
      "\n",
      "2021-04-20 17:14:02 (165 KB/s) - Connection closed at byte 160306795. Retrying.\n",
      "\n",
      "--2021-04-20 17:14:05--  (try: 4)  http://ftp.pride.ebi.ac.uk/pride/data/archive/2019/07/PXD008661/2013_July_15_Faux_25.pep.xml\n",
      "Connecting to ftp.pride.ebi.ac.uk (ftp.pride.ebi.ac.uk)|193.62.197.74|:80... connected.\n",
      "HTTP request sent, awaiting response... 206 Partial Content\n",
      "Length: 177665675 (169M), 17358880 (17M) remaining [text/xml]\n",
      "Saving to: ‘ftp.pride.ebi.ac.uk/pride/data/archive/2019/07/PXD008661/2013_July_15_Faux_25.pep.xml’\n",
      "\n",
      "ftp.pride.ebi.ac.uk 100%[++++++++++++++++++=>] 169.43M   132KB/s    in 99s     \n",
      "\n",
      "2021-04-20 17:15:44 (171 KB/s) - ‘ftp.pride.ebi.ac.uk/pride/data/archive/2019/07/PXD008661/2013_July_15_Faux_25.pep.xml’ saved [177665675/177665675]\n",
      "\n",
      "FINISHED --2021-04-20 17:15:44--\n",
      "Total wall clock time: 15m 46s\n",
      "Downloaded: 1 files, 17M in 15m 38s (18.1 KB/s)\n"
     ]
    }
   ],
   "source": [
    "!wget -r ftp.pride.ebi.ac.uk/pride/data/archive/2019/07/PXD008661/2013_July_15_Faux_25.pep.xml"
   ]
  },
  {
   "cell_type": "markdown",
   "metadata": {},
   "source": [
    "### Kind of a big file - exporting to my Windows machine with Peaks"
   ]
  },
  {
   "cell_type": "code",
   "execution_count": null,
   "metadata": {},
   "outputs": [],
   "source": []
  }
 ],
 "metadata": {
  "kernelspec": {
   "display_name": "Python 3",
   "language": "python",
   "name": "python3"
  },
  "language_info": {
   "codemirror_mode": {
    "name": "ipython",
    "version": 3
   },
   "file_extension": ".py",
   "mimetype": "text/x-python",
   "name": "python",
   "nbconvert_exporter": "python",
   "pygments_lexer": "ipython3",
   "version": "3.8.3"
  }
 },
 "nbformat": 4,
 "nbformat_minor": 4
}
